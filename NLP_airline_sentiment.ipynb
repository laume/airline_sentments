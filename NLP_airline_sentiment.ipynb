{
  "nbformat": 4,
  "nbformat_minor": 0,
  "metadata": {
    "colab": {
      "name": "NLP_airline_sentiment.ipynb",
      "provenance": [],
      "collapsed_sections": [],
      "toc_visible": true,
      "include_colab_link": true
    },
    "kernelspec": {
      "name": "python3",
      "display_name": "Python 3"
    },
    "accelerator": "GPU"
  },
  "cells": [
    {
      "cell_type": "markdown",
      "metadata": {
        "id": "view-in-github",
        "colab_type": "text"
      },
      "source": [
        "<a href=\"https://colab.research.google.com/github/laume/airline_sentments/blob/master/NLP_airline_sentiment.ipynb\" target=\"_parent\"><img src=\"https://colab.research.google.com/assets/colab-badge.svg\" alt=\"Open In Colab\"/></a>"
      ]
    },
    {
      "cell_type": "markdown",
      "metadata": {
        "id": "Y1WY7c3J84Du",
        "colab_type": "text"
      },
      "source": [
        "![alt text](https://storage.googleapis.com/kaggle-datasets-images/36308/54852/c377118a238f7584f561b5a6fd37d303/dataset-cover.jpg?t=2018-07-12-20-05-21)\n",
        "## Airline sentiment tweets\n",
        "## U.S Airline Tweets for sentiment analysis\n",
        "\n",
        "https://www.kaggle.com/tango911/airline-sentiment-tweets"
      ]
    },
    {
      "cell_type": "markdown",
      "metadata": {
        "id": "L7db2xRwlwhO",
        "colab_type": "text"
      },
      "source": [
        "## Prepare environment"
      ]
    },
    {
      "cell_type": "markdown",
      "metadata": {
        "id": "D_0vw0jTnJuR",
        "colab_type": "text"
      },
      "source": [
        "### Setup Kaggle variables:"
      ]
    },
    {
      "cell_type": "code",
      "metadata": {
        "id": "R4zyLHB6nLE2",
        "colab_type": "code",
        "colab": {}
      },
      "source": [
        "SETUP = True\n",
        "KAGGLE = True\n",
        "COMPETITION = 'kaggle datasets download -d tango911/airline-sentiment-tweets'\n",
        "DATA_DIR = 'data/airlines'\n",
        "UNARCHIVE_DATA = False"
      ],
      "execution_count": 0,
      "outputs": []
    },
    {
      "cell_type": "markdown",
      "metadata": {
        "id": "rM6vjOT3Xp22",
        "colab_type": "text"
      },
      "source": [
        "### Install libraries and perform setup"
      ]
    },
    {
      "cell_type": "code",
      "metadata": {
        "id": "U09eDyxV1d7b",
        "colab_type": "code",
        "outputId": "496fa0c8-0268-46a8-d279-10787247e6ae",
        "colab": {
          "base_uri": "https://localhost:8080/",
          "height": 415
        }
      },
      "source": [
        "if SETUP:\n",
        "    !pip install --upgrade --quiet dlai\n",
        "    !pip install -q -U toai\n",
        "    !pip install -q -U nb_black\n",
        "    !pip install -q -U tensorflow-datasets\n",
        "    !pip install -q -U --no-deps tensorflow-addons~=0.6\n",
        "    print(__import__(\"toai\").__version__)\n",
        "    print(f'dlai version: {__import__(\"dlai\").__version__}, tf version: {__import__(\"tensorflow\").__version__}')"
      ],
      "execution_count": 2,
      "outputs": [
        {
          "output_type": "stream",
          "text": [
            "\u001b[K     |████████████████████████████████| 380.8MB 46kB/s \n",
            "\u001b[K     |████████████████████████████████| 3.8MB 48.7MB/s \n",
            "\u001b[K     |████████████████████████████████| 450kB 48.2MB/s \n",
            "\u001b[K     |████████████████████████████████| 81kB 9.1MB/s \n",
            "\u001b[?25h  Building wheel for dlai (setup.py) ... \u001b[?25l\u001b[?25hdone\n",
            "\u001b[31mERROR: tensorflow 1.15.0 has requirement tensorboard<1.16.0,>=1.15.0, but you'll have tensorboard 2.0.1 which is incompatible.\u001b[0m\n",
            "\u001b[31mERROR: tensorflow 1.15.0 has requirement tensorflow-estimator==1.15.1, but you'll have tensorflow-estimator 2.0.1 which is incompatible.\u001b[0m\n",
            "\u001b[31mERROR: tensorboard 2.0.1 has requirement grpcio>=1.24.3, but you'll have grpcio 1.15.0 which is incompatible.\u001b[0m\n",
            "\u001b[31mERROR: google-colab 1.0.0 has requirement google-auth~=1.4.0, but you'll have google-auth 1.7.1 which is incompatible.\u001b[0m\n",
            "\u001b[K     |████████████████████████████████| 153kB 10.0MB/s \n",
            "\u001b[K     |████████████████████████████████| 296kB 39.0MB/s \n",
            "\u001b[K     |████████████████████████████████| 81kB 9.6MB/s \n",
            "\u001b[K     |████████████████████████████████| 61kB 7.3MB/s \n",
            "\u001b[?25h  Building wheel for fastparquet (setup.py) ... \u001b[?25l\u001b[?25hdone\n",
            "  Building wheel for thrift (setup.py) ... \u001b[?25l\u001b[?25hdone\n",
            "\u001b[K     |████████████████████████████████| 102kB 5.5MB/s \n",
            "\u001b[K     |████████████████████████████████| 737kB 37.5MB/s \n",
            "\u001b[K     |████████████████████████████████| 645kB 44.2MB/s \n",
            "\u001b[?25h  Building wheel for nb-black (setup.py) ... \u001b[?25l\u001b[?25hdone\n",
            "  Building wheel for pathspec (setup.py) ... \u001b[?25l\u001b[?25hdone\n",
            "\u001b[K     |████████████████████████████████| 1.8MB 6.6MB/s \n",
            "\u001b[?25h0.2.5\n",
            "dlai version: 0.0.16, tf version: 2.0.0\n"
          ],
          "name": "stdout"
        }
      ]
    },
    {
      "cell_type": "code",
      "metadata": {
        "id": "_bKTqVqOzcTQ",
        "colab_type": "code",
        "outputId": "3aca1e7d-77cd-42df-bf74-fde3a4eabdcb",
        "colab": {
          "base_uri": "https://localhost:8080/",
          "height": 102
        }
      },
      "source": [
        "import dlai\n",
        "from dlai.imports import *\n",
        "from toai.imports import *\n",
        "from toai.data import DataBundle, DataParams, DataContainer\n",
        "from toai.metrics import sparse_top_2_categorical_accuracy\n",
        "import tensorflow as tf\n",
        "from tensorflow import keras\n",
        "import tensorflow_addons as tfa\n",
        "import tensorflow_datasets as tfds\n",
        "from toai.data.utils import balance_df_labels"
      ],
      "execution_count": 3,
      "outputs": [
        {
          "output_type": "stream",
          "text": [
            "/usr/local/lib/python3.6/dist-packages/sklearn/externals/joblib/__init__.py:15: DeprecationWarning: sklearn.externals.joblib is deprecated in 0.21 and will be removed in 0.23. Please import this functionality directly from joblib, which can be installed with: pip install joblib. If this warning is raised when loading pickled models, you may need to re-serialize those models with scikit-learn 0.21+.\n",
            "  warnings.warn(msg, category=DeprecationWarning)\n",
            "/usr/local/lib/python3.6/dist-packages/toai/imports.py:70: UserWarning: Could not find kaggle.json. Make sure it's located in /root/.kaggle. Or use the environment method.\n",
            "  warnings.warn(str(error))\n"
          ],
          "name": "stderr"
        }
      ]
    },
    {
      "cell_type": "code",
      "metadata": {
        "id": "mdZZ8vaUXMSQ",
        "colab_type": "code",
        "colab": {}
      },
      "source": [
        "%load_ext autoreload\n",
        "%autoreload 2"
      ],
      "execution_count": 0,
      "outputs": []
    },
    {
      "cell_type": "code",
      "metadata": {
        "id": "Eaii262EH0ca",
        "colab_type": "code",
        "colab": {}
      },
      "source": [
        "%matplotlib inline"
      ],
      "execution_count": 0,
      "outputs": []
    },
    {
      "cell_type": "code",
      "metadata": {
        "id": "O6sDo1KCSOLi",
        "colab_type": "code",
        "colab": {}
      },
      "source": [
        "if KAGGLE:\n",
        "    setup_kaggle()\n",
        "    download_kaggle_data(COMPETITION, DATA_DIR)"
      ],
      "execution_count": 0,
      "outputs": []
    },
    {
      "cell_type": "code",
      "metadata": {
        "id": "7v3e3dZVGgoF",
        "colab_type": "code",
        "outputId": "bba0e1b6-5e59-48a1-d543-d8ad82a14561",
        "colab": {
          "base_uri": "https://localhost:8080/",
          "height": 32
        }
      },
      "source": [
        "!ls {DATA_DIR}"
      ],
      "execution_count": 9,
      "outputs": [
        {
          "output_type": "stream",
          "text": [
            "train.csv\n"
          ],
          "name": "stdout"
        }
      ]
    },
    {
      "cell_type": "code",
      "metadata": {
        "id": "dV8UTTEz5r8-",
        "colab_type": "code",
        "colab": {}
      },
      "source": [
        "DATA_DIR = Path(DATA_DIR)"
      ],
      "execution_count": 0,
      "outputs": []
    },
    {
      "cell_type": "markdown",
      "metadata": {
        "id": "W6jkX70LRcXV",
        "colab_type": "text"
      },
      "source": [
        "## Explore the data"
      ]
    },
    {
      "cell_type": "code",
      "metadata": {
        "id": "yYVgq63IRgid",
        "colab_type": "code",
        "colab": {}
      },
      "source": [
        "df = pd.read_csv(DATA_DIR/'train.csv')"
      ],
      "execution_count": 0,
      "outputs": []
    },
    {
      "cell_type": "code",
      "metadata": {
        "id": "Ext2sLmdbRiW",
        "colab_type": "code",
        "outputId": "fda0b51d-8ae9-4d90-d1c1-3dc522d43d22",
        "colab": {
          "base_uri": "https://localhost:8080/",
          "height": 430
        }
      },
      "source": [
        "df.head(3).T"
      ],
      "execution_count": 12,
      "outputs": [
        {
          "output_type": "execute_result",
          "data": {
            "text/html": [
              "<div>\n",
              "<style scoped>\n",
              "    .dataframe tbody tr th:only-of-type {\n",
              "        vertical-align: middle;\n",
              "    }\n",
              "\n",
              "    .dataframe tbody tr th {\n",
              "        vertical-align: top;\n",
              "    }\n",
              "\n",
              "    .dataframe thead th {\n",
              "        text-align: right;\n",
              "    }\n",
              "</style>\n",
              "<table border=\"1\" class=\"dataframe\">\n",
              "  <thead>\n",
              "    <tr style=\"text-align: right;\">\n",
              "      <th></th>\n",
              "      <th>0</th>\n",
              "      <th>1</th>\n",
              "      <th>2</th>\n",
              "    </tr>\n",
              "  </thead>\n",
              "  <tbody>\n",
              "    <tr>\n",
              "      <th>tweet_id</th>\n",
              "      <td>Tr_tweet_1</td>\n",
              "      <td>Tr_tweet_2</td>\n",
              "      <td>Tr_tweet_3</td>\n",
              "    </tr>\n",
              "    <tr>\n",
              "      <th>airline_sentiment</th>\n",
              "      <td>neutral</td>\n",
              "      <td>positive</td>\n",
              "      <td>neutral</td>\n",
              "    </tr>\n",
              "    <tr>\n",
              "      <th>airline_sentiment_confidence</th>\n",
              "      <td>1</td>\n",
              "      <td>0.3486</td>\n",
              "      <td>0.6837</td>\n",
              "    </tr>\n",
              "    <tr>\n",
              "      <th>negativereason</th>\n",
              "      <td>NaN</td>\n",
              "      <td>NaN</td>\n",
              "      <td>NaN</td>\n",
              "    </tr>\n",
              "    <tr>\n",
              "      <th>negativereason_confidence</th>\n",
              "      <td>NaN</td>\n",
              "      <td>0</td>\n",
              "      <td>NaN</td>\n",
              "    </tr>\n",
              "    <tr>\n",
              "      <th>airline</th>\n",
              "      <td>Virgin America</td>\n",
              "      <td>Virgin America</td>\n",
              "      <td>Virgin America</td>\n",
              "    </tr>\n",
              "    <tr>\n",
              "      <th>name</th>\n",
              "      <td>cairdin</td>\n",
              "      <td>jnardino</td>\n",
              "      <td>yvonnalynn</td>\n",
              "    </tr>\n",
              "    <tr>\n",
              "      <th>retweet_count</th>\n",
              "      <td>0</td>\n",
              "      <td>0</td>\n",
              "      <td>0</td>\n",
              "    </tr>\n",
              "    <tr>\n",
              "      <th>text</th>\n",
              "      <td>@VirginAmerica What @dhepburn said.</td>\n",
              "      <td>@VirginAmerica plus you've added commercials t...</td>\n",
              "      <td>@VirginAmerica I didn't today... Must mean I n...</td>\n",
              "    </tr>\n",
              "    <tr>\n",
              "      <th>tweet_created</th>\n",
              "      <td>2015-02-24 11:35:52 -0800</td>\n",
              "      <td>2015-02-24 11:15:59 -0800</td>\n",
              "      <td>2015-02-24 11:15:48 -0800</td>\n",
              "    </tr>\n",
              "    <tr>\n",
              "      <th>tweet_location</th>\n",
              "      <td>NaN</td>\n",
              "      <td>NaN</td>\n",
              "      <td>Lets Play</td>\n",
              "    </tr>\n",
              "    <tr>\n",
              "      <th>user_timezone</th>\n",
              "      <td>Eastern Time (US &amp; Canada)</td>\n",
              "      <td>Pacific Time (US &amp; Canada)</td>\n",
              "      <td>Central Time (US &amp; Canada)</td>\n",
              "    </tr>\n",
              "  </tbody>\n",
              "</table>\n",
              "</div>"
            ],
            "text/plain": [
              "                                                                0  ...                                                  2\n",
              "tweet_id                                               Tr_tweet_1  ...                                         Tr_tweet_3\n",
              "airline_sentiment                                         neutral  ...                                            neutral\n",
              "airline_sentiment_confidence                                    1  ...                                             0.6837\n",
              "negativereason                                                NaN  ...                                                NaN\n",
              "negativereason_confidence                                     NaN  ...                                                NaN\n",
              "airline                                            Virgin America  ...                                     Virgin America\n",
              "name                                                      cairdin  ...                                         yvonnalynn\n",
              "retweet_count                                                   0  ...                                                  0\n",
              "text                          @VirginAmerica What @dhepburn said.  ...  @VirginAmerica I didn't today... Must mean I n...\n",
              "tweet_created                           2015-02-24 11:35:52 -0800  ...                          2015-02-24 11:15:48 -0800\n",
              "tweet_location                                                NaN  ...                                          Lets Play\n",
              "user_timezone                          Eastern Time (US & Canada)  ...                         Central Time (US & Canada)\n",
              "\n",
              "[12 rows x 3 columns]"
            ]
          },
          "metadata": {
            "tags": []
          },
          "execution_count": 12
        }
      ]
    },
    {
      "cell_type": "code",
      "metadata": {
        "id": "6YpM_iet3Dub",
        "colab_type": "code",
        "outputId": "17e33c86-8ea8-4c91-b175-b9c8c5ef0833",
        "colab": {
          "base_uri": "https://localhost:8080/",
          "height": 414
        }
      },
      "source": [
        "df.describe(include='all').T"
      ],
      "execution_count": 13,
      "outputs": [
        {
          "output_type": "execute_result",
          "data": {
            "text/html": [
              "<div>\n",
              "<style scoped>\n",
              "    .dataframe tbody tr th:only-of-type {\n",
              "        vertical-align: middle;\n",
              "    }\n",
              "\n",
              "    .dataframe tbody tr th {\n",
              "        vertical-align: top;\n",
              "    }\n",
              "\n",
              "    .dataframe thead th {\n",
              "        text-align: right;\n",
              "    }\n",
              "</style>\n",
              "<table border=\"1\" class=\"dataframe\">\n",
              "  <thead>\n",
              "    <tr style=\"text-align: right;\">\n",
              "      <th></th>\n",
              "      <th>count</th>\n",
              "      <th>unique</th>\n",
              "      <th>top</th>\n",
              "      <th>freq</th>\n",
              "      <th>mean</th>\n",
              "      <th>std</th>\n",
              "      <th>min</th>\n",
              "      <th>25%</th>\n",
              "      <th>50%</th>\n",
              "      <th>75%</th>\n",
              "      <th>max</th>\n",
              "    </tr>\n",
              "  </thead>\n",
              "  <tbody>\n",
              "    <tr>\n",
              "      <th>tweet_id</th>\n",
              "      <td>3339</td>\n",
              "      <td>3339</td>\n",
              "      <td>Tr_tweet_1554</td>\n",
              "      <td>1</td>\n",
              "      <td>NaN</td>\n",
              "      <td>NaN</td>\n",
              "      <td>NaN</td>\n",
              "      <td>NaN</td>\n",
              "      <td>NaN</td>\n",
              "      <td>NaN</td>\n",
              "      <td>NaN</td>\n",
              "    </tr>\n",
              "    <tr>\n",
              "      <th>airline_sentiment</th>\n",
              "      <td>3339</td>\n",
              "      <td>3</td>\n",
              "      <td>negative</td>\n",
              "      <td>2135</td>\n",
              "      <td>NaN</td>\n",
              "      <td>NaN</td>\n",
              "      <td>NaN</td>\n",
              "      <td>NaN</td>\n",
              "      <td>NaN</td>\n",
              "      <td>NaN</td>\n",
              "      <td>NaN</td>\n",
              "    </tr>\n",
              "    <tr>\n",
              "      <th>airline_sentiment_confidence</th>\n",
              "      <td>3339</td>\n",
              "      <td>NaN</td>\n",
              "      <td>NaN</td>\n",
              "      <td>NaN</td>\n",
              "      <td>0.896748</td>\n",
              "      <td>0.165675</td>\n",
              "      <td>0.335</td>\n",
              "      <td>0.68895</td>\n",
              "      <td>1</td>\n",
              "      <td>1</td>\n",
              "      <td>1</td>\n",
              "    </tr>\n",
              "    <tr>\n",
              "      <th>negativereason</th>\n",
              "      <td>2134</td>\n",
              "      <td>10</td>\n",
              "      <td>Customer Service Issue</td>\n",
              "      <td>563</td>\n",
              "      <td>NaN</td>\n",
              "      <td>NaN</td>\n",
              "      <td>NaN</td>\n",
              "      <td>NaN</td>\n",
              "      <td>NaN</td>\n",
              "      <td>NaN</td>\n",
              "      <td>NaN</td>\n",
              "    </tr>\n",
              "    <tr>\n",
              "      <th>negativereason_confidence</th>\n",
              "      <td>2450</td>\n",
              "      <td>NaN</td>\n",
              "      <td>NaN</td>\n",
              "      <td>NaN</td>\n",
              "      <td>0.618021</td>\n",
              "      <td>0.326748</td>\n",
              "      <td>0</td>\n",
              "      <td>0.355525</td>\n",
              "      <td>0.66685</td>\n",
              "      <td>1</td>\n",
              "      <td>1</td>\n",
              "    </tr>\n",
              "    <tr>\n",
              "      <th>airline</th>\n",
              "      <td>3338</td>\n",
              "      <td>2</td>\n",
              "      <td>United</td>\n",
              "      <td>2884</td>\n",
              "      <td>NaN</td>\n",
              "      <td>NaN</td>\n",
              "      <td>NaN</td>\n",
              "      <td>NaN</td>\n",
              "      <td>NaN</td>\n",
              "      <td>NaN</td>\n",
              "      <td>NaN</td>\n",
              "    </tr>\n",
              "    <tr>\n",
              "      <th>name</th>\n",
              "      <td>3338</td>\n",
              "      <td>1925</td>\n",
              "      <td>throthra</td>\n",
              "      <td>25</td>\n",
              "      <td>NaN</td>\n",
              "      <td>NaN</td>\n",
              "      <td>NaN</td>\n",
              "      <td>NaN</td>\n",
              "      <td>NaN</td>\n",
              "      <td>NaN</td>\n",
              "      <td>NaN</td>\n",
              "    </tr>\n",
              "    <tr>\n",
              "      <th>retweet_count</th>\n",
              "      <td>3338</td>\n",
              "      <td>NaN</td>\n",
              "      <td>NaN</td>\n",
              "      <td>NaN</td>\n",
              "      <td>0.106052</td>\n",
              "      <td>0.350716</td>\n",
              "      <td>0</td>\n",
              "      <td>0</td>\n",
              "      <td>0</td>\n",
              "      <td>0</td>\n",
              "      <td>4</td>\n",
              "    </tr>\n",
              "    <tr>\n",
              "      <th>text</th>\n",
              "      <td>3338</td>\n",
              "      <td>3321</td>\n",
              "      <td>@united thanks</td>\n",
              "      <td>5</td>\n",
              "      <td>NaN</td>\n",
              "      <td>NaN</td>\n",
              "      <td>NaN</td>\n",
              "      <td>NaN</td>\n",
              "      <td>NaN</td>\n",
              "      <td>NaN</td>\n",
              "      <td>NaN</td>\n",
              "    </tr>\n",
              "    <tr>\n",
              "      <th>tweet_created</th>\n",
              "      <td>3243</td>\n",
              "      <td>3227</td>\n",
              "      <td>2015-02-23 06:57:24 -0800</td>\n",
              "      <td>3</td>\n",
              "      <td>NaN</td>\n",
              "      <td>NaN</td>\n",
              "      <td>NaN</td>\n",
              "      <td>NaN</td>\n",
              "      <td>NaN</td>\n",
              "      <td>NaN</td>\n",
              "      <td>NaN</td>\n",
              "    </tr>\n",
              "    <tr>\n",
              "      <th>tweet_location</th>\n",
              "      <td>2319</td>\n",
              "      <td>1010</td>\n",
              "      <td>San Francisco, CA</td>\n",
              "      <td>41</td>\n",
              "      <td>NaN</td>\n",
              "      <td>NaN</td>\n",
              "      <td>NaN</td>\n",
              "      <td>NaN</td>\n",
              "      <td>NaN</td>\n",
              "      <td>NaN</td>\n",
              "      <td>NaN</td>\n",
              "    </tr>\n",
              "    <tr>\n",
              "      <th>user_timezone</th>\n",
              "      <td>2231</td>\n",
              "      <td>143</td>\n",
              "      <td>Eastern Time (US &amp; Canada)</td>\n",
              "      <td>761</td>\n",
              "      <td>NaN</td>\n",
              "      <td>NaN</td>\n",
              "      <td>NaN</td>\n",
              "      <td>NaN</td>\n",
              "      <td>NaN</td>\n",
              "      <td>NaN</td>\n",
              "      <td>NaN</td>\n",
              "    </tr>\n",
              "  </tbody>\n",
              "</table>\n",
              "</div>"
            ],
            "text/plain": [
              "                             count unique  ...  75%  max\n",
              "tweet_id                      3339   3339  ...  NaN  NaN\n",
              "airline_sentiment             3339      3  ...  NaN  NaN\n",
              "airline_sentiment_confidence  3339    NaN  ...    1    1\n",
              "negativereason                2134     10  ...  NaN  NaN\n",
              "negativereason_confidence     2450    NaN  ...    1    1\n",
              "airline                       3338      2  ...  NaN  NaN\n",
              "name                          3338   1925  ...  NaN  NaN\n",
              "retweet_count                 3338    NaN  ...    0    4\n",
              "text                          3338   3321  ...  NaN  NaN\n",
              "tweet_created                 3243   3227  ...  NaN  NaN\n",
              "tweet_location                2319   1010  ...  NaN  NaN\n",
              "user_timezone                 2231    143  ...  NaN  NaN\n",
              "\n",
              "[12 rows x 11 columns]"
            ]
          },
          "metadata": {
            "tags": []
          },
          "execution_count": 13
        }
      ]
    },
    {
      "cell_type": "code",
      "metadata": {
        "id": "a8wNtJif3La-",
        "colab_type": "code",
        "outputId": "461d56f2-b33b-4fbb-e0dd-3bd506902770",
        "colab": {
          "base_uri": "https://localhost:8080/",
          "height": 296
        }
      },
      "source": [
        "df.info()"
      ],
      "execution_count": 14,
      "outputs": [
        {
          "output_type": "stream",
          "text": [
            "<class 'pandas.core.frame.DataFrame'>\n",
            "RangeIndex: 3339 entries, 0 to 3338\n",
            "Data columns (total 12 columns):\n",
            "tweet_id                        3339 non-null object\n",
            "airline_sentiment               3339 non-null object\n",
            "airline_sentiment_confidence    3339 non-null float64\n",
            "negativereason                  2134 non-null object\n",
            "negativereason_confidence       2450 non-null float64\n",
            "airline                         3338 non-null object\n",
            "name                            3338 non-null object\n",
            "retweet_count                   3338 non-null float64\n",
            "text                            3338 non-null object\n",
            "tweet_created                   3243 non-null object\n",
            "tweet_location                  2319 non-null object\n",
            "user_timezone                   2231 non-null object\n",
            "dtypes: float64(3), object(9)\n",
            "memory usage: 313.2+ KB\n"
          ],
          "name": "stdout"
        }
      ]
    },
    {
      "cell_type": "code",
      "metadata": {
        "id": "89PAOTRLA9Oe",
        "colab_type": "code",
        "outputId": "79dbed19-ea0a-4664-bc1d-26f7ece772dc",
        "colab": {
          "base_uri": "https://localhost:8080/",
          "height": 82
        }
      },
      "source": [
        "df.airline_sentiment.value_counts()"
      ],
      "execution_count": 15,
      "outputs": [
        {
          "output_type": "execute_result",
          "data": {
            "text/plain": [
              "negative    2135\n",
              "neutral      679\n",
              "positive     525\n",
              "Name: airline_sentiment, dtype: int64"
            ]
          },
          "metadata": {
            "tags": []
          },
          "execution_count": 15
        }
      ]
    },
    {
      "cell_type": "code",
      "metadata": {
        "id": "nwyr22GvC8vp",
        "colab_type": "code",
        "outputId": "f7d53024-3af5-43d3-a45d-5964195f45d6",
        "colab": {
          "base_uri": "https://localhost:8080/",
          "height": 65
        }
      },
      "source": [
        "df.airline.value_counts()"
      ],
      "execution_count": 16,
      "outputs": [
        {
          "output_type": "execute_result",
          "data": {
            "text/plain": [
              "United            2884\n",
              "Virgin America     454\n",
              "Name: airline, dtype: int64"
            ]
          },
          "metadata": {
            "tags": []
          },
          "execution_count": 16
        }
      ]
    },
    {
      "cell_type": "code",
      "metadata": {
        "id": "Vj0pSVx8LJqS",
        "colab_type": "code",
        "outputId": "81ffcff0-da2f-44ed-8d90-d8669655ec71",
        "colab": {
          "base_uri": "https://localhost:8080/",
          "height": 32
        }
      },
      "source": [
        "df.user_timezone.nunique()"
      ],
      "execution_count": 17,
      "outputs": [
        {
          "output_type": "execute_result",
          "data": {
            "text/plain": [
              "143"
            ]
          },
          "metadata": {
            "tags": []
          },
          "execution_count": 17
        }
      ]
    },
    {
      "cell_type": "code",
      "metadata": {
        "id": "dyraRCEvICRD",
        "colab_type": "code",
        "outputId": "d0d46a36-9019-4352-c93b-ad7f682a5a26",
        "colab": {
          "base_uri": "https://localhost:8080/",
          "height": 295
        }
      },
      "source": [
        "f, ax = plt.subplots(1, 3, figsize=(16, 4))\n",
        "sns.countplot(df.airline, ax=ax[0]).set_title('Airlines');\n",
        "sns.countplot(x = 'airline_sentiment', hue='airline', data= df, ax=ax[1]).set_title('General airline sentiments');\n",
        "sns.countplot(\n",
        "    x = 'airline_sentiment', \n",
        "    hue='airline', \n",
        "    data = df[df.airline_sentiment_confidence > 0.6], \n",
        "    ax=ax[2]\n",
        ").set_title('Sentiments with confidence > 0.6');"
      ],
      "execution_count": 18,
      "outputs": [
        {
          "output_type": "display_data",
          "data": {
            "image/png": "[encoded data removed]",
            "text/plain": [
              "<Figure size 1152x288 with 3 Axes>"
            ]
          },
          "metadata": {
            "tags": []
          }
        }
      ]
    },
    {
      "cell_type": "code",
      "metadata": {
        "id": "8sQ6haYmO7A4",
        "colab_type": "code",
        "outputId": "85fc4996-c1dd-4223-9c49-516d0faca15c",
        "colab": {
          "base_uri": "https://localhost:8080/",
          "height": 469
        }
      },
      "source": [
        "plt.figure(figsize=(10,5))\n",
        "sns.countplot(df.negativereason).set_title('Negative reason');\n",
        "plt.xticks(rotation=65, horizontalalignment='right');"
      ],
      "execution_count": 19,
      "outputs": [
        {
          "output_type": "display_data",
          "data": {
            "image/png": "[encoded data removed]",
            "text/plain": [
              "<Figure size 720x360 with 1 Axes>"
            ]
          },
          "metadata": {
            "tags": []
          }
        }
      ]
    },
    {
      "cell_type": "code",
      "metadata": {
        "id": "_qVPrXVZBTKL",
        "colab_type": "code",
        "colab": {}
      },
      "source": [
        "df_confident = df[df.airline_sentiment_confidence > 0.6]"
      ],
      "execution_count": 0,
      "outputs": []
    },
    {
      "cell_type": "code",
      "metadata": {
        "id": "zTAdSh5oBhaI",
        "colab_type": "code",
        "outputId": "aa2f9ba5-4d26-44bf-9fd3-70b9505efe99",
        "colab": {
          "base_uri": "https://localhost:8080/",
          "height": 32
        }
      },
      "source": [
        "len(df), len(df_confident)"
      ],
      "execution_count": 21,
      "outputs": [
        {
          "output_type": "execute_result",
          "data": {
            "text/plain": [
              "(3339, 3277)"
            ]
          },
          "metadata": {
            "tags": []
          },
          "execution_count": 21
        }
      ]
    },
    {
      "cell_type": "code",
      "metadata": {
        "id": "cu-Ww20QBknJ",
        "colab_type": "code",
        "outputId": "bffa68ba-077b-4434-827e-219eb6a528d6",
        "colab": {
          "base_uri": "https://localhost:8080/",
          "height": 82
        }
      },
      "source": [
        "df_confident.airline_sentiment.value_counts()"
      ],
      "execution_count": 22,
      "outputs": [
        {
          "output_type": "execute_result",
          "data": {
            "text/plain": [
              "negative    2118\n",
              "neutral      656\n",
              "positive     503\n",
              "Name: airline_sentiment, dtype: int64"
            ]
          },
          "metadata": {
            "tags": []
          },
          "execution_count": 22
        }
      ]
    },
    {
      "cell_type": "code",
      "metadata": {
        "id": "3FLJWAW6Boer",
        "colab_type": "code",
        "outputId": "1c0378c2-2874-4fed-aa36-1751036cc0ce",
        "colab": {
          "base_uri": "https://localhost:8080/",
          "height": 296
        }
      },
      "source": [
        "df_confident.info()"
      ],
      "execution_count": 23,
      "outputs": [
        {
          "output_type": "stream",
          "text": [
            "<class 'pandas.core.frame.DataFrame'>\n",
            "Int64Index: 3277 entries, 0 to 3338\n",
            "Data columns (total 12 columns):\n",
            "tweet_id                        3277 non-null object\n",
            "airline_sentiment               3277 non-null object\n",
            "airline_sentiment_confidence    3277 non-null float64\n",
            "negativereason                  2117 non-null object\n",
            "negativereason_confidence       2388 non-null float64\n",
            "airline                         3276 non-null object\n",
            "name                            3276 non-null object\n",
            "retweet_count                   3276 non-null float64\n",
            "text                            3276 non-null object\n",
            "tweet_created                   3183 non-null object\n",
            "tweet_location                  2278 non-null object\n",
            "user_timezone                   2188 non-null object\n",
            "dtypes: float64(3), object(9)\n",
            "memory usage: 332.8+ KB\n"
          ],
          "name": "stdout"
        }
      ]
    },
    {
      "cell_type": "code",
      "metadata": {
        "id": "m7IlqDDftTo8",
        "colab_type": "code",
        "colab": {}
      },
      "source": [
        "final = df_confident[~df_confident[\"text\"].isna()]"
      ],
      "execution_count": 0,
      "outputs": []
    },
    {
      "cell_type": "code",
      "metadata": {
        "id": "uFs_rVoGB-9W",
        "colab_type": "code",
        "outputId": "15f20fee-f68f-4769-ae19-6e6a7044767c",
        "colab": {
          "base_uri": "https://localhost:8080/",
          "height": 296
        }
      },
      "source": [
        "final.info()"
      ],
      "execution_count": 58,
      "outputs": [
        {
          "output_type": "stream",
          "text": [
            "<class 'pandas.core.frame.DataFrame'>\n",
            "Int64Index: 3276 entries, 0 to 3337\n",
            "Data columns (total 12 columns):\n",
            "tweet_id                        3276 non-null object\n",
            "airline_sentiment               3276 non-null object\n",
            "airline_sentiment_confidence    3276 non-null float64\n",
            "negativereason                  2117 non-null object\n",
            "negativereason_confidence       2388 non-null float64\n",
            "airline                         3276 non-null object\n",
            "name                            3276 non-null object\n",
            "retweet_count                   3276 non-null float64\n",
            "text                            3276 non-null object\n",
            "tweet_created                   3183 non-null object\n",
            "tweet_location                  2278 non-null object\n",
            "user_timezone                   2188 non-null object\n",
            "dtypes: float64(3), object(9)\n",
            "memory usage: 332.7+ KB\n"
          ],
          "name": "stdout"
        }
      ]
    },
    {
      "cell_type": "code",
      "metadata": {
        "id": "7cJRtlgtwkJa",
        "colab_type": "code",
        "colab": {}
      },
      "source": [
        "# def make_category_map(labels):\n",
        "#     return {x: i for i, x in enumerate(sorted(set(labels)))}"
      ],
      "execution_count": 0,
      "outputs": []
    },
    {
      "cell_type": "code",
      "metadata": {
        "id": "2pZZ1YV6yL71",
        "colab_type": "code",
        "colab": {}
      },
      "source": [
        "# category_map = make_category_map(final[\"airline_sentiment\"].values)"
      ],
      "execution_count": 0,
      "outputs": []
    },
    {
      "cell_type": "code",
      "metadata": {
        "id": "1NUWz7Be4sFm",
        "colab_type": "code",
        "colab": {}
      },
      "source": [
        "# def init_category_map(filename, labels):\n",
        "#     try:\n",
        "#         category_map = load_file(filename)\n",
        "#     except:\n",
        "#         category_map = make_category_map(labels)\n",
        "#         save_file(category_map, filename)\n",
        "#     return category_map"
      ],
      "execution_count": 0,
      "outputs": []
    },
    {
      "cell_type": "code",
      "metadata": {
        "id": "e9Cb7wLy5IVI",
        "colab_type": "code",
        "colab": {}
      },
      "source": [
        "# category_map = init_category_map(\n",
        "#     TEMP_DIR / \"category_map.pickle\", df[\"airline_sentiment\"].values\n",
        "# )"
      ],
      "execution_count": 0,
      "outputs": []
    },
    {
      "cell_type": "markdown",
      "metadata": {
        "id": "f_53u-IA3RDS",
        "colab_type": "text"
      },
      "source": [
        "From run before:\n",
        "{'negative': 0, 'neutral': 2, 'positive': 1}"
      ]
    },
    {
      "cell_type": "code",
      "metadata": {
        "id": "nJ_kz4KfycIH",
        "colab_type": "code",
        "outputId": "6a0bad77-36d5-4c7e-eced-48081f40187d",
        "colab": {
          "base_uri": "https://localhost:8080/",
          "height": 32
        }
      },
      "source": [
        "# category_map"
      ],
      "execution_count": 105,
      "outputs": [
        {
          "output_type": "execute_result",
          "data": {
            "text/plain": [
              "{'negative': 0, 'neutral': 1, 'positive': 2}"
            ]
          },
          "metadata": {
            "tags": []
          },
          "execution_count": 105
        }
      ]
    },
    {
      "cell_type": "code",
      "metadata": {
        "id": "b7WhBwsTDjGu",
        "colab_type": "code",
        "colab": {
          "base_uri": "https://localhost:8080/",
          "height": 82
        },
        "outputId": "2fefd9dd-9860-42fd-99e9-ce057dc71738"
      },
      "source": [
        "final.airline_sentiment.value_counts()"
      ],
      "execution_count": 59,
      "outputs": [
        {
          "output_type": "execute_result",
          "data": {
            "text/plain": [
              "negative    2117\n",
              "neutral      656\n",
              "positive     503\n",
              "Name: airline_sentiment, dtype: int64"
            ]
          },
          "metadata": {
            "tags": []
          },
          "execution_count": 59
        }
      ]
    },
    {
      "cell_type": "code",
      "metadata": {
        "id": "mhZgO9v7FYK1",
        "colab_type": "code",
        "colab": {
          "base_uri": "https://localhost:8080/",
          "height": 82
        },
        "outputId": "8011a5eb-3eb4-490e-8d0e-6ce3ce3ea643"
      },
      "source": [
        "# final = balance_df_labels(final, 'airline_sentiment')\n",
        "# final.airline_sentiment.value_counts()"
      ],
      "execution_count": 109,
      "outputs": [
        {
          "output_type": "execute_result",
          "data": {
            "text/plain": [
              "negative    2117\n",
              "positive    2012\n",
              "neutral     1968\n",
              "Name: airline_sentiment, dtype: int64"
            ]
          },
          "metadata": {
            "tags": []
          },
          "execution_count": 109
        }
      ]
    },
    {
      "cell_type": "code",
      "metadata": {
        "id": "orsefVtDyhF7",
        "colab_type": "code",
        "outputId": "0b0d0c74-86c9-4296-a626-33feef34ef00",
        "colab": {
          "base_uri": "https://localhost:8080/",
          "height": 135
        }
      },
      "source": [
        "# final[\"airline_sentiment\"] = final[\"airline_sentiment\"].map(category_map)"
      ],
      "execution_count": 80,
      "outputs": [
        {
          "output_type": "stream",
          "text": [
            "/usr/local/lib/python3.6/dist-packages/ipykernel_launcher.py:1: SettingWithCopyWarning: \n",
            "A value is trying to be set on a copy of a slice from a DataFrame.\n",
            "Try using .loc[row_indexer,col_indexer] = value instead\n",
            "\n",
            "See the caveats in the documentation: http://pandas.pydata.org/pandas-docs/stable/user_guide/indexing.html#returning-a-view-versus-a-copy\n",
            "  \"\"\"Entry point for launching an IPython kernel.\n"
          ],
          "name": "stderr"
        }
      ]
    },
    {
      "cell_type": "code",
      "metadata": {
        "id": "bCu_trzlOnFl",
        "colab_type": "code",
        "colab": {
          "base_uri": "https://localhost:8080/",
          "height": 230
        },
        "outputId": "b14e64f8-94fd-4ab1-d19b-7a8f28eb88a7"
      },
      "source": [
        "final.dtypes"
      ],
      "execution_count": 84,
      "outputs": [
        {
          "output_type": "execute_result",
          "data": {
            "text/plain": [
              "tweet_id                         object\n",
              "airline_sentiment                object\n",
              "airline_sentiment_confidence    float64\n",
              "negativereason                   object\n",
              "negativereason_confidence       float64\n",
              "airline                          object\n",
              "name                             object\n",
              "retweet_count                   float64\n",
              "text                             object\n",
              "tweet_created                    object\n",
              "tweet_location                   object\n",
              "user_timezone                    object\n",
              "dtype: object"
            ]
          },
          "metadata": {
            "tags": []
          },
          "execution_count": 84
        }
      ]
    },
    {
      "cell_type": "code",
      "metadata": {
        "id": "7N7YaWXeyp30",
        "colab_type": "code",
        "outputId": "2b0d60a3-f035-467b-ad2f-1919f8053f50",
        "colab": {
          "base_uri": "https://localhost:8080/",
          "height": 451
        }
      },
      "source": [
        "final.head()"
      ],
      "execution_count": 111,
      "outputs": [
        {
          "output_type": "execute_result",
          "data": {
            "text/html": [
              "<div>\n",
              "<style scoped>\n",
              "    .dataframe tbody tr th:only-of-type {\n",
              "        vertical-align: middle;\n",
              "    }\n",
              "\n",
              "    .dataframe tbody tr th {\n",
              "        vertical-align: top;\n",
              "    }\n",
              "\n",
              "    .dataframe thead th {\n",
              "        text-align: right;\n",
              "    }\n",
              "</style>\n",
              "<table border=\"1\" class=\"dataframe\">\n",
              "  <thead>\n",
              "    <tr style=\"text-align: right;\">\n",
              "      <th></th>\n",
              "      <th>tweet_id</th>\n",
              "      <th>airline_sentiment</th>\n",
              "      <th>airline_sentiment_confidence</th>\n",
              "      <th>negativereason</th>\n",
              "      <th>negativereason_confidence</th>\n",
              "      <th>airline</th>\n",
              "      <th>name</th>\n",
              "      <th>retweet_count</th>\n",
              "      <th>text</th>\n",
              "      <th>tweet_created</th>\n",
              "      <th>tweet_location</th>\n",
              "      <th>user_timezone</th>\n",
              "    </tr>\n",
              "  </thead>\n",
              "  <tbody>\n",
              "    <tr>\n",
              "      <th>0</th>\n",
              "      <td>Tr_tweet_4</td>\n",
              "      <td>0</td>\n",
              "      <td>1.0000</td>\n",
              "      <td>Bad Flight</td>\n",
              "      <td>0.7033</td>\n",
              "      <td>Virgin America</td>\n",
              "      <td>jnardino</td>\n",
              "      <td>0.0</td>\n",
              "      <td>@VirginAmerica it's really aggressive to blast...</td>\n",
              "      <td>2015-02-24 11:15:36 -0800</td>\n",
              "      <td>NaN</td>\n",
              "      <td>Pacific Time (US &amp; Canada)</td>\n",
              "    </tr>\n",
              "    <tr>\n",
              "      <th>1</th>\n",
              "      <td>Tr_tweet_5</td>\n",
              "      <td>0</td>\n",
              "      <td>1.0000</td>\n",
              "      <td>Can't Tell</td>\n",
              "      <td>1.0000</td>\n",
              "      <td>Virgin America</td>\n",
              "      <td>jnardino</td>\n",
              "      <td>0.0</td>\n",
              "      <td>@VirginAmerica and it's a really big bad thing...</td>\n",
              "      <td>2015-02-24 11:14:45 -0800</td>\n",
              "      <td>NaN</td>\n",
              "      <td>Pacific Time (US &amp; Canada)</td>\n",
              "    </tr>\n",
              "    <tr>\n",
              "      <th>2</th>\n",
              "      <td>Tr_tweet_6</td>\n",
              "      <td>0</td>\n",
              "      <td>1.0000</td>\n",
              "      <td>Can't Tell</td>\n",
              "      <td>0.6842</td>\n",
              "      <td>Virgin America</td>\n",
              "      <td>jnardino</td>\n",
              "      <td>0.0</td>\n",
              "      <td>@VirginAmerica seriously would pay $30 a fligh...</td>\n",
              "      <td>2015-02-24 11:14:33 -0800</td>\n",
              "      <td>NaN</td>\n",
              "      <td>Pacific Time (US &amp; Canada)</td>\n",
              "    </tr>\n",
              "    <tr>\n",
              "      <th>3</th>\n",
              "      <td>Tr_tweet_13</td>\n",
              "      <td>0</td>\n",
              "      <td>0.6842</td>\n",
              "      <td>Late Flight</td>\n",
              "      <td>0.3684</td>\n",
              "      <td>Virgin America</td>\n",
              "      <td>smartwatermelon</td>\n",
              "      <td>0.0</td>\n",
              "      <td>@VirginAmerica SFO-PDX schedule is still MIA.</td>\n",
              "      <td>2015-02-24 10:01:50 -0800</td>\n",
              "      <td>palo alto, ca</td>\n",
              "      <td>Pacific Time (US &amp; Canada)</td>\n",
              "    </tr>\n",
              "    <tr>\n",
              "      <th>4</th>\n",
              "      <td>Tr_tweet_17</td>\n",
              "      <td>0</td>\n",
              "      <td>0.6705</td>\n",
              "      <td>Can't Tell</td>\n",
              "      <td>0.3614</td>\n",
              "      <td>Virgin America</td>\n",
              "      <td>MISSGJ</td>\n",
              "      <td>0.0</td>\n",
              "      <td>@VirginAmerica why are your first fares in May...</td>\n",
              "      <td>2015-02-24 08:55:56 -0800</td>\n",
              "      <td>NaN</td>\n",
              "      <td>NaN</td>\n",
              "    </tr>\n",
              "  </tbody>\n",
              "</table>\n",
              "</div>"
            ],
            "text/plain": [
              "      tweet_id  airline_sentiment  ...  tweet_location               user_timezone\n",
              "0   Tr_tweet_4                  0  ...             NaN  Pacific Time (US & Canada)\n",
              "1   Tr_tweet_5                  0  ...             NaN  Pacific Time (US & Canada)\n",
              "2   Tr_tweet_6                  0  ...             NaN  Pacific Time (US & Canada)\n",
              "3  Tr_tweet_13                  0  ...   palo alto, ca  Pacific Time (US & Canada)\n",
              "4  Tr_tweet_17                  0  ...             NaN                         NaN\n",
              "\n",
              "[5 rows x 12 columns]"
            ]
          },
          "metadata": {
            "tags": []
          },
          "execution_count": 111
        }
      ]
    },
    {
      "cell_type": "markdown",
      "metadata": {
        "id": "jQFEVqzm9Z9s",
        "colab_type": "text"
      },
      "source": [
        "# Preprocessing"
      ]
    },
    {
      "cell_type": "code",
      "metadata": {
        "id": "uBZydIleytsB",
        "colab_type": "code",
        "colab": {}
      },
      "source": [
        "data_container = DataContainer(\n",
        "    *DataBundle.split(\n",
        "        data_bundle=DataBundle.from_dataframe(\n",
        "            dataframe=final, x_col=\"text\", y_col=\"airline_sentiment\"\n",
        "        ),\n",
        "        fracs=[0.9, 0.1, 0],\n",
        "    )\n",
        ")"
      ],
      "execution_count": 0,
      "outputs": []
    },
    {
      "cell_type": "code",
      "metadata": {
        "id": "pSiNGJVOy8kI",
        "colab_type": "code",
        "colab": {}
      },
      "source": [
        "# class_weights = dict(\n",
        "#     enumerate(\n",
        "#         sk.utils.class_weight.compute_class_weight(\n",
        "#             \"balanced\", np.unique(data_container.train.y), data_container.train.y\n",
        "#         )\n",
        "#     )\n",
        "# )"
      ],
      "execution_count": 0,
      "outputs": []
    },
    {
      "cell_type": "code",
      "metadata": {
        "id": "FxlSt-8jzvZu",
        "colab_type": "code",
        "outputId": "856267c7-00a8-4586-e300-56db524c69c1",
        "colab": {
          "base_uri": "https://localhost:8080/",
          "height": 32
        }
      },
      "source": [
        "# class_weights"
      ],
      "execution_count": 0,
      "outputs": [
        {
          "output_type": "execute_result",
          "data": {
            "text/plain": [
              "{0: 0.5178818415332939, 1: 2.1679073614557485, 2: 1.645323289391086}"
            ]
          },
          "metadata": {
            "tags": []
          },
          "execution_count": 43
        }
      ]
    },
    {
      "cell_type": "code",
      "metadata": {
        "id": "ZAXlFwDvzxGu",
        "colab_type": "code",
        "outputId": "9caac50f-7ba4-4b8a-a7af-ae3b784d6469",
        "colab": {
          "base_uri": "https://localhost:8080/",
          "height": 32
        }
      },
      "source": [
        "len(data_container.train), len(data_container.validation), len(data_container.test)"
      ],
      "execution_count": 86,
      "outputs": [
        {
          "output_type": "execute_result",
          "data": {
            "text/plain": [
              "(2949, 327, 0)"
            ]
          },
          "metadata": {
            "tags": []
          },
          "execution_count": 86
        }
      ]
    },
    {
      "cell_type": "code",
      "metadata": {
        "id": "b1GmKgTDNnlb",
        "colab_type": "code",
        "colab": {
          "base_uri": "https://localhost:8080/",
          "height": 32
        },
        "outputId": "66eab9d7-ba77-40c3-e0d2-762382898b37"
      },
      "source": [
        "\n",
        "category_map = make_category_map(data_container.train.y)\n",
        "category_map"
      ],
      "execution_count": 87,
      "outputs": [
        {
          "output_type": "execute_result",
          "data": {
            "text/plain": [
              "{'negative': 0, 'neutral': 1, 'positive': 2}"
            ]
          },
          "metadata": {
            "tags": []
          },
          "execution_count": 87
        }
      ]
    },
    {
      "cell_type": "code",
      "metadata": {
        "id": "_tatSpitG2kG",
        "colab_type": "code",
        "colab": {
          "base_uri": "https://localhost:8080/",
          "height": 32
        },
        "outputId": "308ecaf8-1627-4409-ae12-714be8056205"
      },
      "source": [
        "n_categories = len(category_map)\n",
        "n_categories"
      ],
      "execution_count": 88,
      "outputs": [
        {
          "output_type": "execute_result",
          "data": {
            "text/plain": [
              "3"
            ]
          },
          "metadata": {
            "tags": []
          },
          "execution_count": 88
        }
      ]
    },
    {
      "cell_type": "code",
      "metadata": {
        "id": "o9mNSw7aPhrX",
        "colab_type": "code",
        "colab": {
          "base_uri": "https://localhost:8080/",
          "height": 32
        },
        "outputId": "dae9143e-6f4d-4fda-d321-6aad42c852b5"
      },
      "source": [
        "data_container.train.value_counts()"
      ],
      "execution_count": 89,
      "outputs": [
        {
          "output_type": "execute_result",
          "data": {
            "text/plain": [
              "{'negative': 1904, 'neutral': 589, 'positive': 456}"
            ]
          },
          "metadata": {
            "tags": []
          },
          "execution_count": 89
        }
      ]
    },
    {
      "cell_type": "code",
      "metadata": {
        "id": "clT2KMdVUhQL",
        "colab_type": "code",
        "colab": {}
      },
      "source": [
        "data_container.train = DataBundle.from_unbalanced_data_bundle(data_container.train)"
      ],
      "execution_count": 0,
      "outputs": []
    },
    {
      "cell_type": "code",
      "metadata": {
        "id": "8j_hLlpsVKLJ",
        "colab_type": "code",
        "colab": {
          "base_uri": "https://localhost:8080/",
          "height": 32
        },
        "outputId": "e16c9232-0f26-4854-a73f-9b635e7ea876"
      },
      "source": [
        "data_container.train.value_counts()"
      ],
      "execution_count": 91,
      "outputs": [
        {
          "output_type": "execute_result",
          "data": {
            "text/plain": [
              "{'negative': 1904, 'neutral': 1767, 'positive': 1824}"
            ]
          },
          "metadata": {
            "tags": []
          },
          "execution_count": 91
        }
      ]
    },
    {
      "cell_type": "code",
      "metadata": {
        "id": "ND4A_BbqH6gR",
        "colab_type": "code",
        "colab": {
          "base_uri": "https://localhost:8080/",
          "height": 32
        },
        "outputId": "5e6ad405-5cd8-4a16-baa3-ee800f3cca3a"
      },
      "source": [
        "data_container.train.y[:3]"
      ],
      "execution_count": 92,
      "outputs": [
        {
          "output_type": "execute_result",
          "data": {
            "text/plain": [
              "array(['negative', 'negative', 'negative'], dtype=object)"
            ]
          },
          "metadata": {
            "tags": []
          },
          "execution_count": 92
        }
      ]
    },
    {
      "cell_type": "code",
      "metadata": {
        "id": "6iR34EFGJ7bf",
        "colab_type": "code",
        "colab": {
          "base_uri": "https://localhost:8080/",
          "height": 32
        },
        "outputId": "09964dd1-901c-4756-e7f4-22f1281d2be4"
      },
      "source": [
        "data_container.train.y[2000:2003]"
      ],
      "execution_count": 93,
      "outputs": [
        {
          "output_type": "execute_result",
          "data": {
            "text/plain": [
              "array(['neutral', 'neutral', 'neutral'], dtype=object)"
            ]
          },
          "metadata": {
            "tags": []
          },
          "execution_count": 93
        }
      ]
    },
    {
      "cell_type": "code",
      "metadata": {
        "id": "fiXDPm_GLevB",
        "colab_type": "code",
        "colab": {
          "base_uri": "https://localhost:8080/",
          "height": 32
        },
        "outputId": "affad846-ae6b-4de6-9309-d895aa31bbd6"
      },
      "source": [
        "category_map"
      ],
      "execution_count": 94,
      "outputs": [
        {
          "output_type": "execute_result",
          "data": {
            "text/plain": [
              "{'negative': 0, 'neutral': 1, 'positive': 2}"
            ]
          },
          "metadata": {
            "tags": []
          },
          "execution_count": 94
        }
      ]
    },
    {
      "cell_type": "code",
      "metadata": {
        "id": "jiv06EAYJ62v",
        "colab_type": "code",
        "colab": {}
      },
      "source": [
        "for k, v in category_map.items():\n",
        "    data_container.train.y[data_container.train.y == k] = v\n",
        "    data_container.validation.y[data_container.validation.y == k] = v"
      ],
      "execution_count": 0,
      "outputs": []
    },
    {
      "cell_type": "code",
      "metadata": {
        "id": "6BMGqeiSKVyy",
        "colab_type": "code",
        "colab": {
          "base_uri": "https://localhost:8080/",
          "height": 32
        },
        "outputId": "e8bd5c5e-d253-47bb-8264-93e66c697e86"
      },
      "source": [
        "data_container.train.y[:3]"
      ],
      "execution_count": 96,
      "outputs": [
        {
          "output_type": "execute_result",
          "data": {
            "text/plain": [
              "array([0, 0, 0], dtype=object)"
            ]
          },
          "metadata": {
            "tags": []
          },
          "execution_count": 96
        }
      ]
    },
    {
      "cell_type": "code",
      "metadata": {
        "id": "fH-fRDIyMaFn",
        "colab_type": "code",
        "colab": {
          "base_uri": "https://localhost:8080/",
          "height": 32
        },
        "outputId": "bd88a3ba-f2df-440a-800b-e623a21253e8"
      },
      "source": [
        "data_container.train.y[2000:2003]"
      ],
      "execution_count": 97,
      "outputs": [
        {
          "output_type": "execute_result",
          "data": {
            "text/plain": [
              "array([1, 1, 1], dtype=object)"
            ]
          },
          "metadata": {
            "tags": []
          },
          "execution_count": 97
        }
      ]
    },
    {
      "cell_type": "code",
      "metadata": {
        "id": "-xLJTbsVQCDR",
        "colab_type": "code",
        "colab": {}
      },
      "source": [
        ""
      ],
      "execution_count": 0,
      "outputs": []
    },
    {
      "cell_type": "code",
      "metadata": {
        "id": "9pIiduaNQEMB",
        "colab_type": "code",
        "colab": {}
      },
      "source": [
        ""
      ],
      "execution_count": 0,
      "outputs": []
    },
    {
      "cell_type": "code",
      "metadata": {
        "id": "UEdK-SQeNjN0",
        "colab_type": "code",
        "colab": {
          "base_uri": "https://localhost:8080/",
          "height": 32
        },
        "outputId": "7a57df87-a897-45b5-fd7e-cff9f2778438"
      },
      "source": [
        "data_container.train.value_counts(), data_container.validation.value_counts()"
      ],
      "execution_count": 98,
      "outputs": [
        {
          "output_type": "execute_result",
          "data": {
            "text/plain": [
              "({0: 1904, 1: 1767, 2: 1824}, {0: 213, 1: 67, 2: 47})"
            ]
          },
          "metadata": {
            "tags": []
          },
          "execution_count": 98
        }
      ]
    },
    {
      "cell_type": "code",
      "metadata": {
        "id": "ndzaAuvxz0x4",
        "colab_type": "code",
        "colab": {}
      },
      "source": [
        "def make_dataset(data_bundle):\n",
        "    return tf.data.Dataset.from_tensor_slices((data_bundle.x, data_bundle.y))"
      ],
      "execution_count": 0,
      "outputs": []
    },
    {
      "cell_type": "code",
      "metadata": {
        "id": "oD9vSfUaz5Cg",
        "colab_type": "code",
        "colab": {
          "base_uri": "https://localhost:8080/",
          "height": 351
        },
        "outputId": "68397ab1-ce02-4d55-e816-d0057fd70dba"
      },
      "source": [
        "data_container.train.dataset = make_dataset(data_container.train)\n",
        "data_container.validation.dataset = make_dataset(data_container.validation)\n",
        "# data_container.test.dataset = make_dataset(data_container.test)"
      ],
      "execution_count": 101,
      "outputs": [
        {
          "output_type": "error",
          "ename": "ValueError",
          "evalue": "ignored",
          "traceback": [
            "\u001b[0;31m---------------------------------------------------------------------------\u001b[0m",
            "\u001b[0;31mValueError\u001b[0m                                Traceback (most recent call last)",
            "\u001b[0;32m<ipython-input-101-042e11b06269>\u001b[0m in \u001b[0;36m<module>\u001b[0;34m()\u001b[0m\n\u001b[0;32m----> 1\u001b[0;31m \u001b[0mdata_container\u001b[0m\u001b[0;34m.\u001b[0m\u001b[0mtrain\u001b[0m\u001b[0;34m.\u001b[0m\u001b[0mdataset\u001b[0m \u001b[0;34m=\u001b[0m \u001b[0mmake_dataset\u001b[0m\u001b[0;34m(\u001b[0m\u001b[0mdata_container\u001b[0m\u001b[0;34m.\u001b[0m\u001b[0mtrain\u001b[0m\u001b[0;34m)\u001b[0m\u001b[0;34m\u001b[0m\u001b[0;34m\u001b[0m\u001b[0m\n\u001b[0m\u001b[1;32m      2\u001b[0m \u001b[0mdata_container\u001b[0m\u001b[0;34m.\u001b[0m\u001b[0mvalidation\u001b[0m\u001b[0;34m.\u001b[0m\u001b[0mdataset\u001b[0m \u001b[0;34m=\u001b[0m \u001b[0mmake_dataset\u001b[0m\u001b[0;34m(\u001b[0m\u001b[0mdata_container\u001b[0m\u001b[0;34m.\u001b[0m\u001b[0mvalidation\u001b[0m\u001b[0;34m)\u001b[0m\u001b[0;34m\u001b[0m\u001b[0;34m\u001b[0m\u001b[0m\n\u001b[1;32m      3\u001b[0m \u001b[0;31m# data_container.test.dataset = make_dataset(data_container.test)\u001b[0m\u001b[0;34m\u001b[0m\u001b[0;34m\u001b[0m\u001b[0;34m\u001b[0m\u001b[0m\n",
            "\u001b[0;32m<ipython-input-99-103cf37d6bca>\u001b[0m in \u001b[0;36mmake_dataset\u001b[0;34m(data_bundle)\u001b[0m\n\u001b[1;32m      1\u001b[0m \u001b[0;32mdef\u001b[0m \u001b[0mmake_dataset\u001b[0m\u001b[0;34m(\u001b[0m\u001b[0mdata_bundle\u001b[0m\u001b[0;34m)\u001b[0m\u001b[0;34m:\u001b[0m\u001b[0;34m\u001b[0m\u001b[0;34m\u001b[0m\u001b[0m\n\u001b[0;32m----> 2\u001b[0;31m     \u001b[0;32mreturn\u001b[0m \u001b[0mtf\u001b[0m\u001b[0;34m.\u001b[0m\u001b[0mdata\u001b[0m\u001b[0;34m.\u001b[0m\u001b[0mDataset\u001b[0m\u001b[0;34m.\u001b[0m\u001b[0mfrom_tensor_slices\u001b[0m\u001b[0;34m(\u001b[0m\u001b[0;34m(\u001b[0m\u001b[0mdata_bundle\u001b[0m\u001b[0;34m.\u001b[0m\u001b[0mx\u001b[0m\u001b[0;34m,\u001b[0m \u001b[0mdata_bundle\u001b[0m\u001b[0;34m.\u001b[0m\u001b[0my\u001b[0m\u001b[0;34m)\u001b[0m\u001b[0;34m)\u001b[0m\u001b[0;34m\u001b[0m\u001b[0;34m\u001b[0m\u001b[0m\n\u001b[0m",
            "\u001b[0;32m/usr/local/lib/python3.6/dist-packages/tensorflow_core/python/data/ops/dataset_ops.py\u001b[0m in \u001b[0;36mfrom_tensor_slices\u001b[0;34m(tensors)\u001b[0m\n\u001b[1;32m    433\u001b[0m       \u001b[0mDataset\u001b[0m\u001b[0;34m:\u001b[0m \u001b[0mA\u001b[0m\u001b[0;31m \u001b[0m\u001b[0;31m`\u001b[0m\u001b[0mDataset\u001b[0m\u001b[0;31m`\u001b[0m\u001b[0;34m.\u001b[0m\u001b[0;34m\u001b[0m\u001b[0;34m\u001b[0m\u001b[0m\n\u001b[1;32m    434\u001b[0m     \"\"\"\n\u001b[0;32m--> 435\u001b[0;31m     \u001b[0;32mreturn\u001b[0m \u001b[0mTensorSliceDataset\u001b[0m\u001b[0;34m(\u001b[0m\u001b[0mtensors\u001b[0m\u001b[0;34m)\u001b[0m\u001b[0;34m\u001b[0m\u001b[0;34m\u001b[0m\u001b[0m\n\u001b[0m\u001b[1;32m    436\u001b[0m \u001b[0;34m\u001b[0m\u001b[0m\n\u001b[1;32m    437\u001b[0m   \u001b[0;32mclass\u001b[0m \u001b[0m_GeneratorState\u001b[0m\u001b[0;34m(\u001b[0m\u001b[0mobject\u001b[0m\u001b[0;34m)\u001b[0m\u001b[0;34m:\u001b[0m\u001b[0;34m\u001b[0m\u001b[0;34m\u001b[0m\u001b[0m\n",
            "\u001b[0;32m/usr/local/lib/python3.6/dist-packages/tensorflow_core/python/data/ops/dataset_ops.py\u001b[0m in \u001b[0;36m__init__\u001b[0;34m(self, element)\u001b[0m\n\u001b[1;32m   2352\u001b[0m   \u001b[0;32mdef\u001b[0m \u001b[0m__init__\u001b[0m\u001b[0;34m(\u001b[0m\u001b[0mself\u001b[0m\u001b[0;34m,\u001b[0m \u001b[0melement\u001b[0m\u001b[0;34m)\u001b[0m\u001b[0;34m:\u001b[0m\u001b[0;34m\u001b[0m\u001b[0;34m\u001b[0m\u001b[0m\n\u001b[1;32m   2353\u001b[0m     \u001b[0;34m\"\"\"See `Dataset.from_tensor_slices()` for details.\"\"\"\u001b[0m\u001b[0;34m\u001b[0m\u001b[0;34m\u001b[0m\u001b[0m\n\u001b[0;32m-> 2354\u001b[0;31m     \u001b[0melement\u001b[0m \u001b[0;34m=\u001b[0m \u001b[0mstructure\u001b[0m\u001b[0;34m.\u001b[0m\u001b[0mnormalize_element\u001b[0m\u001b[0;34m(\u001b[0m\u001b[0melement\u001b[0m\u001b[0;34m)\u001b[0m\u001b[0;34m\u001b[0m\u001b[0;34m\u001b[0m\u001b[0m\n\u001b[0m\u001b[1;32m   2355\u001b[0m     \u001b[0mbatched_spec\u001b[0m \u001b[0;34m=\u001b[0m \u001b[0mstructure\u001b[0m\u001b[0;34m.\u001b[0m\u001b[0mtype_spec_from_value\u001b[0m\u001b[0;34m(\u001b[0m\u001b[0melement\u001b[0m\u001b[0;34m)\u001b[0m\u001b[0;34m\u001b[0m\u001b[0;34m\u001b[0m\u001b[0m\n\u001b[1;32m   2356\u001b[0m     \u001b[0mself\u001b[0m\u001b[0;34m.\u001b[0m\u001b[0m_tensors\u001b[0m \u001b[0;34m=\u001b[0m \u001b[0mstructure\u001b[0m\u001b[0;34m.\u001b[0m\u001b[0mto_batched_tensor_list\u001b[0m\u001b[0;34m(\u001b[0m\u001b[0mbatched_spec\u001b[0m\u001b[0;34m,\u001b[0m \u001b[0melement\u001b[0m\u001b[0;34m)\u001b[0m\u001b[0;34m\u001b[0m\u001b[0;34m\u001b[0m\u001b[0m\n",
            "\u001b[0;32m/usr/local/lib/python3.6/dist-packages/tensorflow_core/python/data/util/structure.py\u001b[0m in \u001b[0;36mnormalize_element\u001b[0;34m(element)\u001b[0m\n\u001b[1;32m    109\u001b[0m         \u001b[0;32melse\u001b[0m\u001b[0;34m:\u001b[0m\u001b[0;34m\u001b[0m\u001b[0;34m\u001b[0m\u001b[0m\n\u001b[1;32m    110\u001b[0m           normalized_components.append(\n\u001b[0;32m--> 111\u001b[0;31m               ops.convert_to_tensor(t, name=\"component_%d\" % i))\n\u001b[0m\u001b[1;32m    112\u001b[0m   \u001b[0;32mreturn\u001b[0m \u001b[0mnest\u001b[0m\u001b[0;34m.\u001b[0m\u001b[0mpack_sequence_as\u001b[0m\u001b[0;34m(\u001b[0m\u001b[0melement\u001b[0m\u001b[0;34m,\u001b[0m \u001b[0mnormalized_components\u001b[0m\u001b[0;34m)\u001b[0m\u001b[0;34m\u001b[0m\u001b[0;34m\u001b[0m\u001b[0m\n\u001b[1;32m    113\u001b[0m \u001b[0;34m\u001b[0m\u001b[0m\n",
            "\u001b[0;32m/usr/local/lib/python3.6/dist-packages/tensorflow_core/python/framework/ops.py\u001b[0m in \u001b[0;36mconvert_to_tensor\u001b[0;34m(value, dtype, name, preferred_dtype, dtype_hint)\u001b[0m\n\u001b[1;32m   1182\u001b[0m   preferred_dtype = deprecation.deprecated_argument_lookup(\n\u001b[1;32m   1183\u001b[0m       \"dtype_hint\", dtype_hint, \"preferred_dtype\", preferred_dtype)\n\u001b[0;32m-> 1184\u001b[0;31m   \u001b[0;32mreturn\u001b[0m \u001b[0mconvert_to_tensor_v2\u001b[0m\u001b[0;34m(\u001b[0m\u001b[0mvalue\u001b[0m\u001b[0;34m,\u001b[0m \u001b[0mdtype\u001b[0m\u001b[0;34m,\u001b[0m \u001b[0mpreferred_dtype\u001b[0m\u001b[0;34m,\u001b[0m \u001b[0mname\u001b[0m\u001b[0;34m)\u001b[0m\u001b[0;34m\u001b[0m\u001b[0;34m\u001b[0m\u001b[0m\n\u001b[0m\u001b[1;32m   1185\u001b[0m \u001b[0;34m\u001b[0m\u001b[0m\n\u001b[1;32m   1186\u001b[0m \u001b[0;34m\u001b[0m\u001b[0m\n",
            "\u001b[0;32m/usr/local/lib/python3.6/dist-packages/tensorflow_core/python/framework/ops.py\u001b[0m in \u001b[0;36mconvert_to_tensor_v2\u001b[0;34m(value, dtype, dtype_hint, name)\u001b[0m\n\u001b[1;32m   1240\u001b[0m       \u001b[0mname\u001b[0m\u001b[0;34m=\u001b[0m\u001b[0mname\u001b[0m\u001b[0;34m,\u001b[0m\u001b[0;34m\u001b[0m\u001b[0;34m\u001b[0m\u001b[0m\n\u001b[1;32m   1241\u001b[0m       \u001b[0mpreferred_dtype\u001b[0m\u001b[0;34m=\u001b[0m\u001b[0mdtype_hint\u001b[0m\u001b[0;34m,\u001b[0m\u001b[0;34m\u001b[0m\u001b[0;34m\u001b[0m\u001b[0m\n\u001b[0;32m-> 1242\u001b[0;31m       as_ref=False)\n\u001b[0m\u001b[1;32m   1243\u001b[0m \u001b[0;34m\u001b[0m\u001b[0m\n\u001b[1;32m   1244\u001b[0m \u001b[0;34m\u001b[0m\u001b[0m\n",
            "\u001b[0;32m/usr/local/lib/python3.6/dist-packages/tensorflow_core/python/framework/ops.py\u001b[0m in \u001b[0;36minternal_convert_to_tensor\u001b[0;34m(value, dtype, name, as_ref, preferred_dtype, ctx, accept_composite_tensors)\u001b[0m\n\u001b[1;32m   1294\u001b[0m \u001b[0;34m\u001b[0m\u001b[0m\n\u001b[1;32m   1295\u001b[0m     \u001b[0;32mif\u001b[0m \u001b[0mret\u001b[0m \u001b[0;32mis\u001b[0m \u001b[0;32mNone\u001b[0m\u001b[0;34m:\u001b[0m\u001b[0;34m\u001b[0m\u001b[0;34m\u001b[0m\u001b[0m\n\u001b[0;32m-> 1296\u001b[0;31m       \u001b[0mret\u001b[0m \u001b[0;34m=\u001b[0m \u001b[0mconversion_func\u001b[0m\u001b[0;34m(\u001b[0m\u001b[0mvalue\u001b[0m\u001b[0;34m,\u001b[0m \u001b[0mdtype\u001b[0m\u001b[0;34m=\u001b[0m\u001b[0mdtype\u001b[0m\u001b[0;34m,\u001b[0m \u001b[0mname\u001b[0m\u001b[0;34m=\u001b[0m\u001b[0mname\u001b[0m\u001b[0;34m,\u001b[0m \u001b[0mas_ref\u001b[0m\u001b[0;34m=\u001b[0m\u001b[0mas_ref\u001b[0m\u001b[0;34m)\u001b[0m\u001b[0;34m\u001b[0m\u001b[0;34m\u001b[0m\u001b[0m\n\u001b[0m\u001b[1;32m   1297\u001b[0m \u001b[0;34m\u001b[0m\u001b[0m\n\u001b[1;32m   1298\u001b[0m     \u001b[0;32mif\u001b[0m \u001b[0mret\u001b[0m \u001b[0;32mis\u001b[0m \u001b[0mNotImplemented\u001b[0m\u001b[0;34m:\u001b[0m\u001b[0;34m\u001b[0m\u001b[0;34m\u001b[0m\u001b[0m\n",
            "\u001b[0;32m/usr/local/lib/python3.6/dist-packages/tensorflow_core/python/framework/tensor_conversion_registry.py\u001b[0m in \u001b[0;36m_default_conversion_function\u001b[0;34m(***failed resolving arguments***)\u001b[0m\n\u001b[1;32m     50\u001b[0m \u001b[0;32mdef\u001b[0m \u001b[0m_default_conversion_function\u001b[0m\u001b[0;34m(\u001b[0m\u001b[0mvalue\u001b[0m\u001b[0;34m,\u001b[0m \u001b[0mdtype\u001b[0m\u001b[0;34m,\u001b[0m \u001b[0mname\u001b[0m\u001b[0;34m,\u001b[0m \u001b[0mas_ref\u001b[0m\u001b[0;34m)\u001b[0m\u001b[0;34m:\u001b[0m\u001b[0;34m\u001b[0m\u001b[0;34m\u001b[0m\u001b[0m\n\u001b[1;32m     51\u001b[0m   \u001b[0;32mdel\u001b[0m \u001b[0mas_ref\u001b[0m  \u001b[0;31m# Unused.\u001b[0m\u001b[0;34m\u001b[0m\u001b[0;34m\u001b[0m\u001b[0m\n\u001b[0;32m---> 52\u001b[0;31m   \u001b[0;32mreturn\u001b[0m \u001b[0mconstant_op\u001b[0m\u001b[0;34m.\u001b[0m\u001b[0mconstant\u001b[0m\u001b[0;34m(\u001b[0m\u001b[0mvalue\u001b[0m\u001b[0;34m,\u001b[0m \u001b[0mdtype\u001b[0m\u001b[0;34m,\u001b[0m \u001b[0mname\u001b[0m\u001b[0;34m=\u001b[0m\u001b[0mname\u001b[0m\u001b[0;34m)\u001b[0m\u001b[0;34m\u001b[0m\u001b[0;34m\u001b[0m\u001b[0m\n\u001b[0m\u001b[1;32m     53\u001b[0m \u001b[0;34m\u001b[0m\u001b[0m\n\u001b[1;32m     54\u001b[0m \u001b[0;34m\u001b[0m\u001b[0m\n",
            "\u001b[0;32m/usr/local/lib/python3.6/dist-packages/tensorflow_core/python/framework/constant_op.py\u001b[0m in \u001b[0;36mconstant\u001b[0;34m(value, dtype, shape, name)\u001b[0m\n\u001b[1;32m    225\u001b[0m   \"\"\"\n\u001b[1;32m    226\u001b[0m   return _constant_impl(value, dtype, shape, name, verify_shape=False,\n\u001b[0;32m--> 227\u001b[0;31m                         allow_broadcast=True)\n\u001b[0m\u001b[1;32m    228\u001b[0m \u001b[0;34m\u001b[0m\u001b[0m\n\u001b[1;32m    229\u001b[0m \u001b[0;34m\u001b[0m\u001b[0m\n",
            "\u001b[0;32m/usr/local/lib/python3.6/dist-packages/tensorflow_core/python/framework/constant_op.py\u001b[0m in \u001b[0;36m_constant_impl\u001b[0;34m(value, dtype, shape, name, verify_shape, allow_broadcast)\u001b[0m\n\u001b[1;32m    233\u001b[0m   \u001b[0mctx\u001b[0m \u001b[0;34m=\u001b[0m \u001b[0mcontext\u001b[0m\u001b[0;34m.\u001b[0m\u001b[0mcontext\u001b[0m\u001b[0;34m(\u001b[0m\u001b[0;34m)\u001b[0m\u001b[0;34m\u001b[0m\u001b[0;34m\u001b[0m\u001b[0m\n\u001b[1;32m    234\u001b[0m   \u001b[0;32mif\u001b[0m \u001b[0mctx\u001b[0m\u001b[0;34m.\u001b[0m\u001b[0mexecuting_eagerly\u001b[0m\u001b[0;34m(\u001b[0m\u001b[0;34m)\u001b[0m\u001b[0;34m:\u001b[0m\u001b[0;34m\u001b[0m\u001b[0;34m\u001b[0m\u001b[0m\n\u001b[0;32m--> 235\u001b[0;31m     \u001b[0mt\u001b[0m \u001b[0;34m=\u001b[0m \u001b[0mconvert_to_eager_tensor\u001b[0m\u001b[0;34m(\u001b[0m\u001b[0mvalue\u001b[0m\u001b[0;34m,\u001b[0m \u001b[0mctx\u001b[0m\u001b[0;34m,\u001b[0m \u001b[0mdtype\u001b[0m\u001b[0;34m)\u001b[0m\u001b[0;34m\u001b[0m\u001b[0;34m\u001b[0m\u001b[0m\n\u001b[0m\u001b[1;32m    236\u001b[0m     \u001b[0;32mif\u001b[0m \u001b[0mshape\u001b[0m \u001b[0;32mis\u001b[0m \u001b[0;32mNone\u001b[0m\u001b[0;34m:\u001b[0m\u001b[0;34m\u001b[0m\u001b[0;34m\u001b[0m\u001b[0m\n\u001b[1;32m    237\u001b[0m       \u001b[0;32mreturn\u001b[0m \u001b[0mt\u001b[0m\u001b[0;34m\u001b[0m\u001b[0;34m\u001b[0m\u001b[0m\n",
            "\u001b[0;32m/usr/local/lib/python3.6/dist-packages/tensorflow_core/python/framework/constant_op.py\u001b[0m in \u001b[0;36mconvert_to_eager_tensor\u001b[0;34m(value, ctx, dtype)\u001b[0m\n\u001b[1;32m     94\u001b[0m       \u001b[0mdtype\u001b[0m \u001b[0;34m=\u001b[0m \u001b[0mdtypes\u001b[0m\u001b[0;34m.\u001b[0m\u001b[0mas_dtype\u001b[0m\u001b[0;34m(\u001b[0m\u001b[0mdtype\u001b[0m\u001b[0;34m)\u001b[0m\u001b[0;34m.\u001b[0m\u001b[0mas_datatype_enum\u001b[0m\u001b[0;34m\u001b[0m\u001b[0;34m\u001b[0m\u001b[0m\n\u001b[1;32m     95\u001b[0m   \u001b[0mctx\u001b[0m\u001b[0;34m.\u001b[0m\u001b[0mensure_initialized\u001b[0m\u001b[0;34m(\u001b[0m\u001b[0;34m)\u001b[0m\u001b[0;34m\u001b[0m\u001b[0;34m\u001b[0m\u001b[0m\n\u001b[0;32m---> 96\u001b[0;31m   \u001b[0;32mreturn\u001b[0m \u001b[0mops\u001b[0m\u001b[0;34m.\u001b[0m\u001b[0mEagerTensor\u001b[0m\u001b[0;34m(\u001b[0m\u001b[0mvalue\u001b[0m\u001b[0;34m,\u001b[0m \u001b[0mctx\u001b[0m\u001b[0;34m.\u001b[0m\u001b[0mdevice_name\u001b[0m\u001b[0;34m,\u001b[0m \u001b[0mdtype\u001b[0m\u001b[0;34m)\u001b[0m\u001b[0;34m\u001b[0m\u001b[0;34m\u001b[0m\u001b[0m\n\u001b[0m\u001b[1;32m     97\u001b[0m \u001b[0;34m\u001b[0m\u001b[0m\n\u001b[1;32m     98\u001b[0m \u001b[0;34m\u001b[0m\u001b[0m\n",
            "\u001b[0;31mValueError\u001b[0m: Failed to convert a NumPy array to a Tensor (Unsupported object type int)."
          ]
        }
      ]
    },
    {
      "cell_type": "code",
      "metadata": {
        "id": "XxRu181h0BzT",
        "colab_type": "code",
        "outputId": "f4ddd438-d391-4370-a402-fb4cac08370a",
        "colab": {
          "base_uri": "https://localhost:8080/",
          "height": 52
        }
      },
      "source": [
        "data_container.train.x[1]"
      ],
      "execution_count": 38,
      "outputs": [
        {
          "output_type": "execute_result",
          "data": {
            "text/plain": [
              "\"@united Yes. Doesn't make that mistake any less absurd. Doesn't change the fact that I'm very inconveniently missing my luggage tonight.\""
            ]
          },
          "metadata": {
            "tags": []
          },
          "execution_count": 38
        }
      ]
    },
    {
      "cell_type": "code",
      "metadata": {
        "id": "B7gW41B-H-7Q",
        "colab_type": "code",
        "colab": {
          "base_uri": "https://localhost:8080/",
          "height": 32
        },
        "outputId": "e79c327b-5bef-424e-dbfb-104c99173932"
      },
      "source": [
        "data_container.train.y[1]"
      ],
      "execution_count": 39,
      "outputs": [
        {
          "output_type": "execute_result",
          "data": {
            "text/plain": [
              "'negative'"
            ]
          },
          "metadata": {
            "tags": []
          },
          "execution_count": 39
        }
      ]
    },
    {
      "cell_type": "code",
      "metadata": {
        "id": "EXj-poUm0Nx4",
        "colab_type": "code",
        "outputId": "087382dd-22d6-409a-c272-9843991cd254",
        "colab": {
          "base_uri": "https://localhost:8080/",
          "height": 32
        }
      },
      "source": [
        "[key for key, val in category_map.items() if val == data_container.train.y[1]]"
      ],
      "execution_count": 126,
      "outputs": [
        {
          "output_type": "execute_result",
          "data": {
            "text/plain": [
              "['negative']"
            ]
          },
          "metadata": {
            "tags": []
          },
          "execution_count": 126
        }
      ]
    },
    {
      "cell_type": "code",
      "metadata": {
        "id": "Gqg7be1V0Y1t",
        "colab_type": "code",
        "colab": {}
      },
      "source": [
        "def preprocess(x, y, max_length=50):\n",
        "    x = tf.strings.regex_replace(x, b\"^@[a-zA-Z]+\", b\" \")\n",
        "    x = tf.strings.regex_replace(x, rb\"<br\\s*/?>\", b\" \")\n",
        "    x = tf.strings.regex_replace(x, b\"[^a-zA-Z']\", b\" \")\n",
        "    x = tf.strings.split(x)\n",
        "    x = x[:, :max_length]\n",
        "    return x.to_tensor(default_value=b\"<pad>\"), y"
      ],
      "execution_count": 0,
      "outputs": []
    },
    {
      "cell_type": "code",
      "metadata": {
        "id": "D0tmMf2j18MO",
        "colab_type": "code",
        "colab": {}
      },
      "source": [
        "BATCH_SIZE = 32"
      ],
      "execution_count": 0,
      "outputs": []
    },
    {
      "cell_type": "code",
      "metadata": {
        "id": "aW1tJIAj12P3",
        "colab_type": "code",
        "outputId": "54fd1bf1-ad4d-42e9-f4cd-5f89c4ebfb9b",
        "colab": {
          "base_uri": "https://localhost:8080/",
          "height": 148
        }
      },
      "source": [
        "for x, y in data_container.train.dataset.batch(BATCH_SIZE).map(preprocess).take(1):\n",
        "    print(x.shape)\n",
        "    print(y.shape)\n",
        "    print(x[2])\n",
        "    print(y[2])"
      ],
      "execution_count": 129,
      "outputs": [
        {
          "output_type": "stream",
          "text": [
            "(32, 28)\n",
            "(32,)\n",
            "tf.Tensor(\n",
            "[b'of' b'course' b'I' b'work' b'for' b'VirginAtlantic' b'and' b\"I'm\"\n",
            " b'obsessed' b'with' b'the' b'entire' b'Virgin' b'family' b'<pad>'\n",
            " b'<pad>' b'<pad>' b'<pad>' b'<pad>' b'<pad>' b'<pad>' b'<pad>' b'<pad>'\n",
            " b'<pad>' b'<pad>' b'<pad>' b'<pad>' b'<pad>'], shape=(28,), dtype=string)\n",
            "tf.Tensor(2, shape=(), dtype=int64)\n"
          ],
          "name": "stdout"
        }
      ]
    },
    {
      "cell_type": "code",
      "metadata": {
        "id": "-rdePYTd2A8D",
        "colab_type": "code",
        "colab": {}
      },
      "source": [
        "def make_vocabulary(dataset):\n",
        "    vocabulary = Counter()\n",
        "    for x, _ in dataset.batch(BATCH_SIZE).map(preprocess):\n",
        "        for review in x:\n",
        "            vocabulary.update(review.numpy().tolist())\n",
        "    return vocabulary"
      ],
      "execution_count": 0,
      "outputs": []
    },
    {
      "cell_type": "code",
      "metadata": {
        "id": "A1KjYiWl4cGO",
        "colab_type": "code",
        "colab": {}
      },
      "source": [
        "VOCABULARY_SIZE = 5000"
      ],
      "execution_count": 0,
      "outputs": []
    },
    {
      "cell_type": "code",
      "metadata": {
        "id": "5nWCsb874gcb",
        "colab_type": "code",
        "colab": {}
      },
      "source": [
        "vocabulary = make_vocabulary(data_container.train.dataset)"
      ],
      "execution_count": 0,
      "outputs": []
    },
    {
      "cell_type": "code",
      "metadata": {
        "id": "pXPBIoMB4jfa",
        "colab_type": "code",
        "outputId": "dd850791-5bb8-4bbb-8303-4228e8fdc859",
        "colab": {
          "base_uri": "https://localhost:8080/",
          "height": 263
        }
      },
      "source": [
        "vocabulary.most_common()[:15]"
      ],
      "execution_count": 133,
      "outputs": [
        {
          "output_type": "execute_result",
          "data": {
            "text/plain": [
              "[(b'<pad>', 65091),\n",
              " (b'to', 2852),\n",
              " (b'the', 2025),\n",
              " (b'I', 1681),\n",
              " (b'a', 1543),\n",
              " (b'you', 1530),\n",
              " (b'for', 1412),\n",
              " (b'on', 1087),\n",
              " (b'and', 1053),\n",
              " (b'flight', 1016),\n",
              " (b'my', 993),\n",
              " (b'in', 880),\n",
              " (b'is', 827),\n",
              " (b'of', 712),\n",
              " (b'it', 661)]"
            ]
          },
          "metadata": {
            "tags": []
          },
          "execution_count": 133
        }
      ]
    },
    {
      "cell_type": "code",
      "metadata": {
        "id": "ZSDfLluU4mmL",
        "colab_type": "code",
        "outputId": "b9e0d0ab-2510-47f3-bd1d-4c3f96a46065",
        "colab": {
          "base_uri": "https://localhost:8080/",
          "height": 32
        }
      },
      "source": [
        "len(vocabulary)"
      ],
      "execution_count": 134,
      "outputs": [
        {
          "output_type": "execute_result",
          "data": {
            "text/plain": [
              "6667"
            ]
          },
          "metadata": {
            "tags": []
          },
          "execution_count": 134
        }
      ]
    },
    {
      "cell_type": "code",
      "metadata": {
        "id": "SygAnSOz4zA_",
        "colab_type": "code",
        "colab": {}
      },
      "source": [
        "truncated_vocabulary = [\n",
        "    word for word, count in vocabulary.most_common()[:VOCABULARY_SIZE]\n",
        "]"
      ],
      "execution_count": 0,
      "outputs": []
    },
    {
      "cell_type": "code",
      "metadata": {
        "id": "OrvVSPRL5Ei-",
        "colab_type": "code",
        "outputId": "9b87d520-79c5-4fc0-ad53-d686ae536b94",
        "colab": {
          "base_uri": "https://localhost:8080/",
          "height": 32
        }
      },
      "source": [
        "len(truncated_vocabulary)"
      ],
      "execution_count": 136,
      "outputs": [
        {
          "output_type": "execute_result",
          "data": {
            "text/plain": [
              "5000"
            ]
          },
          "metadata": {
            "tags": []
          },
          "execution_count": 136
        }
      ]
    },
    {
      "cell_type": "code",
      "metadata": {
        "id": "M070dof_5G-_",
        "colab_type": "code",
        "colab": {}
      },
      "source": [
        "word_to_id = {word: index for index, word in enumerate(truncated_vocabulary)}"
      ],
      "execution_count": 0,
      "outputs": []
    },
    {
      "cell_type": "code",
      "metadata": {
        "id": "VSDEkhHa5Kq-",
        "colab_type": "code",
        "outputId": "0b5a0c28-957d-4f0e-8eea-a88e64e5191e",
        "colab": {
          "base_uri": "https://localhost:8080/",
          "height": 131
        }
      },
      "source": [
        "for word in b\"it is fun to travel by boat\".split():\n",
        "    print(word_to_id.get(word) or VOCABULARY_SIZE)"
      ],
      "execution_count": 138,
      "outputs": [
        {
          "output_type": "stream",
          "text": [
            "14\n",
            "12\n",
            "733\n",
            "1\n",
            "175\n",
            "115\n",
            "5000\n"
          ],
          "name": "stdout"
        }
      ]
    },
    {
      "cell_type": "code",
      "metadata": {
        "id": "x5Yk4Okh5aHK",
        "colab_type": "code",
        "colab": {}
      },
      "source": [
        "words = tf.constant(truncated_vocabulary)"
      ],
      "execution_count": 0,
      "outputs": []
    },
    {
      "cell_type": "code",
      "metadata": {
        "id": "uupnPOBu55ZJ",
        "colab_type": "code",
        "colab": {}
      },
      "source": [
        "word_ids = tf.range(len(truncated_vocabulary), dtype=tf.int64)"
      ],
      "execution_count": 0,
      "outputs": []
    },
    {
      "cell_type": "code",
      "metadata": {
        "id": "InvT42ZI58aY",
        "colab_type": "code",
        "colab": {}
      },
      "source": [
        "vocab_init = tf.lookup.KeyValueTensorInitializer(words, word_ids)"
      ],
      "execution_count": 0,
      "outputs": []
    },
    {
      "cell_type": "code",
      "metadata": {
        "id": "jyzXJhOe5_ka",
        "colab_type": "code",
        "outputId": "85e19d86-9158-461c-9660-97901d4f8447",
        "colab": {
          "base_uri": "https://localhost:8080/",
          "height": 32
        }
      },
      "source": [
        "n_oov_buckets = VOCABULARY_SIZE // 10\n",
        "n_oov_buckets"
      ],
      "execution_count": 142,
      "outputs": [
        {
          "output_type": "execute_result",
          "data": {
            "text/plain": [
              "500"
            ]
          },
          "metadata": {
            "tags": []
          },
          "execution_count": 142
        }
      ]
    },
    {
      "cell_type": "code",
      "metadata": {
        "id": "U7Rp1iFl6KjV",
        "colab_type": "code",
        "colab": {}
      },
      "source": [
        "table = tf.lookup.StaticVocabularyTable(vocab_init, n_oov_buckets)"
      ],
      "execution_count": 0,
      "outputs": []
    },
    {
      "cell_type": "code",
      "metadata": {
        "id": "p_QlwvcB6Nc9",
        "colab_type": "code",
        "outputId": "5363d32c-1ce5-45e0-eb27-6191cb014249",
        "colab": {
          "base_uri": "https://localhost:8080/",
          "height": 32
        }
      },
      "source": [
        "table.lookup(tf.constant([b\"it is fun to travel by boat\".split()]))"
      ],
      "execution_count": 144,
      "outputs": [
        {
          "output_type": "execute_result",
          "data": {
            "text/plain": [
              "<tf.Tensor: id=22654, shape=(1, 7), dtype=int64, numpy=array([[  14,   12,  733,    1,  175,  115, 5325]])>"
            ]
          },
          "metadata": {
            "tags": []
          },
          "execution_count": 144
        }
      ]
    },
    {
      "cell_type": "code",
      "metadata": {
        "id": "_PQefS7o6XL3",
        "colab_type": "code",
        "colab": {}
      },
      "source": [
        "def encode_words(x, y):\n",
        "    return table.lookup(x), y"
      ],
      "execution_count": 0,
      "outputs": []
    },
    {
      "cell_type": "code",
      "metadata": {
        "id": "hZ02VzNF6iGb",
        "colab_type": "code",
        "colab": {}
      },
      "source": [
        "def encode_categories(x, y):\n",
        "    return table.lookup(x), y"
      ],
      "execution_count": 0,
      "outputs": []
    },
    {
      "cell_type": "code",
      "metadata": {
        "id": "yO_Rj3WU6kKz",
        "colab_type": "code",
        "colab": {}
      },
      "source": [
        "train_dataset = (\n",
        "    data_container.train.dataset.repeat()\n",
        "    .batch(BATCH_SIZE)\n",
        "    .map(preprocess)\n",
        "    .map(encode_words)\n",
        "    .prefetch(-1)\n",
        ")"
      ],
      "execution_count": 0,
      "outputs": []
    },
    {
      "cell_type": "code",
      "metadata": {
        "id": "UAxRDDDs6r_k",
        "colab_type": "code",
        "colab": {}
      },
      "source": [
        "validation_dataset = (\n",
        "    data_container.validation.dataset.batch(BATCH_SIZE)\n",
        "    .map(preprocess)\n",
        "    .map(encode_words)\n",
        ")"
      ],
      "execution_count": 0,
      "outputs": []
    },
    {
      "cell_type": "code",
      "metadata": {
        "id": "VH7eKQol6ub8",
        "colab_type": "code",
        "outputId": "fa3c7224-9405-48f8-91cd-1e875a96f98d",
        "colab": {
          "base_uri": "https://localhost:8080/",
          "height": 115
        }
      },
      "source": [
        "for x, y in train_dataset.take(1):\n",
        "    print(x.shape)\n",
        "    print(y.shape)\n",
        "    print(x[2])\n",
        "    print(y[2])"
      ],
      "execution_count": 149,
      "outputs": [
        {
          "output_type": "stream",
          "text": [
            "(32, 28)\n",
            "(32,)\n",
            "tf.Tensor(\n",
            "[  13  540    3  157    6  972    8   44 1879   17    2  698  333  667\n",
            "    0    0    0    0    0    0    0    0    0    0    0    0    0    0], shape=(28,), dtype=int64)\n",
            "tf.Tensor(2, shape=(), dtype=int64)\n"
          ],
          "name": "stdout"
        }
      ]
    },
    {
      "cell_type": "code",
      "metadata": {
        "id": "ZThwUxat6zQx",
        "colab_type": "code",
        "outputId": "4e467340-9268-4995-97ea-8914da981cf0",
        "colab": {
          "base_uri": "https://localhost:8080/",
          "height": 131
        }
      },
      "source": [
        "for x, y in validation_dataset.take(1):\n",
        "    print(x.shape)\n",
        "    print(y.shape)\n",
        "    print(x[0])\n",
        "    print(y[0])"
      ],
      "execution_count": 150,
      "outputs": [
        {
          "output_type": "stream",
          "text": [
            "(32, 29)\n",
            "(32,)\n",
            "tf.Tensor(\n",
            "[1202  410 1529  504  362  277 2379   33   66  256    6 4005 1258  876\n",
            "    1  100 1819 2488 1202    0    0    0    0    0    0    0    0    0\n",
            "    0], shape=(29,), dtype=int64)\n",
            "tf.Tensor(1, shape=(), dtype=int64)\n"
          ],
          "name": "stdout"
        }
      ]
    },
    {
      "cell_type": "code",
      "metadata": {
        "id": "7KSlOZB27BiY",
        "colab_type": "code",
        "colab": {}
      },
      "source": [
        "train_dataset_steps = len(data_container.train) // BATCH_SIZE"
      ],
      "execution_count": 0,
      "outputs": []
    },
    {
      "cell_type": "code",
      "metadata": {
        "id": "QXfWhfs-7FnP",
        "colab_type": "code",
        "colab": {}
      },
      "source": [
        "validation_dataset_steps = len(data_container.validation) // BATCH_SIZE"
      ],
      "execution_count": 0,
      "outputs": []
    },
    {
      "cell_type": "markdown",
      "metadata": {
        "id": "BZeeR0cP9jz5",
        "colab_type": "text"
      },
      "source": [
        "# Create Models"
      ]
    },
    {
      "cell_type": "markdown",
      "metadata": {
        "id": "2d4N-2QS9pah",
        "colab_type": "text"
      },
      "source": [
        "## Bidirectional LSTM model"
      ]
    },
    {
      "cell_type": "code",
      "metadata": {
        "id": "_nM9K34M7HnV",
        "colab_type": "code",
        "colab": {}
      },
      "source": [
        "def make_sequential_lstm_model(\n",
        "    n_categories, embedding_size, lstm_size, lstm_dropout, dropout\n",
        "):\n",
        "    return keras.models.Sequential(\n",
        "        [\n",
        "            keras.layers.Embedding(\n",
        "                VOCABULARY_SIZE + n_oov_buckets,\n",
        "                embedding_size,\n",
        "                mask_zero=True,\n",
        "                input_shape=[None],\n",
        "            ),\n",
        "            keras.layers.Bidirectional(\n",
        "                keras.layers.LSTM(\n",
        "                    lstm_size, dropout=lstm_dropout, return_sequences=True\n",
        "                )\n",
        "            ),\n",
        "            keras.layers.Bidirectional(\n",
        "                keras.layers.LSTM(\n",
        "                    lstm_size, dropout=lstm_dropout, return_sequences=True\n",
        "                )\n",
        "            ),\n",
        "            keras.layers.GlobalMaxPool1D(),\n",
        "            keras.layers.Dropout(dropout),\n",
        "            keras.layers.Dense(n_categories, activation=keras.activations.softmax),\n",
        "        ]\n",
        "    )"
      ],
      "execution_count": 0,
      "outputs": []
    },
    {
      "cell_type": "code",
      "metadata": {
        "id": "ZMw9l0x-7OcX",
        "colab_type": "code",
        "colab": {}
      },
      "source": [
        "model = make_sequential_lstm_model(\n",
        "    n_categories=n_categories,\n",
        "    embedding_size=64,\n",
        "    lstm_size=64,\n",
        "    lstm_dropout=0.2,\n",
        "    dropout=0.5,\n",
        ")"
      ],
      "execution_count": 0,
      "outputs": []
    },
    {
      "cell_type": "code",
      "metadata": {
        "id": "eWFiiAl_7THY",
        "colab_type": "code",
        "colab": {}
      },
      "source": [
        "model.compile(\n",
        "    loss=keras.losses.sparse_categorical_crossentropy,\n",
        "    optimizer=keras.optimizers.Adam(lr=3e-4),\n",
        "    metrics=[\n",
        "        keras.metrics.sparse_categorical_accuracy,\n",
        "        sparse_top_2_categorical_accuracy,\n",
        "    ],\n",
        ")"
      ],
      "execution_count": 0,
      "outputs": []
    },
    {
      "cell_type": "code",
      "metadata": {
        "id": "mfmJF2_U7Xsd",
        "colab_type": "code",
        "outputId": "5d524de0-033b-40e2-ca2c-4a233fd757b5",
        "colab": {
          "base_uri": "https://localhost:8080/",
          "height": 250
        }
      },
      "source": [
        "history = model.fit(\n",
        "    train_dataset,\n",
        "    steps_per_epoch=train_dataset_steps,\n",
        "    validation_data=validation_dataset,\n",
        "    validation_steps=validation_dataset_steps,\n",
        "    epochs=15,\n",
        "    callbacks=[\n",
        "        keras.callbacks.ReduceLROnPlateau(patience=4, factor=0.3),\n",
        "        keras.callbacks.EarlyStopping(patience=4, restore_best_weights=True),\n",
        "    ],\n",
        "    class_weight=class_weights,\n",
        ")"
      ],
      "execution_count": 0,
      "outputs": [
        {
          "output_type": "stream",
          "text": [
            "Train for 81 steps, validate for 10 steps\n",
            "Epoch 1/15\n",
            "81/81 [==============================] - 25s 306ms/step - loss: 0.9322 - sparse_categorical_accuracy: 0.6458 - sparse_top_2_categorical_accuracy: 0.8353 - val_loss: 0.8327 - val_sparse_categorical_accuracy: 0.6219 - val_sparse_top_2_categorical_accuracy: 0.8469\n",
            "Epoch 2/15\n",
            "81/81 [==============================] - 3s 37ms/step - loss: 0.7414 - sparse_categorical_accuracy: 0.6574 - sparse_top_2_categorical_accuracy: 0.8468 - val_loss: 0.7878 - val_sparse_categorical_accuracy: 0.6500 - val_sparse_top_2_categorical_accuracy: 0.8656\n",
            "Epoch 3/15\n",
            "81/81 [==============================] - 3s 36ms/step - loss: 0.5665 - sparse_categorical_accuracy: 0.7473 - sparse_top_2_categorical_accuracy: 0.9348 - val_loss: 0.8953 - val_sparse_categorical_accuracy: 0.6781 - val_sparse_top_2_categorical_accuracy: 0.8844\n",
            "Epoch 4/15\n",
            "81/81 [==============================] - 3s 38ms/step - loss: 0.4393 - sparse_categorical_accuracy: 0.7897 - sparse_top_2_categorical_accuracy: 0.9657 - val_loss: 1.0124 - val_sparse_categorical_accuracy: 0.6687 - val_sparse_top_2_categorical_accuracy: 0.8656\n",
            "Epoch 5/15\n",
            "81/81 [==============================] - 3s 38ms/step - loss: 0.3655 - sparse_categorical_accuracy: 0.8194 - sparse_top_2_categorical_accuracy: 0.9803 - val_loss: 1.1622 - val_sparse_categorical_accuracy: 0.6313 - val_sparse_top_2_categorical_accuracy: 0.8531\n",
            "Epoch 6/15\n",
            "81/81 [==============================] - 3s 38ms/step - loss: 0.3132 - sparse_categorical_accuracy: 0.8426 - sparse_top_2_categorical_accuracy: 0.9861 - val_loss: 1.3954 - val_sparse_categorical_accuracy: 0.6219 - val_sparse_top_2_categorical_accuracy: 0.8281\n"
          ],
          "name": "stdout"
        }
      ]
    },
    {
      "cell_type": "code",
      "metadata": {
        "id": "jlIv7ueoAgdC",
        "colab_type": "code",
        "outputId": "ba373434-d10d-415d-a6cc-5d567e717cb8",
        "colab": {
          "base_uri": "https://localhost:8080/",
          "height": 69
        }
      },
      "source": [
        "model.evaluate(validation_dataset, steps=validation_dataset_steps)"
      ],
      "execution_count": 0,
      "outputs": [
        {
          "output_type": "stream",
          "text": [
            "10/10 [==============================] - 0s 13ms/step - loss: 0.7878 - sparse_categorical_accuracy: 0.6500 - sparse_top_2_categorical_accuracy: 0.8656\n"
          ],
          "name": "stdout"
        },
        {
          "output_type": "execute_result",
          "data": {
            "text/plain": [
              "[0.7877965778112411, 0.65, 0.865625]"
            ]
          },
          "metadata": {
            "tags": []
          },
          "execution_count": 135
        }
      ]
    },
    {
      "cell_type": "code",
      "metadata": {
        "id": "7UESYrHNAlB7",
        "colab_type": "code",
        "outputId": "42500c2f-253d-490a-cf81-df727826f70e",
        "colab": {
          "base_uri": "https://localhost:8080/",
          "height": 181
        }
      },
      "source": [
        "print(\n",
        "    classification_report(\n",
        "        data_container.validation.y, model.predict(validation_dataset).argmax(axis=1)\n",
        "    )\n",
        ")"
      ],
      "execution_count": 0,
      "outputs": [
        {
          "output_type": "stream",
          "text": [
            "              precision    recall  f1-score   support\n",
            "\n",
            "           0       0.31      0.10      0.15        49\n",
            "           1       0.53      0.12      0.20        75\n",
            "           2       0.67      0.98      0.80       204\n",
            "\n",
            "    accuracy                           0.65       328\n",
            "   macro avg       0.51      0.40      0.38       328\n",
            "weighted avg       0.59      0.65      0.56       328\n",
            "\n"
          ],
          "name": "stdout"
        }
      ]
    },
    {
      "cell_type": "markdown",
      "metadata": {
        "id": "4TiTdP4pI-dq",
        "colab_type": "text"
      },
      "source": [
        "Runinng with oversampled dataset"
      ]
    },
    {
      "cell_type": "code",
      "metadata": {
        "id": "LKOo2F-mI8HV",
        "colab_type": "code",
        "colab": {
          "base_uri": "https://localhost:8080/",
          "height": 648
        },
        "outputId": "5b77b3d4-f85f-4c93-c7b3-c02d8a91cf3d"
      },
      "source": [
        "history = model.fit(\n",
        "    train_dataset,\n",
        "    steps_per_epoch=train_dataset_steps,\n",
        "    validation_data=validation_dataset,\n",
        "    validation_steps=validation_dataset_steps,\n",
        "    epochs=15,\n",
        "    callbacks=[\n",
        "        keras.callbacks.ReduceLROnPlateau(patience=4, factor=0.3),\n",
        "        keras.callbacks.EarlyStopping(patience=4, restore_best_weights=True),\n",
        "    ],\n",
        ")"
      ],
      "execution_count": 156,
      "outputs": [
        {
          "output_type": "stream",
          "text": [
            "Train for 171 steps, validate for 19 steps\n",
            "Epoch 1/15\n",
            "171/171 [==============================] - 31s 184ms/step - loss: 1.0289 - sparse_categorical_accuracy: 0.4324 - sparse_top_2_categorical_accuracy: 0.7770 - val_loss: 0.8117 - val_sparse_categorical_accuracy: 0.6168 - val_sparse_top_2_categorical_accuracy: 0.9227\n",
            "Epoch 2/15\n",
            "171/171 [==============================] - 14s 82ms/step - loss: 0.6144 - sparse_categorical_accuracy: 0.7635 - sparse_top_2_categorical_accuracy: 0.9556 - val_loss: 0.4363 - val_sparse_categorical_accuracy: 0.8520 - val_sparse_top_2_categorical_accuracy: 0.9704\n",
            "Epoch 3/15\n",
            "171/171 [==============================] - 14s 83ms/step - loss: 0.3269 - sparse_categorical_accuracy: 0.8977 - sparse_top_2_categorical_accuracy: 0.9856 - val_loss: 0.3140 - val_sparse_categorical_accuracy: 0.9030 - val_sparse_top_2_categorical_accuracy: 0.9819\n",
            "Epoch 4/15\n",
            "171/171 [==============================] - 14s 83ms/step - loss: 0.2117 - sparse_categorical_accuracy: 0.9421 - sparse_top_2_categorical_accuracy: 0.9929 - val_loss: 0.2990 - val_sparse_categorical_accuracy: 0.9211 - val_sparse_top_2_categorical_accuracy: 0.9836\n",
            "Epoch 5/15\n",
            "171/171 [==============================] - 14s 83ms/step - loss: 0.1610 - sparse_categorical_accuracy: 0.9582 - sparse_top_2_categorical_accuracy: 0.9949 - val_loss: 0.2540 - val_sparse_categorical_accuracy: 0.9293 - val_sparse_top_2_categorical_accuracy: 0.9868\n",
            "Epoch 6/15\n",
            "171/171 [==============================] - 14s 83ms/step - loss: 0.1126 - sparse_categorical_accuracy: 0.9715 - sparse_top_2_categorical_accuracy: 0.9969 - val_loss: 0.2759 - val_sparse_categorical_accuracy: 0.9309 - val_sparse_top_2_categorical_accuracy: 0.9836\n",
            "Epoch 7/15\n",
            " 29/171 [====>.........................] - ETA: 11s - loss: 0.1152 - sparse_categorical_accuracy: 0.9665 - sparse_top_2_categorical_accuracy: 0.9978WARNING:tensorflow:Reduce LR on plateau conditioned on metric `val_loss` which is not available. Available metrics are: loss,sparse_categorical_accuracy,sparse_top_2_categorical_accuracy,lr\n",
            "WARNING:tensorflow:Early stopping conditioned on metric `val_loss` which is not available. Available metrics are: loss,sparse_categorical_accuracy,sparse_top_2_categorical_accuracy,lr\n"
          ],
          "name": "stdout"
        },
        {
          "output_type": "error",
          "ename": "KeyboardInterrupt",
          "evalue": "ignored",
          "traceback": [
            "\u001b[0;31m---------------------------------------------------------------------------\u001b[0m",
            "\u001b[0;31mKeyboardInterrupt\u001b[0m                         Traceback (most recent call last)",
            "\u001b[0;32m<ipython-input-156-c01432b38a88>\u001b[0m in \u001b[0;36m<module>\u001b[0;34m()\u001b[0m\n\u001b[1;32m      7\u001b[0m     callbacks=[\n\u001b[1;32m      8\u001b[0m         \u001b[0mkeras\u001b[0m\u001b[0;34m.\u001b[0m\u001b[0mcallbacks\u001b[0m\u001b[0;34m.\u001b[0m\u001b[0mReduceLROnPlateau\u001b[0m\u001b[0;34m(\u001b[0m\u001b[0mpatience\u001b[0m\u001b[0;34m=\u001b[0m\u001b[0;36m4\u001b[0m\u001b[0;34m,\u001b[0m \u001b[0mfactor\u001b[0m\u001b[0;34m=\u001b[0m\u001b[0;36m0.3\u001b[0m\u001b[0;34m)\u001b[0m\u001b[0;34m,\u001b[0m\u001b[0;34m\u001b[0m\u001b[0;34m\u001b[0m\u001b[0m\n\u001b[0;32m----> 9\u001b[0;31m         \u001b[0mkeras\u001b[0m\u001b[0;34m.\u001b[0m\u001b[0mcallbacks\u001b[0m\u001b[0;34m.\u001b[0m\u001b[0mEarlyStopping\u001b[0m\u001b[0;34m(\u001b[0m\u001b[0mpatience\u001b[0m\u001b[0;34m=\u001b[0m\u001b[0;36m4\u001b[0m\u001b[0;34m,\u001b[0m \u001b[0mrestore_best_weights\u001b[0m\u001b[0;34m=\u001b[0m\u001b[0;32mTrue\u001b[0m\u001b[0;34m)\u001b[0m\u001b[0;34m,\u001b[0m\u001b[0;34m\u001b[0m\u001b[0;34m\u001b[0m\u001b[0m\n\u001b[0m\u001b[1;32m     10\u001b[0m     ],\n\u001b[1;32m     11\u001b[0m )\n",
            "\u001b[0;32m/usr/local/lib/python3.6/dist-packages/tensorflow_core/python/keras/engine/training.py\u001b[0m in \u001b[0;36mfit\u001b[0;34m(self, x, y, batch_size, epochs, verbose, callbacks, validation_split, validation_data, shuffle, class_weight, sample_weight, initial_epoch, steps_per_epoch, validation_steps, validation_freq, max_queue_size, workers, use_multiprocessing, **kwargs)\u001b[0m\n\u001b[1;32m    726\u001b[0m         \u001b[0mmax_queue_size\u001b[0m\u001b[0;34m=\u001b[0m\u001b[0mmax_queue_size\u001b[0m\u001b[0;34m,\u001b[0m\u001b[0;34m\u001b[0m\u001b[0;34m\u001b[0m\u001b[0m\n\u001b[1;32m    727\u001b[0m         \u001b[0mworkers\u001b[0m\u001b[0;34m=\u001b[0m\u001b[0mworkers\u001b[0m\u001b[0;34m,\u001b[0m\u001b[0;34m\u001b[0m\u001b[0;34m\u001b[0m\u001b[0m\n\u001b[0;32m--> 728\u001b[0;31m         use_multiprocessing=use_multiprocessing)\n\u001b[0m\u001b[1;32m    729\u001b[0m \u001b[0;34m\u001b[0m\u001b[0m\n\u001b[1;32m    730\u001b[0m   def evaluate(self,\n",
            "\u001b[0;32m/usr/local/lib/python3.6/dist-packages/tensorflow_core/python/keras/engine/training_v2.py\u001b[0m in \u001b[0;36mfit\u001b[0;34m(self, model, x, y, batch_size, epochs, verbose, callbacks, validation_split, validation_data, shuffle, class_weight, sample_weight, initial_epoch, steps_per_epoch, validation_steps, validation_freq, **kwargs)\u001b[0m\n\u001b[1;32m    322\u001b[0m                 \u001b[0mmode\u001b[0m\u001b[0;34m=\u001b[0m\u001b[0mModeKeys\u001b[0m\u001b[0;34m.\u001b[0m\u001b[0mTRAIN\u001b[0m\u001b[0;34m,\u001b[0m\u001b[0;34m\u001b[0m\u001b[0;34m\u001b[0m\u001b[0m\n\u001b[1;32m    323\u001b[0m                 \u001b[0mtraining_context\u001b[0m\u001b[0;34m=\u001b[0m\u001b[0mtraining_context\u001b[0m\u001b[0;34m,\u001b[0m\u001b[0;34m\u001b[0m\u001b[0;34m\u001b[0m\u001b[0m\n\u001b[0;32m--> 324\u001b[0;31m                 total_epochs=epochs)\n\u001b[0m\u001b[1;32m    325\u001b[0m             \u001b[0mcbks\u001b[0m\u001b[0;34m.\u001b[0m\u001b[0mmake_logs\u001b[0m\u001b[0;34m(\u001b[0m\u001b[0mmodel\u001b[0m\u001b[0;34m,\u001b[0m \u001b[0mepoch_logs\u001b[0m\u001b[0;34m,\u001b[0m \u001b[0mtraining_result\u001b[0m\u001b[0;34m,\u001b[0m \u001b[0mModeKeys\u001b[0m\u001b[0;34m.\u001b[0m\u001b[0mTRAIN\u001b[0m\u001b[0;34m)\u001b[0m\u001b[0;34m\u001b[0m\u001b[0;34m\u001b[0m\u001b[0m\n\u001b[1;32m    326\u001b[0m \u001b[0;34m\u001b[0m\u001b[0m\n",
            "\u001b[0;32m/usr/local/lib/python3.6/dist-packages/tensorflow_core/python/keras/engine/training_v2.py\u001b[0m in \u001b[0;36mrun_one_epoch\u001b[0;34m(model, iterator, execution_function, dataset_size, batch_size, strategy, steps_per_epoch, num_samples, mode, training_context, total_epochs)\u001b[0m\n\u001b[1;32m    121\u001b[0m         step=step, mode=mode, size=current_batch_size) as batch_logs:\n\u001b[1;32m    122\u001b[0m       \u001b[0;32mtry\u001b[0m\u001b[0;34m:\u001b[0m\u001b[0;34m\u001b[0m\u001b[0;34m\u001b[0m\u001b[0m\n\u001b[0;32m--> 123\u001b[0;31m         \u001b[0mbatch_outs\u001b[0m \u001b[0;34m=\u001b[0m \u001b[0mexecution_function\u001b[0m\u001b[0;34m(\u001b[0m\u001b[0miterator\u001b[0m\u001b[0;34m)\u001b[0m\u001b[0;34m\u001b[0m\u001b[0;34m\u001b[0m\u001b[0m\n\u001b[0m\u001b[1;32m    124\u001b[0m       \u001b[0;32mexcept\u001b[0m \u001b[0;34m(\u001b[0m\u001b[0mStopIteration\u001b[0m\u001b[0;34m,\u001b[0m \u001b[0merrors\u001b[0m\u001b[0;34m.\u001b[0m\u001b[0mOutOfRangeError\u001b[0m\u001b[0;34m)\u001b[0m\u001b[0;34m:\u001b[0m\u001b[0;34m\u001b[0m\u001b[0;34m\u001b[0m\u001b[0m\n\u001b[1;32m    125\u001b[0m         \u001b[0;31m# TODO(kaftan): File bug about tf function and errors.OutOfRangeError?\u001b[0m\u001b[0;34m\u001b[0m\u001b[0;34m\u001b[0m\u001b[0;34m\u001b[0m\u001b[0m\n",
            "\u001b[0;32m/usr/local/lib/python3.6/dist-packages/tensorflow_core/python/keras/engine/training_v2_utils.py\u001b[0m in \u001b[0;36mexecution_function\u001b[0;34m(input_fn)\u001b[0m\n\u001b[1;32m     84\u001b[0m     \u001b[0;31m# `numpy` translates Tensors to values in Eager mode.\u001b[0m\u001b[0;34m\u001b[0m\u001b[0;34m\u001b[0m\u001b[0;34m\u001b[0m\u001b[0m\n\u001b[1;32m     85\u001b[0m     return nest.map_structure(_non_none_constant_value,\n\u001b[0;32m---> 86\u001b[0;31m                               distributed_function(input_fn))\n\u001b[0m\u001b[1;32m     87\u001b[0m \u001b[0;34m\u001b[0m\u001b[0m\n\u001b[1;32m     88\u001b[0m   \u001b[0;32mreturn\u001b[0m \u001b[0mexecution_function\u001b[0m\u001b[0;34m\u001b[0m\u001b[0;34m\u001b[0m\u001b[0m\n",
            "\u001b[0;32m/usr/local/lib/python3.6/dist-packages/tensorflow_core/python/eager/def_function.py\u001b[0m in \u001b[0;36m__call__\u001b[0;34m(self, *args, **kwds)\u001b[0m\n\u001b[1;32m    455\u001b[0m \u001b[0;34m\u001b[0m\u001b[0m\n\u001b[1;32m    456\u001b[0m     \u001b[0mtracing_count\u001b[0m \u001b[0;34m=\u001b[0m \u001b[0mself\u001b[0m\u001b[0;34m.\u001b[0m\u001b[0m_get_tracing_count\u001b[0m\u001b[0;34m(\u001b[0m\u001b[0;34m)\u001b[0m\u001b[0;34m\u001b[0m\u001b[0;34m\u001b[0m\u001b[0m\n\u001b[0;32m--> 457\u001b[0;31m     \u001b[0mresult\u001b[0m \u001b[0;34m=\u001b[0m \u001b[0mself\u001b[0m\u001b[0;34m.\u001b[0m\u001b[0m_call\u001b[0m\u001b[0;34m(\u001b[0m\u001b[0;34m*\u001b[0m\u001b[0margs\u001b[0m\u001b[0;34m,\u001b[0m \u001b[0;34m**\u001b[0m\u001b[0mkwds\u001b[0m\u001b[0;34m)\u001b[0m\u001b[0;34m\u001b[0m\u001b[0;34m\u001b[0m\u001b[0m\n\u001b[0m\u001b[1;32m    458\u001b[0m     \u001b[0;32mif\u001b[0m \u001b[0mtracing_count\u001b[0m \u001b[0;34m==\u001b[0m \u001b[0mself\u001b[0m\u001b[0;34m.\u001b[0m\u001b[0m_get_tracing_count\u001b[0m\u001b[0;34m(\u001b[0m\u001b[0;34m)\u001b[0m\u001b[0;34m:\u001b[0m\u001b[0;34m\u001b[0m\u001b[0;34m\u001b[0m\u001b[0m\n\u001b[1;32m    459\u001b[0m       \u001b[0mself\u001b[0m\u001b[0;34m.\u001b[0m\u001b[0m_call_counter\u001b[0m\u001b[0;34m.\u001b[0m\u001b[0mcalled_without_tracing\u001b[0m\u001b[0;34m(\u001b[0m\u001b[0;34m)\u001b[0m\u001b[0;34m\u001b[0m\u001b[0;34m\u001b[0m\u001b[0m\n",
            "\u001b[0;32m/usr/local/lib/python3.6/dist-packages/tensorflow_core/python/eager/def_function.py\u001b[0m in \u001b[0;36m_call\u001b[0;34m(self, *args, **kwds)\u001b[0m\n\u001b[1;32m    485\u001b[0m       \u001b[0;31m# In this case we have created variables on the first call, so we run the\u001b[0m\u001b[0;34m\u001b[0m\u001b[0;34m\u001b[0m\u001b[0;34m\u001b[0m\u001b[0m\n\u001b[1;32m    486\u001b[0m       \u001b[0;31m# defunned version which is guaranteed to never create variables.\u001b[0m\u001b[0;34m\u001b[0m\u001b[0;34m\u001b[0m\u001b[0;34m\u001b[0m\u001b[0m\n\u001b[0;32m--> 487\u001b[0;31m       \u001b[0;32mreturn\u001b[0m \u001b[0mself\u001b[0m\u001b[0;34m.\u001b[0m\u001b[0m_stateless_fn\u001b[0m\u001b[0;34m(\u001b[0m\u001b[0;34m*\u001b[0m\u001b[0margs\u001b[0m\u001b[0;34m,\u001b[0m \u001b[0;34m**\u001b[0m\u001b[0mkwds\u001b[0m\u001b[0;34m)\u001b[0m  \u001b[0;31m# pylint: disable=not-callable\u001b[0m\u001b[0;34m\u001b[0m\u001b[0;34m\u001b[0m\u001b[0m\n\u001b[0m\u001b[1;32m    488\u001b[0m     \u001b[0;32melif\u001b[0m \u001b[0mself\u001b[0m\u001b[0;34m.\u001b[0m\u001b[0m_stateful_fn\u001b[0m \u001b[0;32mis\u001b[0m \u001b[0;32mnot\u001b[0m \u001b[0;32mNone\u001b[0m\u001b[0;34m:\u001b[0m\u001b[0;34m\u001b[0m\u001b[0;34m\u001b[0m\u001b[0m\n\u001b[1;32m    489\u001b[0m       \u001b[0;31m# Release the lock early so that multiple threads can perform the call\u001b[0m\u001b[0;34m\u001b[0m\u001b[0;34m\u001b[0m\u001b[0;34m\u001b[0m\u001b[0m\n",
            "\u001b[0;32m/usr/local/lib/python3.6/dist-packages/tensorflow_core/python/eager/function.py\u001b[0m in \u001b[0;36m__call__\u001b[0;34m(self, *args, **kwargs)\u001b[0m\n\u001b[1;32m   1821\u001b[0m     \u001b[0;34m\"\"\"Calls a graph function specialized to the inputs.\"\"\"\u001b[0m\u001b[0;34m\u001b[0m\u001b[0;34m\u001b[0m\u001b[0m\n\u001b[1;32m   1822\u001b[0m     \u001b[0mgraph_function\u001b[0m\u001b[0;34m,\u001b[0m \u001b[0margs\u001b[0m\u001b[0;34m,\u001b[0m \u001b[0mkwargs\u001b[0m \u001b[0;34m=\u001b[0m \u001b[0mself\u001b[0m\u001b[0;34m.\u001b[0m\u001b[0m_maybe_define_function\u001b[0m\u001b[0;34m(\u001b[0m\u001b[0margs\u001b[0m\u001b[0;34m,\u001b[0m \u001b[0mkwargs\u001b[0m\u001b[0;34m)\u001b[0m\u001b[0;34m\u001b[0m\u001b[0;34m\u001b[0m\u001b[0m\n\u001b[0;32m-> 1823\u001b[0;31m     \u001b[0;32mreturn\u001b[0m \u001b[0mgraph_function\u001b[0m\u001b[0;34m.\u001b[0m\u001b[0m_filtered_call\u001b[0m\u001b[0;34m(\u001b[0m\u001b[0margs\u001b[0m\u001b[0;34m,\u001b[0m \u001b[0mkwargs\u001b[0m\u001b[0;34m)\u001b[0m  \u001b[0;31m# pylint: disable=protected-access\u001b[0m\u001b[0;34m\u001b[0m\u001b[0;34m\u001b[0m\u001b[0m\n\u001b[0m\u001b[1;32m   1824\u001b[0m \u001b[0;34m\u001b[0m\u001b[0m\n\u001b[1;32m   1825\u001b[0m   \u001b[0;34m@\u001b[0m\u001b[0mproperty\u001b[0m\u001b[0;34m\u001b[0m\u001b[0;34m\u001b[0m\u001b[0m\n",
            "\u001b[0;32m/usr/local/lib/python3.6/dist-packages/tensorflow_core/python/eager/function.py\u001b[0m in \u001b[0;36m_filtered_call\u001b[0;34m(self, args, kwargs)\u001b[0m\n\u001b[1;32m   1139\u001b[0m          if isinstance(t, (ops.Tensor,\n\u001b[1;32m   1140\u001b[0m                            resource_variable_ops.BaseResourceVariable))),\n\u001b[0;32m-> 1141\u001b[0;31m         self.captured_inputs)\n\u001b[0m\u001b[1;32m   1142\u001b[0m \u001b[0;34m\u001b[0m\u001b[0m\n\u001b[1;32m   1143\u001b[0m   \u001b[0;32mdef\u001b[0m \u001b[0m_call_flat\u001b[0m\u001b[0;34m(\u001b[0m\u001b[0mself\u001b[0m\u001b[0;34m,\u001b[0m \u001b[0margs\u001b[0m\u001b[0;34m,\u001b[0m \u001b[0mcaptured_inputs\u001b[0m\u001b[0;34m,\u001b[0m \u001b[0mcancellation_manager\u001b[0m\u001b[0;34m=\u001b[0m\u001b[0;32mNone\u001b[0m\u001b[0;34m)\u001b[0m\u001b[0;34m:\u001b[0m\u001b[0;34m\u001b[0m\u001b[0;34m\u001b[0m\u001b[0m\n",
            "\u001b[0;32m/usr/local/lib/python3.6/dist-packages/tensorflow_core/python/eager/function.py\u001b[0m in \u001b[0;36m_call_flat\u001b[0;34m(self, args, captured_inputs, cancellation_manager)\u001b[0m\n\u001b[1;32m   1222\u001b[0m     \u001b[0;32mif\u001b[0m \u001b[0mexecuting_eagerly\u001b[0m\u001b[0;34m:\u001b[0m\u001b[0;34m\u001b[0m\u001b[0;34m\u001b[0m\u001b[0m\n\u001b[1;32m   1223\u001b[0m       flat_outputs = forward_function.call(\n\u001b[0;32m-> 1224\u001b[0;31m           ctx, args, cancellation_manager=cancellation_manager)\n\u001b[0m\u001b[1;32m   1225\u001b[0m     \u001b[0;32melse\u001b[0m\u001b[0;34m:\u001b[0m\u001b[0;34m\u001b[0m\u001b[0;34m\u001b[0m\u001b[0m\n\u001b[1;32m   1226\u001b[0m       \u001b[0mgradient_name\u001b[0m \u001b[0;34m=\u001b[0m \u001b[0mself\u001b[0m\u001b[0;34m.\u001b[0m\u001b[0m_delayed_rewrite_functions\u001b[0m\u001b[0;34m.\u001b[0m\u001b[0mregister\u001b[0m\u001b[0;34m(\u001b[0m\u001b[0;34m)\u001b[0m\u001b[0;34m\u001b[0m\u001b[0;34m\u001b[0m\u001b[0m\n",
            "\u001b[0;32m/usr/local/lib/python3.6/dist-packages/tensorflow_core/python/eager/function.py\u001b[0m in \u001b[0;36mcall\u001b[0;34m(self, ctx, args, cancellation_manager)\u001b[0m\n\u001b[1;32m    509\u001b[0m               \u001b[0minputs\u001b[0m\u001b[0;34m=\u001b[0m\u001b[0margs\u001b[0m\u001b[0;34m,\u001b[0m\u001b[0;34m\u001b[0m\u001b[0;34m\u001b[0m\u001b[0m\n\u001b[1;32m    510\u001b[0m               \u001b[0mattrs\u001b[0m\u001b[0;34m=\u001b[0m\u001b[0;34m(\u001b[0m\u001b[0;34m\"executor_type\"\u001b[0m\u001b[0;34m,\u001b[0m \u001b[0mexecutor_type\u001b[0m\u001b[0;34m,\u001b[0m \u001b[0;34m\"config_proto\"\u001b[0m\u001b[0;34m,\u001b[0m \u001b[0mconfig\u001b[0m\u001b[0;34m)\u001b[0m\u001b[0;34m,\u001b[0m\u001b[0;34m\u001b[0m\u001b[0;34m\u001b[0m\u001b[0m\n\u001b[0;32m--> 511\u001b[0;31m               ctx=ctx)\n\u001b[0m\u001b[1;32m    512\u001b[0m         \u001b[0;32melse\u001b[0m\u001b[0;34m:\u001b[0m\u001b[0;34m\u001b[0m\u001b[0;34m\u001b[0m\u001b[0m\n\u001b[1;32m    513\u001b[0m           outputs = execute.execute_with_cancellation(\n",
            "\u001b[0;32m/usr/local/lib/python3.6/dist-packages/tensorflow_core/python/eager/execute.py\u001b[0m in \u001b[0;36mquick_execute\u001b[0;34m(op_name, num_outputs, inputs, attrs, ctx, name)\u001b[0m\n\u001b[1;32m     59\u001b[0m     tensors = pywrap_tensorflow.TFE_Py_Execute(ctx._handle, device_name,\n\u001b[1;32m     60\u001b[0m                                                \u001b[0mop_name\u001b[0m\u001b[0;34m,\u001b[0m \u001b[0minputs\u001b[0m\u001b[0;34m,\u001b[0m \u001b[0mattrs\u001b[0m\u001b[0;34m,\u001b[0m\u001b[0;34m\u001b[0m\u001b[0;34m\u001b[0m\u001b[0m\n\u001b[0;32m---> 61\u001b[0;31m                                                num_outputs)\n\u001b[0m\u001b[1;32m     62\u001b[0m   \u001b[0;32mexcept\u001b[0m \u001b[0mcore\u001b[0m\u001b[0;34m.\u001b[0m\u001b[0m_NotOkStatusException\u001b[0m \u001b[0;32mas\u001b[0m \u001b[0me\u001b[0m\u001b[0;34m:\u001b[0m\u001b[0;34m\u001b[0m\u001b[0;34m\u001b[0m\u001b[0m\n\u001b[1;32m     63\u001b[0m     \u001b[0;32mif\u001b[0m \u001b[0mname\u001b[0m \u001b[0;32mis\u001b[0m \u001b[0;32mnot\u001b[0m \u001b[0;32mNone\u001b[0m\u001b[0;34m:\u001b[0m\u001b[0;34m\u001b[0m\u001b[0;34m\u001b[0m\u001b[0m\n",
            "\u001b[0;31mKeyboardInterrupt\u001b[0m: "
          ]
        }
      ]
    },
    {
      "cell_type": "code",
      "metadata": {
        "id": "NG9x1IwGJHT_",
        "colab_type": "code",
        "colab": {
          "base_uri": "https://localhost:8080/",
          "height": 69
        },
        "outputId": "6a8a44e8-4dc3-4b09-ee61-98067d06e8b8"
      },
      "source": [
        "model.evaluate(validation_dataset, steps=validation_dataset_steps)"
      ],
      "execution_count": 157,
      "outputs": [
        {
          "output_type": "stream",
          "text": [
            "19/19 [==============================] - 0s 20ms/step - loss: 0.2589 - sparse_categorical_accuracy: 0.9375 - sparse_top_2_categorical_accuracy: 0.9918\n"
          ],
          "name": "stdout"
        },
        {
          "output_type": "execute_result",
          "data": {
            "text/plain": [
              "[0.25890663266181946, 0.9375, 0.9917763]"
            ]
          },
          "metadata": {
            "tags": []
          },
          "execution_count": 157
        }
      ]
    },
    {
      "cell_type": "code",
      "metadata": {
        "id": "I1vnzg9VJIXp",
        "colab_type": "code",
        "colab": {
          "base_uri": "https://localhost:8080/",
          "height": 181
        },
        "outputId": "447c21d6-a7cd-49f0-c36d-4294b8f59fac"
      },
      "source": [
        "print(\n",
        "    classification_report(\n",
        "        data_container.validation.y, model.predict(validation_dataset).argmax(axis=1)\n",
        "    )\n",
        ")"
      ],
      "execution_count": 158,
      "outputs": [
        {
          "output_type": "stream",
          "text": [
            "              precision    recall  f1-score   support\n",
            "\n",
            "           0       0.95      0.90      0.92       218\n",
            "           1       0.91      0.92      0.91       198\n",
            "           2       0.96      0.99      0.98       193\n",
            "\n",
            "    accuracy                           0.94       609\n",
            "   macro avg       0.94      0.94      0.94       609\n",
            "weighted avg       0.94      0.94      0.94       609\n",
            "\n"
          ],
          "name": "stdout"
        }
      ]
    },
    {
      "cell_type": "markdown",
      "metadata": {
        "id": "u6QSwXiN_Eow",
        "colab_type": "text"
      },
      "source": [
        "As validation loss not improving at all, try to make architecture more simplier, and try to use smaller LR and more regularization.\n",
        "\n",
        "\n"
      ]
    },
    {
      "cell_type": "code",
      "metadata": {
        "id": "HE2TUN7VlLyh",
        "colab_type": "code",
        "colab": {}
      },
      "source": [
        "def make_sequential_lstm_model_2(\n",
        "    n_categories, embedding_size, lstm_size, lstm_dropout, dropout, l1=1e-8, l2=1e-8,\n",
        "):\n",
        "    return keras.models.Sequential(\n",
        "        [\n",
        "            keras.layers.Embedding(\n",
        "                VOCABULARY_SIZE + n_oov_buckets,\n",
        "                embedding_size,\n",
        "                mask_zero=True,\n",
        "                input_shape=[None],\n",
        "            ),\n",
        "            keras.layers.Bidirectional(\n",
        "                keras.layers.LSTM(\n",
        "                    lstm_size, dropout=lstm_dropout, return_sequences=True\n",
        "                )\n",
        "            ),\n",
        "            keras.layers.GlobalMaxPool1D(),\n",
        "            keras.layers.Dropout(dropout),\n",
        "            keras.layers.Dense(\n",
        "                n_categories, \n",
        "                activation=keras.activations.softmax,\n",
        "                kernel_regularizer=keras.regularizers.l1_l2(l1, l2)\n",
        "            ),\n",
        "        ]\n",
        "    )"
      ],
      "execution_count": 0,
      "outputs": []
    },
    {
      "cell_type": "code",
      "metadata": {
        "id": "vmZJa6Pu_NyA",
        "colab_type": "code",
        "colab": {}
      },
      "source": [
        "model_2 = make_sequential_lstm_model_2(\n",
        "    n_categories=n_categories,\n",
        "    embedding_size=64,\n",
        "    lstm_size=64,\n",
        "    lstm_dropout=0.2,\n",
        "    dropout=0.5,\n",
        "    l1=1e-8,\n",
        "    l2=1e-8,\n",
        ")"
      ],
      "execution_count": 0,
      "outputs": []
    },
    {
      "cell_type": "code",
      "metadata": {
        "id": "kiKtjhLW_3vt",
        "colab_type": "code",
        "colab": {}
      },
      "source": [
        "model_2.compile(\n",
        "    loss=keras.losses.sparse_categorical_crossentropy,\n",
        "    optimizer=keras.optimizers.Adam(lr=1e-5),\n",
        "    metrics=[\n",
        "        keras.metrics.sparse_categorical_accuracy,\n",
        "        sparse_top_2_categorical_accuracy,\n",
        "    ],\n",
        ")"
      ],
      "execution_count": 0,
      "outputs": []
    },
    {
      "cell_type": "code",
      "metadata": {
        "id": "lIzNQks9_nL3",
        "colab_type": "code",
        "outputId": "fb540070-26ea-4515-96b1-64442cd802dc",
        "colab": {
          "base_uri": "https://localhost:8080/",
          "height": 711
        }
      },
      "source": [
        "history_2 = model_2.fit(\n",
        "    train_dataset,\n",
        "    steps_per_epoch=train_dataset_steps,\n",
        "    validation_data=validation_dataset,\n",
        "    validation_steps=validation_dataset_steps,\n",
        "    epochs=20,\n",
        "    callbacks=[\n",
        "        keras.callbacks.ReduceLROnPlateau(patience=4, factor=0.3),\n",
        "        keras.callbacks.EarlyStopping(patience=6, restore_best_weights=True),\n",
        "    ],\n",
        "    class_weight=class_weights,\n",
        ")"
      ],
      "execution_count": 0,
      "outputs": [
        {
          "output_type": "stream",
          "text": [
            "Train for 81 steps, validate for 10 steps\n",
            "Epoch 1/20\n",
            "81/81 [==============================] - 12s 147ms/step - loss: 1.0956 - sparse_categorical_accuracy: 0.3893 - sparse_top_2_categorical_accuracy: 0.7361 - val_loss: 1.0934 - val_sparse_categorical_accuracy: 0.5781 - val_sparse_top_2_categorical_accuracy: 0.8125\n",
            "Epoch 2/20\n",
            "81/81 [==============================] - 3s 41ms/step - loss: 1.0904 - sparse_categorical_accuracy: 0.5150 - sparse_top_2_categorical_accuracy: 0.7859 - val_loss: 1.0883 - val_sparse_categorical_accuracy: 0.6313 - val_sparse_top_2_categorical_accuracy: 0.8094\n",
            "Epoch 3/20\n",
            "81/81 [==============================] - 3s 41ms/step - loss: 1.0849 - sparse_categorical_accuracy: 0.6011 - sparse_top_2_categorical_accuracy: 0.8187 - val_loss: 1.0831 - val_sparse_categorical_accuracy: 0.6344 - val_sparse_top_2_categorical_accuracy: 0.8156\n",
            "Epoch 4/20\n",
            "81/81 [==============================] - 3s 41ms/step - loss: 1.0785 - sparse_categorical_accuracy: 0.6285 - sparse_top_2_categorical_accuracy: 0.8225 - val_loss: 1.0776 - val_sparse_categorical_accuracy: 0.6344 - val_sparse_top_2_categorical_accuracy: 0.8188\n",
            "Epoch 5/20\n",
            "81/81 [==============================] - 3s 41ms/step - loss: 1.0730 - sparse_categorical_accuracy: 0.6385 - sparse_top_2_categorical_accuracy: 0.8191 - val_loss: 1.0717 - val_sparse_categorical_accuracy: 0.6344 - val_sparse_top_2_categorical_accuracy: 0.8281\n",
            "Epoch 6/20\n",
            "81/81 [==============================] - 3s 40ms/step - loss: 1.0659 - sparse_categorical_accuracy: 0.6458 - sparse_top_2_categorical_accuracy: 0.8171 - val_loss: 1.0653 - val_sparse_categorical_accuracy: 0.6344 - val_sparse_top_2_categorical_accuracy: 0.8313\n",
            "Epoch 7/20\n",
            "81/81 [==============================] - 3s 40ms/step - loss: 1.0592 - sparse_categorical_accuracy: 0.6439 - sparse_top_2_categorical_accuracy: 0.8237 - val_loss: 1.0582 - val_sparse_categorical_accuracy: 0.6344 - val_sparse_top_2_categorical_accuracy: 0.8375\n",
            "Epoch 8/20\n",
            "81/81 [==============================] - 3s 40ms/step - loss: 1.0518 - sparse_categorical_accuracy: 0.6431 - sparse_top_2_categorical_accuracy: 0.8279 - val_loss: 1.0501 - val_sparse_categorical_accuracy: 0.6344 - val_sparse_top_2_categorical_accuracy: 0.8344\n",
            "Epoch 9/20\n",
            "81/81 [==============================] - 3s 40ms/step - loss: 1.0411 - sparse_categorical_accuracy: 0.6462 - sparse_top_2_categorical_accuracy: 0.8287 - val_loss: 1.0403 - val_sparse_categorical_accuracy: 0.6344 - val_sparse_top_2_categorical_accuracy: 0.8406\n",
            "Epoch 10/20\n",
            "81/81 [==============================] - 3s 40ms/step - loss: 1.0295 - sparse_categorical_accuracy: 0.6435 - sparse_top_2_categorical_accuracy: 0.8476 - val_loss: 1.0280 - val_sparse_categorical_accuracy: 0.6344 - val_sparse_top_2_categorical_accuracy: 0.8438\n",
            "Epoch 11/20\n",
            "81/81 [==============================] - 3s 41ms/step - loss: 1.0154 - sparse_categorical_accuracy: 0.6439 - sparse_top_2_categorical_accuracy: 0.8364 - val_loss: 1.0113 - val_sparse_categorical_accuracy: 0.6344 - val_sparse_top_2_categorical_accuracy: 0.8594\n",
            "Epoch 12/20\n",
            "81/81 [==============================] - 3s 40ms/step - loss: 0.9949 - sparse_categorical_accuracy: 0.6435 - sparse_top_2_categorical_accuracy: 0.8407 - val_loss: 0.9859 - val_sparse_categorical_accuracy: 0.6344 - val_sparse_top_2_categorical_accuracy: 0.8687\n",
            "Epoch 13/20\n",
            "81/81 [==============================] - 3s 40ms/step - loss: 0.9615 - sparse_categorical_accuracy: 0.6431 - sparse_top_2_categorical_accuracy: 0.8272 - val_loss: 0.9427 - val_sparse_categorical_accuracy: 0.6344 - val_sparse_top_2_categorical_accuracy: 0.8750\n",
            "Epoch 14/20\n",
            "81/81 [==============================] - 3s 40ms/step - loss: 0.9037 - sparse_categorical_accuracy: 0.6458 - sparse_top_2_categorical_accuracy: 0.8279 - val_loss: 0.8784 - val_sparse_categorical_accuracy: 0.6344 - val_sparse_top_2_categorical_accuracy: 0.8656\n",
            "Epoch 15/20\n",
            "81/81 [==============================] - 3s 41ms/step - loss: 0.8533 - sparse_categorical_accuracy: 0.6451 - sparse_top_2_categorical_accuracy: 0.8345 - val_loss: 0.8428 - val_sparse_categorical_accuracy: 0.6344 - val_sparse_top_2_categorical_accuracy: 0.8594\n",
            "Epoch 16/20\n",
            "81/81 [==============================] - 3s 42ms/step - loss: 0.8421 - sparse_categorical_accuracy: 0.6435 - sparse_top_2_categorical_accuracy: 0.8353 - val_loss: 0.8358 - val_sparse_categorical_accuracy: 0.6344 - val_sparse_top_2_categorical_accuracy: 0.8594\n",
            "Epoch 17/20\n",
            "81/81 [==============================] - 3s 41ms/step - loss: 0.8392 - sparse_categorical_accuracy: 0.6424 - sparse_top_2_categorical_accuracy: 0.8434 - val_loss: 0.8334 - val_sparse_categorical_accuracy: 0.6344 - val_sparse_top_2_categorical_accuracy: 0.8562\n",
            "Epoch 18/20\n",
            "81/81 [==============================] - 3s 40ms/step - loss: 0.8345 - sparse_categorical_accuracy: 0.6435 - sparse_top_2_categorical_accuracy: 0.8457 - val_loss: 0.8314 - val_sparse_categorical_accuracy: 0.6344 - val_sparse_top_2_categorical_accuracy: 0.8594\n",
            "Epoch 19/20\n",
            "81/81 [==============================] - 3s 40ms/step - loss: 0.8316 - sparse_categorical_accuracy: 0.6431 - sparse_top_2_categorical_accuracy: 0.8403 - val_loss: 0.8297 - val_sparse_categorical_accuracy: 0.6344 - val_sparse_top_2_categorical_accuracy: 0.8562\n",
            "Epoch 20/20\n",
            "81/81 [==============================] - 3s 40ms/step - loss: 0.8257 - sparse_categorical_accuracy: 0.6439 - sparse_top_2_categorical_accuracy: 0.8368 - val_loss: 0.8281 - val_sparse_categorical_accuracy: 0.6344 - val_sparse_top_2_categorical_accuracy: 0.8562\n"
          ],
          "name": "stdout"
        }
      ]
    },
    {
      "cell_type": "code",
      "metadata": {
        "id": "4CewFRYy7bWJ",
        "colab_type": "code",
        "outputId": "23adad12-72cb-421e-e54a-5a19d1455343",
        "colab": {
          "base_uri": "https://localhost:8080/",
          "height": 69
        }
      },
      "source": [
        "model_2.evaluate(validation_dataset, steps=validation_dataset_steps)"
      ],
      "execution_count": 0,
      "outputs": [
        {
          "output_type": "stream",
          "text": [
            "10/10 [==============================] - 0s 10ms/step - loss: 0.8281 - sparse_categorical_accuracy: 0.6344 - sparse_top_2_categorical_accuracy: 0.8562\n"
          ],
          "name": "stdout"
        },
        {
          "output_type": "execute_result",
          "data": {
            "text/plain": [
              "[0.8280714094638825, 0.634375, 0.85625]"
            ]
          },
          "metadata": {
            "tags": []
          },
          "execution_count": 80
        }
      ]
    },
    {
      "cell_type": "code",
      "metadata": {
        "id": "FuTuP7-9752D",
        "colab_type": "code",
        "outputId": "e879d660-9a31-42f9-d27f-a1ec9f50cf97",
        "colab": {
          "base_uri": "https://localhost:8080/",
          "height": 234
        }
      },
      "source": [
        "print(\n",
        "    classification_report(\n",
        "        data_container.validation.y, model_2.predict(validation_dataset).argmax(axis=1)\n",
        "    )\n",
        ")"
      ],
      "execution_count": 0,
      "outputs": [
        {
          "output_type": "stream",
          "text": [
            "              precision    recall  f1-score   support\n",
            "\n",
            "           0       0.64      1.00      0.78       209\n",
            "           1       0.00      0.00      0.00        54\n",
            "           2       0.00      0.00      0.00        65\n",
            "\n",
            "    accuracy                           0.64       328\n",
            "   macro avg       0.21      0.33      0.26       328\n",
            "weighted avg       0.41      0.64      0.50       328\n",
            "\n"
          ],
          "name": "stdout"
        },
        {
          "output_type": "stream",
          "text": [
            "/usr/local/lib/python3.6/dist-packages/sklearn/metrics/classification.py:1437: UndefinedMetricWarning: Precision and F-score are ill-defined and being set to 0.0 in labels with no predicted samples.\n",
            "  'precision', 'predicted', average, warn_for)\n"
          ],
          "name": "stderr"
        }
      ]
    },
    {
      "cell_type": "code",
      "metadata": {
        "id": "JMB1lIY_76bM",
        "colab_type": "code",
        "outputId": "e688fb57-c144-4670-b6e2-7ac5c67a8b69",
        "colab": {
          "base_uri": "https://localhost:8080/",
          "height": 82
        }
      },
      "source": [
        "final.airline_sentiment.value_counts()"
      ],
      "execution_count": 0,
      "outputs": [
        {
          "output_type": "execute_result",
          "data": {
            "text/plain": [
              "0    2117\n",
              "2     656\n",
              "1     503\n",
              "Name: airline_sentiment, dtype: int64"
            ]
          },
          "metadata": {
            "tags": []
          },
          "execution_count": 82
        }
      ]
    },
    {
      "cell_type": "code",
      "metadata": {
        "id": "s2q4Dx-D8Pwn",
        "colab_type": "code",
        "outputId": "1041a390-a624-4974-9d54-cadf8e0791d6",
        "colab": {
          "base_uri": "https://localhost:8080/",
          "height": 32
        }
      },
      "source": [
        "category_map"
      ],
      "execution_count": 0,
      "outputs": [
        {
          "output_type": "execute_result",
          "data": {
            "text/plain": [
              "{'negative': 0, 'neutral': 2, 'positive': 1}"
            ]
          },
          "metadata": {
            "tags": []
          },
          "execution_count": 83
        }
      ]
    },
    {
      "cell_type": "markdown",
      "metadata": {
        "id": "qBBwTapaxgYe",
        "colab_type": "text"
      },
      "source": [
        "As model did not improve, try to change class weights"
      ]
    },
    {
      "cell_type": "code",
      "metadata": {
        "id": "EoW26dKZ8UpW",
        "colab_type": "code",
        "colab": {}
      },
      "source": [
        "class_weights_2 = {0: 1, 1: 10, 2: 10}\n"
      ],
      "execution_count": 0,
      "outputs": []
    },
    {
      "cell_type": "code",
      "metadata": {
        "id": "IufuW5oLx8_L",
        "colab_type": "code",
        "colab": {}
      },
      "source": [
        "model_3 = make_sequential_lstm_model_2(\n",
        "    n_categories=n_categories,\n",
        "    embedding_size=64,\n",
        "    lstm_size=64,\n",
        "    lstm_dropout=0.2,\n",
        "    dropout=0.5,\n",
        "    l1=3e-6,\n",
        "    l2=3e-4,\n",
        ")"
      ],
      "execution_count": 0,
      "outputs": []
    },
    {
      "cell_type": "code",
      "metadata": {
        "id": "lERn6h-_0V8I",
        "colab_type": "code",
        "colab": {}
      },
      "source": [
        "model_3.compile(\n",
        "    loss=keras.losses.sparse_categorical_crossentropy,\n",
        "    optimizer=keras.optimizers.Adam(lr=1e-5),\n",
        "    metrics=[\n",
        "        keras.metrics.sparse_categorical_accuracy,\n",
        "        sparse_top_2_categorical_accuracy,\n",
        "    ],\n",
        ")"
      ],
      "execution_count": 0,
      "outputs": []
    },
    {
      "cell_type": "code",
      "metadata": {
        "id": "KgJNONaB1IpL",
        "colab_type": "code",
        "outputId": "cde8f166-4da5-418b-d5e2-2b1592037804",
        "colab": {
          "base_uri": "https://localhost:8080/",
          "height": 711
        }
      },
      "source": [
        "history_3 = model_3.fit(\n",
        "    train_dataset,\n",
        "    steps_per_epoch=train_dataset_steps,\n",
        "    validation_data=validation_dataset,\n",
        "    validation_steps=validation_dataset_steps,\n",
        "    epochs=20,\n",
        "    callbacks=[\n",
        "        keras.callbacks.ReduceLROnPlateau(patience=2, factor=0.3),\n",
        "        keras.callbacks.EarlyStopping(patience=6, restore_best_weights=True),\n",
        "    ],\n",
        "    class_weight=class_weights_2,\n",
        ")"
      ],
      "execution_count": 0,
      "outputs": [
        {
          "output_type": "stream",
          "text": [
            "Train for 81 steps, validate for 10 steps\n",
            "Epoch 1/20\n",
            "81/81 [==============================] - 12s 147ms/step - loss: 1.1001 - sparse_categorical_accuracy: 0.2820 - sparse_top_2_categorical_accuracy: 0.7458 - val_loss: 1.0980 - val_sparse_categorical_accuracy: 0.2000 - val_sparse_top_2_categorical_accuracy: 0.7937\n",
            "Epoch 2/20\n",
            "81/81 [==============================] - 3s 41ms/step - loss: 1.0956 - sparse_categorical_accuracy: 0.3769 - sparse_top_2_categorical_accuracy: 0.7793 - val_loss: 1.0935 - val_sparse_categorical_accuracy: 0.5500 - val_sparse_top_2_categorical_accuracy: 0.7937\n",
            "Epoch 3/20\n",
            "81/81 [==============================] - 3s 41ms/step - loss: 1.0906 - sparse_categorical_accuracy: 0.5062 - sparse_top_2_categorical_accuracy: 0.7894 - val_loss: 1.0889 - val_sparse_categorical_accuracy: 0.6313 - val_sparse_top_2_categorical_accuracy: 0.7937\n",
            "Epoch 4/20\n",
            "81/81 [==============================] - 3s 40ms/step - loss: 1.0860 - sparse_categorical_accuracy: 0.5833 - sparse_top_2_categorical_accuracy: 0.7951 - val_loss: 1.0841 - val_sparse_categorical_accuracy: 0.6344 - val_sparse_top_2_categorical_accuracy: 0.7969\n",
            "Epoch 5/20\n",
            "81/81 [==============================] - 3s 41ms/step - loss: 1.0808 - sparse_categorical_accuracy: 0.6312 - sparse_top_2_categorical_accuracy: 0.7971 - val_loss: 1.0791 - val_sparse_categorical_accuracy: 0.6344 - val_sparse_top_2_categorical_accuracy: 0.7969\n",
            "Epoch 6/20\n",
            "81/81 [==============================] - 3s 41ms/step - loss: 1.0749 - sparse_categorical_accuracy: 0.6447 - sparse_top_2_categorical_accuracy: 0.8086 - val_loss: 1.0736 - val_sparse_categorical_accuracy: 0.6344 - val_sparse_top_2_categorical_accuracy: 0.7969\n",
            "Epoch 7/20\n",
            "81/81 [==============================] - 3s 41ms/step - loss: 1.0690 - sparse_categorical_accuracy: 0.6435 - sparse_top_2_categorical_accuracy: 0.8052 - val_loss: 1.0678 - val_sparse_categorical_accuracy: 0.6344 - val_sparse_top_2_categorical_accuracy: 0.7969\n",
            "Epoch 8/20\n",
            "81/81 [==============================] - 3s 40ms/step - loss: 1.0625 - sparse_categorical_accuracy: 0.6431 - sparse_top_2_categorical_accuracy: 0.8009 - val_loss: 1.0613 - val_sparse_categorical_accuracy: 0.6344 - val_sparse_top_2_categorical_accuracy: 0.8000\n",
            "Epoch 9/20\n",
            "81/81 [==============================] - 3s 41ms/step - loss: 1.0550 - sparse_categorical_accuracy: 0.6458 - sparse_top_2_categorical_accuracy: 0.8102 - val_loss: 1.0538 - val_sparse_categorical_accuracy: 0.6344 - val_sparse_top_2_categorical_accuracy: 0.8000\n",
            "Epoch 10/20\n",
            "81/81 [==============================] - 3s 41ms/step - loss: 1.0463 - sparse_categorical_accuracy: 0.6435 - sparse_top_2_categorical_accuracy: 0.8117 - val_loss: 1.0448 - val_sparse_categorical_accuracy: 0.6344 - val_sparse_top_2_categorical_accuracy: 0.8000\n",
            "Epoch 11/20\n",
            "81/81 [==============================] - 3s 41ms/step - loss: 1.0357 - sparse_categorical_accuracy: 0.6439 - sparse_top_2_categorical_accuracy: 0.8067 - val_loss: 1.0330 - val_sparse_categorical_accuracy: 0.6344 - val_sparse_top_2_categorical_accuracy: 0.7969\n",
            "Epoch 12/20\n",
            "81/81 [==============================] - 3s 41ms/step - loss: 1.0212 - sparse_categorical_accuracy: 0.6435 - sparse_top_2_categorical_accuracy: 0.8160 - val_loss: 1.0157 - val_sparse_categorical_accuracy: 0.6344 - val_sparse_top_2_categorical_accuracy: 0.7937\n",
            "Epoch 13/20\n",
            "81/81 [==============================] - 3s 42ms/step - loss: 0.9978 - sparse_categorical_accuracy: 0.6431 - sparse_top_2_categorical_accuracy: 0.8117 - val_loss: 0.9851 - val_sparse_categorical_accuracy: 0.6344 - val_sparse_top_2_categorical_accuracy: 0.7937\n",
            "Epoch 14/20\n",
            "81/81 [==============================] - 3s 42ms/step - loss: 0.9515 - sparse_categorical_accuracy: 0.6458 - sparse_top_2_categorical_accuracy: 0.8233 - val_loss: 0.9258 - val_sparse_categorical_accuracy: 0.6344 - val_sparse_top_2_categorical_accuracy: 0.7969\n",
            "Epoch 15/20\n",
            "81/81 [==============================] - 3s 41ms/step - loss: 0.8889 - sparse_categorical_accuracy: 0.6451 - sparse_top_2_categorical_accuracy: 0.8125 - val_loss: 0.8681 - val_sparse_categorical_accuracy: 0.6344 - val_sparse_top_2_categorical_accuracy: 0.7969\n",
            "Epoch 16/20\n",
            "81/81 [==============================] - 3s 41ms/step - loss: 0.8590 - sparse_categorical_accuracy: 0.6435 - sparse_top_2_categorical_accuracy: 0.8152 - val_loss: 0.8510 - val_sparse_categorical_accuracy: 0.6344 - val_sparse_top_2_categorical_accuracy: 0.7969\n",
            "Epoch 17/20\n",
            "81/81 [==============================] - 3s 41ms/step - loss: 0.8539 - sparse_categorical_accuracy: 0.6424 - sparse_top_2_categorical_accuracy: 0.8198 - val_loss: 0.8459 - val_sparse_categorical_accuracy: 0.6344 - val_sparse_top_2_categorical_accuracy: 0.7969\n",
            "Epoch 18/20\n",
            "81/81 [==============================] - 3s 41ms/step - loss: 0.8511 - sparse_categorical_accuracy: 0.6435 - sparse_top_2_categorical_accuracy: 0.8167 - val_loss: 0.8434 - val_sparse_categorical_accuracy: 0.6344 - val_sparse_top_2_categorical_accuracy: 0.7875\n",
            "Epoch 19/20\n",
            "81/81 [==============================] - 3s 41ms/step - loss: 0.8503 - sparse_categorical_accuracy: 0.6431 - sparse_top_2_categorical_accuracy: 0.8183 - val_loss: 0.8418 - val_sparse_categorical_accuracy: 0.6344 - val_sparse_top_2_categorical_accuracy: 0.8000\n",
            "Epoch 20/20\n",
            "81/81 [==============================] - 3s 41ms/step - loss: 0.8370 - sparse_categorical_accuracy: 0.6439 - sparse_top_2_categorical_accuracy: 0.8345 - val_loss: 0.8400 - val_sparse_categorical_accuracy: 0.6344 - val_sparse_top_2_categorical_accuracy: 0.8375\n"
          ],
          "name": "stdout"
        }
      ]
    },
    {
      "cell_type": "code",
      "metadata": {
        "id": "4QxtM5131TN4",
        "colab_type": "code",
        "outputId": "57ee1895-7d91-472b-8683-012691f9fe60",
        "colab": {
          "base_uri": "https://localhost:8080/",
          "height": 69
        }
      },
      "source": [
        "model_3.evaluate(validation_dataset, steps=validation_dataset_steps)"
      ],
      "execution_count": 0,
      "outputs": [
        {
          "output_type": "stream",
          "text": [
            "10/10 [==============================] - 0s 10ms/step - loss: 0.8400 - sparse_categorical_accuracy: 0.6344 - sparse_top_2_categorical_accuracy: 0.8375\n"
          ],
          "name": "stdout"
        },
        {
          "output_type": "execute_result",
          "data": {
            "text/plain": [
              "[0.8400044322013855, 0.634375, 0.8375]"
            ]
          },
          "metadata": {
            "tags": []
          },
          "execution_count": 89
        }
      ]
    },
    {
      "cell_type": "code",
      "metadata": {
        "id": "DxGpzQ6p2IR-",
        "colab_type": "code",
        "outputId": "cd4ba865-221f-4c11-a8b3-71e5ed633ee7",
        "colab": {
          "base_uri": "https://localhost:8080/",
          "height": 234
        }
      },
      "source": [
        "print(\n",
        "    classification_report(\n",
        "        data_container.validation.y, model_3.predict(validation_dataset).argmax(axis=1)\n",
        "    )\n",
        ")"
      ],
      "execution_count": 0,
      "outputs": [
        {
          "output_type": "stream",
          "text": [
            "              precision    recall  f1-score   support\n",
            "\n",
            "           0       0.64      1.00      0.78       209\n",
            "           1       0.00      0.00      0.00        54\n",
            "           2       0.00      0.00      0.00        65\n",
            "\n",
            "    accuracy                           0.64       328\n",
            "   macro avg       0.21      0.33      0.26       328\n",
            "weighted avg       0.41      0.64      0.50       328\n",
            "\n"
          ],
          "name": "stdout"
        },
        {
          "output_type": "stream",
          "text": [
            "/usr/local/lib/python3.6/dist-packages/sklearn/metrics/classification.py:1437: UndefinedMetricWarning: Precision and F-score are ill-defined and being set to 0.0 in labels with no predicted samples.\n",
            "  'precision', 'predicted', average, warn_for)\n"
          ],
          "name": "stderr"
        }
      ]
    },
    {
      "cell_type": "code",
      "metadata": {
        "id": "4rIkv9L12MgG",
        "colab_type": "code",
        "colab": {}
      },
      "source": [
        "class_weights_2 = {0: 1, 1: 1, 2: 0}"
      ],
      "execution_count": 0,
      "outputs": []
    },
    {
      "cell_type": "code",
      "metadata": {
        "id": "aYe9hPMX2ZyN",
        "colab_type": "code",
        "colab": {}
      },
      "source": [
        "model_3 = make_sequential_lstm_model_2(\n",
        "    n_categories=n_categories,\n",
        "    embedding_size=256,\n",
        "    lstm_size=256,\n",
        "    lstm_dropout=0.2,\n",
        "    dropout=0.5,\n",
        "    l1=3e-6,\n",
        "    l2=3e-4,\n",
        ")"
      ],
      "execution_count": 0,
      "outputs": []
    },
    {
      "cell_type": "code",
      "metadata": {
        "id": "hpZpJiSD2dFd",
        "colab_type": "code",
        "colab": {}
      },
      "source": [
        "model_3.compile(\n",
        "    loss=keras.losses.sparse_categorical_crossentropy,\n",
        "    optimizer=keras.optimizers.Adam(lr=3e-5),\n",
        "    metrics=[\n",
        "        keras.metrics.sparse_categorical_accuracy,\n",
        "        sparse_top_2_categorical_accuracy,\n",
        "    ],\n",
        ")"
      ],
      "execution_count": 0,
      "outputs": []
    },
    {
      "cell_type": "code",
      "metadata": {
        "id": "AXbrTSd_AmGY",
        "colab_type": "code",
        "outputId": "a3339e0e-1c03-4031-968b-0d7576c661a2",
        "colab": {
          "base_uri": "https://localhost:8080/",
          "height": 32
        }
      },
      "source": [
        "class_weights_2"
      ],
      "execution_count": 0,
      "outputs": [
        {
          "output_type": "execute_result",
          "data": {
            "text/plain": [
              "{0: 1, 1: 1, 2: 0}"
            ]
          },
          "metadata": {
            "tags": []
          },
          "execution_count": 106
        }
      ]
    },
    {
      "cell_type": "code",
      "metadata": {
        "id": "rncVJwVt2ish",
        "colab_type": "code",
        "outputId": "410ecef8-136c-4de2-d2a9-d985ebd77d7f",
        "colab": {
          "base_uri": "https://localhost:8080/",
          "height": 598
        }
      },
      "source": [
        "history_3 = model_3.fit(\n",
        "    train_dataset,\n",
        "    steps_per_epoch=train_dataset_steps,\n",
        "    validation_data=validation_dataset,\n",
        "    validation_steps=validation_dataset_steps,\n",
        "    epochs=20,\n",
        "    callbacks=[\n",
        "        keras.callbacks.ReduceLROnPlateau(patience=2, factor=0.3),\n",
        "        keras.callbacks.EarlyStopping(patience=6, restore_best_weights=True),\n",
        "    ],\n",
        "    # class_weight=class_weights_2,\n",
        "    class_weight=[1, 1, 0],\n",
        ")"
      ],
      "execution_count": 0,
      "outputs": [
        {
          "output_type": "stream",
          "text": [
            "Train for 81 steps, validate for 10 steps\n",
            "Epoch 1/20\n",
            "81/81 [==============================] - 40s 495ms/step - loss: 1.0766 - sparse_categorical_accuracy: 0.6061 - sparse_top_2_categorical_accuracy: 0.8148 - val_loss: 1.0495 - val_sparse_categorical_accuracy: 0.6875 - val_sparse_top_2_categorical_accuracy: 0.8687\n",
            "Epoch 2/20\n",
            "81/81 [==============================] - 29s 364ms/step - loss: 1.0105 - sparse_categorical_accuracy: 0.6373 - sparse_top_2_categorical_accuracy: 0.8507 - val_loss: 0.8577 - val_sparse_categorical_accuracy: 0.6875 - val_sparse_top_2_categorical_accuracy: 0.8656\n",
            "Epoch 3/20\n",
            "81/81 [==============================] - 29s 359ms/step - loss: 0.8473 - sparse_categorical_accuracy: 0.6385 - sparse_top_2_categorical_accuracy: 0.8468 - val_loss: 0.7553 - val_sparse_categorical_accuracy: 0.6875 - val_sparse_top_2_categorical_accuracy: 0.8656\n",
            "Epoch 4/20\n",
            "81/81 [==============================] - 29s 355ms/step - loss: 0.8265 - sparse_categorical_accuracy: 0.6377 - sparse_top_2_categorical_accuracy: 0.8476 - val_loss: 0.7450 - val_sparse_categorical_accuracy: 0.6875 - val_sparse_top_2_categorical_accuracy: 0.8656\n",
            "Epoch 5/20\n",
            "81/81 [==============================] - 29s 353ms/step - loss: 0.8086 - sparse_categorical_accuracy: 0.6381 - sparse_top_2_categorical_accuracy: 0.8472 - val_loss: 0.7349 - val_sparse_categorical_accuracy: 0.6875 - val_sparse_top_2_categorical_accuracy: 0.8656\n",
            "Epoch 6/20\n",
            " 3/81 [>.............................] - ETA: 27s - loss: 0.8363 - sparse_categorical_accuracy: 0.5938 - sparse_top_2_categorical_accuracy: 0.8594WARNING:tensorflow:Reduce LR on plateau conditioned on metric `val_loss` which is not available. Available metrics are: loss,sparse_categorical_accuracy,sparse_top_2_categorical_accuracy,lr\n",
            "WARNING:tensorflow:Early stopping conditioned on metric `val_loss` which is not available. Available metrics are: loss,sparse_categorical_accuracy,sparse_top_2_categorical_accuracy,lr\n"
          ],
          "name": "stdout"
        },
        {
          "output_type": "error",
          "ename": "KeyboardInterrupt",
          "evalue": "ignored",
          "traceback": [
            "\u001b[0;31m---------------------------------------------------------------------------\u001b[0m",
            "\u001b[0;31mKeyboardInterrupt\u001b[0m                         Traceback (most recent call last)",
            "\u001b[0;32m<ipython-input-107-f3536347954a>\u001b[0m in \u001b[0;36m<module>\u001b[0;34m()\u001b[0m\n\u001b[1;32m     10\u001b[0m     ],\n\u001b[1;32m     11\u001b[0m     \u001b[0;31m# class_weight=class_weights_2,\u001b[0m\u001b[0;34m\u001b[0m\u001b[0;34m\u001b[0m\u001b[0;34m\u001b[0m\u001b[0m\n\u001b[0;32m---> 12\u001b[0;31m     \u001b[0mclass_weight\u001b[0m\u001b[0;34m=\u001b[0m\u001b[0;34m[\u001b[0m\u001b[0;36m1\u001b[0m\u001b[0;34m,\u001b[0m \u001b[0;36m1\u001b[0m\u001b[0;34m,\u001b[0m \u001b[0;36m0\u001b[0m\u001b[0;34m]\u001b[0m\u001b[0;34m,\u001b[0m\u001b[0;34m\u001b[0m\u001b[0;34m\u001b[0m\u001b[0m\n\u001b[0m\u001b[1;32m     13\u001b[0m )\n",
            "\u001b[0;32m/usr/local/lib/python3.6/dist-packages/tensorflow_core/python/keras/engine/training.py\u001b[0m in \u001b[0;36mfit\u001b[0;34m(self, x, y, batch_size, epochs, verbose, callbacks, validation_split, validation_data, shuffle, class_weight, sample_weight, initial_epoch, steps_per_epoch, validation_steps, validation_freq, max_queue_size, workers, use_multiprocessing, **kwargs)\u001b[0m\n\u001b[1;32m    726\u001b[0m         \u001b[0mmax_queue_size\u001b[0m\u001b[0;34m=\u001b[0m\u001b[0mmax_queue_size\u001b[0m\u001b[0;34m,\u001b[0m\u001b[0;34m\u001b[0m\u001b[0;34m\u001b[0m\u001b[0m\n\u001b[1;32m    727\u001b[0m         \u001b[0mworkers\u001b[0m\u001b[0;34m=\u001b[0m\u001b[0mworkers\u001b[0m\u001b[0;34m,\u001b[0m\u001b[0;34m\u001b[0m\u001b[0;34m\u001b[0m\u001b[0m\n\u001b[0;32m--> 728\u001b[0;31m         use_multiprocessing=use_multiprocessing)\n\u001b[0m\u001b[1;32m    729\u001b[0m \u001b[0;34m\u001b[0m\u001b[0m\n\u001b[1;32m    730\u001b[0m   def evaluate(self,\n",
            "\u001b[0;32m/usr/local/lib/python3.6/dist-packages/tensorflow_core/python/keras/engine/training_v2.py\u001b[0m in \u001b[0;36mfit\u001b[0;34m(self, model, x, y, batch_size, epochs, verbose, callbacks, validation_split, validation_data, shuffle, class_weight, sample_weight, initial_epoch, steps_per_epoch, validation_steps, validation_freq, **kwargs)\u001b[0m\n\u001b[1;32m    322\u001b[0m                 \u001b[0mmode\u001b[0m\u001b[0;34m=\u001b[0m\u001b[0mModeKeys\u001b[0m\u001b[0;34m.\u001b[0m\u001b[0mTRAIN\u001b[0m\u001b[0;34m,\u001b[0m\u001b[0;34m\u001b[0m\u001b[0;34m\u001b[0m\u001b[0m\n\u001b[1;32m    323\u001b[0m                 \u001b[0mtraining_context\u001b[0m\u001b[0;34m=\u001b[0m\u001b[0mtraining_context\u001b[0m\u001b[0;34m,\u001b[0m\u001b[0;34m\u001b[0m\u001b[0;34m\u001b[0m\u001b[0m\n\u001b[0;32m--> 324\u001b[0;31m                 total_epochs=epochs)\n\u001b[0m\u001b[1;32m    325\u001b[0m             \u001b[0mcbks\u001b[0m\u001b[0;34m.\u001b[0m\u001b[0mmake_logs\u001b[0m\u001b[0;34m(\u001b[0m\u001b[0mmodel\u001b[0m\u001b[0;34m,\u001b[0m \u001b[0mepoch_logs\u001b[0m\u001b[0;34m,\u001b[0m \u001b[0mtraining_result\u001b[0m\u001b[0;34m,\u001b[0m \u001b[0mModeKeys\u001b[0m\u001b[0;34m.\u001b[0m\u001b[0mTRAIN\u001b[0m\u001b[0;34m)\u001b[0m\u001b[0;34m\u001b[0m\u001b[0;34m\u001b[0m\u001b[0m\n\u001b[1;32m    326\u001b[0m \u001b[0;34m\u001b[0m\u001b[0m\n",
            "\u001b[0;32m/usr/local/lib/python3.6/dist-packages/tensorflow_core/python/keras/engine/training_v2.py\u001b[0m in \u001b[0;36mrun_one_epoch\u001b[0;34m(model, iterator, execution_function, dataset_size, batch_size, strategy, steps_per_epoch, num_samples, mode, training_context, total_epochs)\u001b[0m\n\u001b[1;32m    121\u001b[0m         step=step, mode=mode, size=current_batch_size) as batch_logs:\n\u001b[1;32m    122\u001b[0m       \u001b[0;32mtry\u001b[0m\u001b[0;34m:\u001b[0m\u001b[0;34m\u001b[0m\u001b[0;34m\u001b[0m\u001b[0m\n\u001b[0;32m--> 123\u001b[0;31m         \u001b[0mbatch_outs\u001b[0m \u001b[0;34m=\u001b[0m \u001b[0mexecution_function\u001b[0m\u001b[0;34m(\u001b[0m\u001b[0miterator\u001b[0m\u001b[0;34m)\u001b[0m\u001b[0;34m\u001b[0m\u001b[0;34m\u001b[0m\u001b[0m\n\u001b[0m\u001b[1;32m    124\u001b[0m       \u001b[0;32mexcept\u001b[0m \u001b[0;34m(\u001b[0m\u001b[0mStopIteration\u001b[0m\u001b[0;34m,\u001b[0m \u001b[0merrors\u001b[0m\u001b[0;34m.\u001b[0m\u001b[0mOutOfRangeError\u001b[0m\u001b[0;34m)\u001b[0m\u001b[0;34m:\u001b[0m\u001b[0;34m\u001b[0m\u001b[0;34m\u001b[0m\u001b[0m\n\u001b[1;32m    125\u001b[0m         \u001b[0;31m# TODO(kaftan): File bug about tf function and errors.OutOfRangeError?\u001b[0m\u001b[0;34m\u001b[0m\u001b[0;34m\u001b[0m\u001b[0;34m\u001b[0m\u001b[0m\n",
            "\u001b[0;32m/usr/local/lib/python3.6/dist-packages/tensorflow_core/python/keras/engine/training_v2_utils.py\u001b[0m in \u001b[0;36mexecution_function\u001b[0;34m(input_fn)\u001b[0m\n\u001b[1;32m     84\u001b[0m     \u001b[0;31m# `numpy` translates Tensors to values in Eager mode.\u001b[0m\u001b[0;34m\u001b[0m\u001b[0;34m\u001b[0m\u001b[0;34m\u001b[0m\u001b[0m\n\u001b[1;32m     85\u001b[0m     return nest.map_structure(_non_none_constant_value,\n\u001b[0;32m---> 86\u001b[0;31m                               distributed_function(input_fn))\n\u001b[0m\u001b[1;32m     87\u001b[0m \u001b[0;34m\u001b[0m\u001b[0m\n\u001b[1;32m     88\u001b[0m   \u001b[0;32mreturn\u001b[0m \u001b[0mexecution_function\u001b[0m\u001b[0;34m\u001b[0m\u001b[0;34m\u001b[0m\u001b[0m\n",
            "\u001b[0;32m/usr/local/lib/python3.6/dist-packages/tensorflow_core/python/eager/def_function.py\u001b[0m in \u001b[0;36m__call__\u001b[0;34m(self, *args, **kwds)\u001b[0m\n\u001b[1;32m    455\u001b[0m \u001b[0;34m\u001b[0m\u001b[0m\n\u001b[1;32m    456\u001b[0m     \u001b[0mtracing_count\u001b[0m \u001b[0;34m=\u001b[0m \u001b[0mself\u001b[0m\u001b[0;34m.\u001b[0m\u001b[0m_get_tracing_count\u001b[0m\u001b[0;34m(\u001b[0m\u001b[0;34m)\u001b[0m\u001b[0;34m\u001b[0m\u001b[0;34m\u001b[0m\u001b[0m\n\u001b[0;32m--> 457\u001b[0;31m     \u001b[0mresult\u001b[0m \u001b[0;34m=\u001b[0m \u001b[0mself\u001b[0m\u001b[0;34m.\u001b[0m\u001b[0m_call\u001b[0m\u001b[0;34m(\u001b[0m\u001b[0;34m*\u001b[0m\u001b[0margs\u001b[0m\u001b[0;34m,\u001b[0m \u001b[0;34m**\u001b[0m\u001b[0mkwds\u001b[0m\u001b[0;34m)\u001b[0m\u001b[0;34m\u001b[0m\u001b[0;34m\u001b[0m\u001b[0m\n\u001b[0m\u001b[1;32m    458\u001b[0m     \u001b[0;32mif\u001b[0m \u001b[0mtracing_count\u001b[0m \u001b[0;34m==\u001b[0m \u001b[0mself\u001b[0m\u001b[0;34m.\u001b[0m\u001b[0m_get_tracing_count\u001b[0m\u001b[0;34m(\u001b[0m\u001b[0;34m)\u001b[0m\u001b[0;34m:\u001b[0m\u001b[0;34m\u001b[0m\u001b[0;34m\u001b[0m\u001b[0m\n\u001b[1;32m    459\u001b[0m       \u001b[0mself\u001b[0m\u001b[0;34m.\u001b[0m\u001b[0m_call_counter\u001b[0m\u001b[0;34m.\u001b[0m\u001b[0mcalled_without_tracing\u001b[0m\u001b[0;34m(\u001b[0m\u001b[0;34m)\u001b[0m\u001b[0;34m\u001b[0m\u001b[0;34m\u001b[0m\u001b[0m\n",
            "\u001b[0;32m/usr/local/lib/python3.6/dist-packages/tensorflow_core/python/eager/def_function.py\u001b[0m in \u001b[0;36m_call\u001b[0;34m(self, *args, **kwds)\u001b[0m\n\u001b[1;32m    485\u001b[0m       \u001b[0;31m# In this case we have created variables on the first call, so we run the\u001b[0m\u001b[0;34m\u001b[0m\u001b[0;34m\u001b[0m\u001b[0;34m\u001b[0m\u001b[0m\n\u001b[1;32m    486\u001b[0m       \u001b[0;31m# defunned version which is guaranteed to never create variables.\u001b[0m\u001b[0;34m\u001b[0m\u001b[0;34m\u001b[0m\u001b[0;34m\u001b[0m\u001b[0m\n\u001b[0;32m--> 487\u001b[0;31m       \u001b[0;32mreturn\u001b[0m \u001b[0mself\u001b[0m\u001b[0;34m.\u001b[0m\u001b[0m_stateless_fn\u001b[0m\u001b[0;34m(\u001b[0m\u001b[0;34m*\u001b[0m\u001b[0margs\u001b[0m\u001b[0;34m,\u001b[0m \u001b[0;34m**\u001b[0m\u001b[0mkwds\u001b[0m\u001b[0;34m)\u001b[0m  \u001b[0;31m# pylint: disable=not-callable\u001b[0m\u001b[0;34m\u001b[0m\u001b[0;34m\u001b[0m\u001b[0m\n\u001b[0m\u001b[1;32m    488\u001b[0m     \u001b[0;32melif\u001b[0m \u001b[0mself\u001b[0m\u001b[0;34m.\u001b[0m\u001b[0m_stateful_fn\u001b[0m \u001b[0;32mis\u001b[0m \u001b[0;32mnot\u001b[0m \u001b[0;32mNone\u001b[0m\u001b[0;34m:\u001b[0m\u001b[0;34m\u001b[0m\u001b[0;34m\u001b[0m\u001b[0m\n\u001b[1;32m    489\u001b[0m       \u001b[0;31m# Release the lock early so that multiple threads can perform the call\u001b[0m\u001b[0;34m\u001b[0m\u001b[0;34m\u001b[0m\u001b[0;34m\u001b[0m\u001b[0m\n",
            "\u001b[0;32m/usr/local/lib/python3.6/dist-packages/tensorflow_core/python/eager/function.py\u001b[0m in \u001b[0;36m__call__\u001b[0;34m(self, *args, **kwargs)\u001b[0m\n\u001b[1;32m   1821\u001b[0m     \u001b[0;34m\"\"\"Calls a graph function specialized to the inputs.\"\"\"\u001b[0m\u001b[0;34m\u001b[0m\u001b[0;34m\u001b[0m\u001b[0m\n\u001b[1;32m   1822\u001b[0m     \u001b[0mgraph_function\u001b[0m\u001b[0;34m,\u001b[0m \u001b[0margs\u001b[0m\u001b[0;34m,\u001b[0m \u001b[0mkwargs\u001b[0m \u001b[0;34m=\u001b[0m \u001b[0mself\u001b[0m\u001b[0;34m.\u001b[0m\u001b[0m_maybe_define_function\u001b[0m\u001b[0;34m(\u001b[0m\u001b[0margs\u001b[0m\u001b[0;34m,\u001b[0m \u001b[0mkwargs\u001b[0m\u001b[0;34m)\u001b[0m\u001b[0;34m\u001b[0m\u001b[0;34m\u001b[0m\u001b[0m\n\u001b[0;32m-> 1823\u001b[0;31m     \u001b[0;32mreturn\u001b[0m \u001b[0mgraph_function\u001b[0m\u001b[0;34m.\u001b[0m\u001b[0m_filtered_call\u001b[0m\u001b[0;34m(\u001b[0m\u001b[0margs\u001b[0m\u001b[0;34m,\u001b[0m \u001b[0mkwargs\u001b[0m\u001b[0;34m)\u001b[0m  \u001b[0;31m# pylint: disable=protected-access\u001b[0m\u001b[0;34m\u001b[0m\u001b[0;34m\u001b[0m\u001b[0m\n\u001b[0m\u001b[1;32m   1824\u001b[0m \u001b[0;34m\u001b[0m\u001b[0m\n\u001b[1;32m   1825\u001b[0m   \u001b[0;34m@\u001b[0m\u001b[0mproperty\u001b[0m\u001b[0;34m\u001b[0m\u001b[0;34m\u001b[0m\u001b[0m\n",
            "\u001b[0;32m/usr/local/lib/python3.6/dist-packages/tensorflow_core/python/eager/function.py\u001b[0m in \u001b[0;36m_filtered_call\u001b[0;34m(self, args, kwargs)\u001b[0m\n\u001b[1;32m   1139\u001b[0m          if isinstance(t, (ops.Tensor,\n\u001b[1;32m   1140\u001b[0m                            resource_variable_ops.BaseResourceVariable))),\n\u001b[0;32m-> 1141\u001b[0;31m         self.captured_inputs)\n\u001b[0m\u001b[1;32m   1142\u001b[0m \u001b[0;34m\u001b[0m\u001b[0m\n\u001b[1;32m   1143\u001b[0m   \u001b[0;32mdef\u001b[0m \u001b[0m_call_flat\u001b[0m\u001b[0;34m(\u001b[0m\u001b[0mself\u001b[0m\u001b[0;34m,\u001b[0m \u001b[0margs\u001b[0m\u001b[0;34m,\u001b[0m \u001b[0mcaptured_inputs\u001b[0m\u001b[0;34m,\u001b[0m \u001b[0mcancellation_manager\u001b[0m\u001b[0;34m=\u001b[0m\u001b[0;32mNone\u001b[0m\u001b[0;34m)\u001b[0m\u001b[0;34m:\u001b[0m\u001b[0;34m\u001b[0m\u001b[0;34m\u001b[0m\u001b[0m\n",
            "\u001b[0;32m/usr/local/lib/python3.6/dist-packages/tensorflow_core/python/eager/function.py\u001b[0m in \u001b[0;36m_call_flat\u001b[0;34m(self, args, captured_inputs, cancellation_manager)\u001b[0m\n\u001b[1;32m   1222\u001b[0m     \u001b[0;32mif\u001b[0m \u001b[0mexecuting_eagerly\u001b[0m\u001b[0;34m:\u001b[0m\u001b[0;34m\u001b[0m\u001b[0;34m\u001b[0m\u001b[0m\n\u001b[1;32m   1223\u001b[0m       flat_outputs = forward_function.call(\n\u001b[0;32m-> 1224\u001b[0;31m           ctx, args, cancellation_manager=cancellation_manager)\n\u001b[0m\u001b[1;32m   1225\u001b[0m     \u001b[0;32melse\u001b[0m\u001b[0;34m:\u001b[0m\u001b[0;34m\u001b[0m\u001b[0;34m\u001b[0m\u001b[0m\n\u001b[1;32m   1226\u001b[0m       \u001b[0mgradient_name\u001b[0m \u001b[0;34m=\u001b[0m \u001b[0mself\u001b[0m\u001b[0;34m.\u001b[0m\u001b[0m_delayed_rewrite_functions\u001b[0m\u001b[0;34m.\u001b[0m\u001b[0mregister\u001b[0m\u001b[0;34m(\u001b[0m\u001b[0;34m)\u001b[0m\u001b[0;34m\u001b[0m\u001b[0;34m\u001b[0m\u001b[0m\n",
            "\u001b[0;32m/usr/local/lib/python3.6/dist-packages/tensorflow_core/python/eager/function.py\u001b[0m in \u001b[0;36mcall\u001b[0;34m(self, ctx, args, cancellation_manager)\u001b[0m\n\u001b[1;32m    509\u001b[0m               \u001b[0minputs\u001b[0m\u001b[0;34m=\u001b[0m\u001b[0margs\u001b[0m\u001b[0;34m,\u001b[0m\u001b[0;34m\u001b[0m\u001b[0;34m\u001b[0m\u001b[0m\n\u001b[1;32m    510\u001b[0m               \u001b[0mattrs\u001b[0m\u001b[0;34m=\u001b[0m\u001b[0;34m(\u001b[0m\u001b[0;34m\"executor_type\"\u001b[0m\u001b[0;34m,\u001b[0m \u001b[0mexecutor_type\u001b[0m\u001b[0;34m,\u001b[0m \u001b[0;34m\"config_proto\"\u001b[0m\u001b[0;34m,\u001b[0m \u001b[0mconfig\u001b[0m\u001b[0;34m)\u001b[0m\u001b[0;34m,\u001b[0m\u001b[0;34m\u001b[0m\u001b[0;34m\u001b[0m\u001b[0m\n\u001b[0;32m--> 511\u001b[0;31m               ctx=ctx)\n\u001b[0m\u001b[1;32m    512\u001b[0m         \u001b[0;32melse\u001b[0m\u001b[0;34m:\u001b[0m\u001b[0;34m\u001b[0m\u001b[0;34m\u001b[0m\u001b[0m\n\u001b[1;32m    513\u001b[0m           outputs = execute.execute_with_cancellation(\n",
            "\u001b[0;32m/usr/local/lib/python3.6/dist-packages/tensorflow_core/python/eager/execute.py\u001b[0m in \u001b[0;36mquick_execute\u001b[0;34m(op_name, num_outputs, inputs, attrs, ctx, name)\u001b[0m\n\u001b[1;32m     59\u001b[0m     tensors = pywrap_tensorflow.TFE_Py_Execute(ctx._handle, device_name,\n\u001b[1;32m     60\u001b[0m                                                \u001b[0mop_name\u001b[0m\u001b[0;34m,\u001b[0m \u001b[0minputs\u001b[0m\u001b[0;34m,\u001b[0m \u001b[0mattrs\u001b[0m\u001b[0;34m,\u001b[0m\u001b[0;34m\u001b[0m\u001b[0;34m\u001b[0m\u001b[0m\n\u001b[0;32m---> 61\u001b[0;31m                                                num_outputs)\n\u001b[0m\u001b[1;32m     62\u001b[0m   \u001b[0;32mexcept\u001b[0m \u001b[0mcore\u001b[0m\u001b[0;34m.\u001b[0m\u001b[0m_NotOkStatusException\u001b[0m \u001b[0;32mas\u001b[0m \u001b[0me\u001b[0m\u001b[0;34m:\u001b[0m\u001b[0;34m\u001b[0m\u001b[0;34m\u001b[0m\u001b[0m\n\u001b[1;32m     63\u001b[0m     \u001b[0;32mif\u001b[0m \u001b[0mname\u001b[0m \u001b[0;32mis\u001b[0m \u001b[0;32mnot\u001b[0m \u001b[0;32mNone\u001b[0m\u001b[0;34m:\u001b[0m\u001b[0;34m\u001b[0m\u001b[0;34m\u001b[0m\u001b[0m\n",
            "\u001b[0;31mKeyboardInterrupt\u001b[0m: "
          ]
        }
      ]
    },
    {
      "cell_type": "code",
      "metadata": {
        "id": "XcMbeD382maK",
        "colab_type": "code",
        "outputId": "813e7b56-9b16-49ed-d68d-1301d7b69e5f",
        "colab": {
          "base_uri": "https://localhost:8080/",
          "height": 69
        }
      },
      "source": [
        "model_3.evaluate(validation_dataset, steps=validation_dataset_steps)"
      ],
      "execution_count": 0,
      "outputs": [
        {
          "output_type": "stream",
          "text": [
            "10/10 [==============================] - 1s 93ms/step - loss: 0.7354 - sparse_categorical_accuracy: 0.6875 - sparse_top_2_categorical_accuracy: 0.8656\n"
          ],
          "name": "stdout"
        },
        {
          "output_type": "execute_result",
          "data": {
            "text/plain": [
              "[0.7354410052299499, 0.6875, 0.865625]"
            ]
          },
          "metadata": {
            "tags": []
          },
          "execution_count": 108
        }
      ]
    },
    {
      "cell_type": "code",
      "metadata": {
        "id": "8d__gb1v3AYQ",
        "colab_type": "code",
        "outputId": "45e1fbf5-1ba5-4871-9587-3338a80dc62f",
        "colab": {
          "base_uri": "https://localhost:8080/",
          "height": 234
        }
      },
      "source": [
        "print(\n",
        "    classification_report(\n",
        "        data_container.validation.y, model_3.predict(validation_dataset).argmax(axis=1)\n",
        "    )\n",
        ")"
      ],
      "execution_count": 0,
      "outputs": [
        {
          "output_type": "stream",
          "text": [
            "              precision    recall  f1-score   support\n",
            "\n",
            "           0       0.00      0.00      0.00        60\n",
            "           1       0.00      0.00      0.00        45\n",
            "           2       0.68      1.00      0.81       223\n",
            "\n",
            "    accuracy                           0.68       328\n",
            "   macro avg       0.23      0.33      0.27       328\n",
            "weighted avg       0.46      0.68      0.55       328\n",
            "\n"
          ],
          "name": "stdout"
        },
        {
          "output_type": "stream",
          "text": [
            "/usr/local/lib/python3.6/dist-packages/sklearn/metrics/classification.py:1437: UndefinedMetricWarning: Precision and F-score are ill-defined and being set to 0.0 in labels with no predicted samples.\n",
            "  'precision', 'predicted', average, warn_for)\n"
          ],
          "name": "stderr"
        }
      ]
    },
    {
      "cell_type": "markdown",
      "metadata": {
        "id": "hsDPMo79xvQG",
        "colab_type": "text"
      },
      "source": [
        "Try to run model without class weights"
      ]
    },
    {
      "cell_type": "code",
      "metadata": {
        "id": "VzvkMjjb3DwR",
        "colab_type": "code",
        "colab": {}
      },
      "source": [
        "model_4 = make_sequential_lstm_model_2(\n",
        "    n_categories=n_categories,\n",
        "    embedding_size=256,\n",
        "    lstm_size=256,\n",
        "    lstm_dropout=0.2,\n",
        "    dropout=0.3,\n",
        "    l1=1e-8,\n",
        "    l2=1e-8,\n",
        ")"
      ],
      "execution_count": 0,
      "outputs": []
    },
    {
      "cell_type": "code",
      "metadata": {
        "id": "Z-sMhq9zyB-l",
        "colab_type": "code",
        "colab": {}
      },
      "source": [
        "model_4.compile(\n",
        "    loss=keras.losses.sparse_categorical_crossentropy,\n",
        "    optimizer=keras.optimizers.Adam(lr=3e-5),\n",
        "    metrics=[\n",
        "        keras.metrics.sparse_categorical_accuracy,\n",
        "        sparse_top_2_categorical_accuracy,\n",
        "    ],\n",
        ")"
      ],
      "execution_count": 0,
      "outputs": []
    },
    {
      "cell_type": "code",
      "metadata": {
        "id": "y86Z-9gFyLTs",
        "colab_type": "code",
        "outputId": "ed0dbe33-48ec-401d-f411-b3f7b79aab2c",
        "colab": {
          "base_uri": "https://localhost:8080/",
          "height": 382
        }
      },
      "source": [
        "history_4 = model_4.fit(\n",
        "    train_dataset,\n",
        "    steps_per_epoch=train_dataset_steps,\n",
        "    validation_data=validation_dataset,\n",
        "    validation_steps=validation_dataset_steps,\n",
        "    epochs=10,\n",
        "    callbacks=[\n",
        "        keras.callbacks.ReduceLROnPlateau(patience=2, factor=0.3),\n",
        "        keras.callbacks.EarlyStopping(patience=6, restore_best_weights=True),\n",
        "    ],\n",
        ")"
      ],
      "execution_count": 0,
      "outputs": [
        {
          "output_type": "stream",
          "text": [
            "Train for 81 steps, validate for 10 steps\n",
            "Epoch 1/10\n",
            "81/81 [==============================] - 33s 409ms/step - loss: 1.0707 - sparse_categorical_accuracy: 0.6323 - sparse_top_2_categorical_accuracy: 0.8407 - val_loss: 1.0498 - val_sparse_categorical_accuracy: 0.6344 - val_sparse_top_2_categorical_accuracy: 0.8375\n",
            "Epoch 2/10\n",
            "81/81 [==============================] - 25s 303ms/step - loss: 0.9845 - sparse_categorical_accuracy: 0.6443 - sparse_top_2_categorical_accuracy: 0.8430 - val_loss: 0.8430 - val_sparse_categorical_accuracy: 0.6344 - val_sparse_top_2_categorical_accuracy: 0.8344\n",
            "Epoch 3/10\n",
            "81/81 [==============================] - 24s 299ms/step - loss: 0.8311 - sparse_categorical_accuracy: 0.6439 - sparse_top_2_categorical_accuracy: 0.8515 - val_loss: 0.8260 - val_sparse_categorical_accuracy: 0.6344 - val_sparse_top_2_categorical_accuracy: 0.8375\n",
            "Epoch 4/10\n",
            "81/81 [==============================] - 24s 298ms/step - loss: 0.8102 - sparse_categorical_accuracy: 0.6451 - sparse_top_2_categorical_accuracy: 0.8503 - val_loss: 0.8168 - val_sparse_categorical_accuracy: 0.6344 - val_sparse_top_2_categorical_accuracy: 0.8375\n",
            "Epoch 5/10\n",
            "81/81 [==============================] - 25s 303ms/step - loss: 0.7916 - sparse_categorical_accuracy: 0.6431 - sparse_top_2_categorical_accuracy: 0.8507 - val_loss: 0.8068 - val_sparse_categorical_accuracy: 0.6344 - val_sparse_top_2_categorical_accuracy: 0.8406\n",
            "Epoch 6/10\n",
            "81/81 [==============================] - 24s 300ms/step - loss: 0.7644 - sparse_categorical_accuracy: 0.6458 - sparse_top_2_categorical_accuracy: 0.8530 - val_loss: 0.7953 - val_sparse_categorical_accuracy: 0.6344 - val_sparse_top_2_categorical_accuracy: 0.8438\n",
            "Epoch 7/10\n",
            "81/81 [==============================] - 24s 300ms/step - loss: 0.7288 - sparse_categorical_accuracy: 0.6497 - sparse_top_2_categorical_accuracy: 0.8542 - val_loss: 0.7875 - val_sparse_categorical_accuracy: 0.6406 - val_sparse_top_2_categorical_accuracy: 0.8469\n",
            "Epoch 8/10\n",
            "81/81 [==============================] - 24s 297ms/step - loss: 0.6767 - sparse_categorical_accuracy: 0.6690 - sparse_top_2_categorical_accuracy: 0.8665 - val_loss: 0.7966 - val_sparse_categorical_accuracy: 0.6625 - val_sparse_top_2_categorical_accuracy: 0.8687\n",
            "Epoch 9/10\n",
            "81/81 [==============================] - 24s 299ms/step - loss: 0.6179 - sparse_categorical_accuracy: 0.7141 - sparse_top_2_categorical_accuracy: 0.8962 - val_loss: 0.8388 - val_sparse_categorical_accuracy: 0.6469 - val_sparse_top_2_categorical_accuracy: 0.8562\n",
            "Epoch 10/10\n",
            "81/81 [==============================] - 24s 299ms/step - loss: 0.5830 - sparse_categorical_accuracy: 0.7334 - sparse_top_2_categorical_accuracy: 0.9201 - val_loss: 0.8356 - val_sparse_categorical_accuracy: 0.6469 - val_sparse_top_2_categorical_accuracy: 0.8656\n"
          ],
          "name": "stdout"
        }
      ]
    },
    {
      "cell_type": "code",
      "metadata": {
        "id": "8wDPJJc2yUWG",
        "colab_type": "code",
        "outputId": "b09759ce-8cf0-44e2-abec-5ed1bc0524fe",
        "colab": {
          "base_uri": "https://localhost:8080/",
          "height": 69
        }
      },
      "source": [
        "model_4.evaluate(validation_dataset, steps=validation_dataset_steps)"
      ],
      "execution_count": 0,
      "outputs": [
        {
          "output_type": "stream",
          "text": [
            "10/10 [==============================] - 1s 79ms/step - loss: 0.8356 - sparse_categorical_accuracy: 0.6469 - sparse_top_2_categorical_accuracy: 0.8656\n"
          ],
          "name": "stdout"
        },
        {
          "output_type": "execute_result",
          "data": {
            "text/plain": [
              "[0.835593044757843, 0.646875, 0.865625]"
            ]
          },
          "metadata": {
            "tags": []
          },
          "execution_count": 97
        }
      ]
    },
    {
      "cell_type": "code",
      "metadata": {
        "id": "sIbMraLDyaLQ",
        "colab_type": "code",
        "outputId": "1b69d963-eae4-4029-f253-8c3effcafe7b",
        "colab": {
          "base_uri": "https://localhost:8080/",
          "height": 181
        }
      },
      "source": [
        "print(\n",
        "    classification_report(\n",
        "        data_container.validation.y, model_4.predict(validation_dataset).argmax(axis=1)\n",
        "    )\n",
        ")"
      ],
      "execution_count": 0,
      "outputs": [
        {
          "output_type": "stream",
          "text": [
            "              precision    recall  f1-score   support\n",
            "\n",
            "           0       0.70      0.95      0.81       209\n",
            "           1       1.00      0.02      0.04        54\n",
            "           2       0.30      0.20      0.24        65\n",
            "\n",
            "    accuracy                           0.65       328\n",
            "   macro avg       0.67      0.39      0.36       328\n",
            "weighted avg       0.67      0.65      0.57       328\n",
            "\n"
          ],
          "name": "stdout"
        }
      ]
    },
    {
      "cell_type": "code",
      "metadata": {
        "id": "pJrlSwZBzuMV",
        "colab_type": "code",
        "outputId": "1807401c-64c7-42de-8d3a-03f7fe759bdc",
        "colab": {
          "base_uri": "https://localhost:8080/",
          "height": 32
        }
      },
      "source": [
        "np.bincount(data_container.validation.y)"
      ],
      "execution_count": 0,
      "outputs": [
        {
          "output_type": "execute_result",
          "data": {
            "text/plain": [
              "array([209,  54,  65])"
            ]
          },
          "metadata": {
            "tags": []
          },
          "execution_count": 103
        }
      ]
    },
    {
      "cell_type": "markdown",
      "metadata": {
        "id": "BsJv8BNM1p0z",
        "colab_type": "text"
      },
      "source": [
        "Use less neurons"
      ]
    },
    {
      "cell_type": "code",
      "metadata": {
        "id": "vRzK07P54Ks9",
        "colab_type": "code",
        "colab": {}
      },
      "source": [
        "model_4 = make_sequential_lstm_model_2(\n",
        "    n_categories=n_categories,\n",
        "    embedding_size=32,\n",
        "    lstm_size=32,\n",
        "    lstm_dropout=0.2,\n",
        "    dropout=0.5,\n",
        "    l1=1e-8,\n",
        "    l2=1e-8,\n",
        ")"
      ],
      "execution_count": 0,
      "outputs": []
    },
    {
      "cell_type": "code",
      "metadata": {
        "id": "TJCzDWRN4TOt",
        "colab_type": "code",
        "colab": {}
      },
      "source": [
        "model_4.compile(\n",
        "    loss=keras.losses.sparse_categorical_crossentropy,\n",
        "    optimizer=keras.optimizers.Adam(lr=3e-4),\n",
        "    metrics=[\n",
        "        keras.metrics.sparse_categorical_accuracy,\n",
        "        sparse_top_2_categorical_accuracy,\n",
        "    ],\n",
        ")"
      ],
      "execution_count": 0,
      "outputs": []
    },
    {
      "cell_type": "code",
      "metadata": {
        "id": "DZ9OLrYk4Xgu",
        "colab_type": "code",
        "outputId": "f8058935-1c65-49a5-954d-5fde118b7a60",
        "colab": {
          "base_uri": "https://localhost:8080/",
          "height": 316
        }
      },
      "source": [
        "history_4 = model_4.fit(\n",
        "    train_dataset,\n",
        "    steps_per_epoch=train_dataset_steps,\n",
        "    validation_data=validation_dataset,\n",
        "    validation_steps=validation_dataset_steps,\n",
        "    epochs=10,\n",
        "    callbacks=[\n",
        "        keras.callbacks.ReduceLROnPlateau(patience=2, factor=0.3),\n",
        "        keras.callbacks.EarlyStopping(patience=4, restore_best_weights=True),\n",
        "    ],\n",
        "    class_weight=class_weights,\n",
        ")"
      ],
      "execution_count": 0,
      "outputs": [
        {
          "output_type": "stream",
          "text": [
            "Train for 81 steps, validate for 10 steps\n",
            "Epoch 1/10\n",
            "81/81 [==============================] - 13s 158ms/step - loss: 1.0175 - sparse_categorical_accuracy: 0.6142 - sparse_top_2_categorical_accuracy: 0.8218 - val_loss: 0.8397 - val_sparse_categorical_accuracy: 0.6344 - val_sparse_top_2_categorical_accuracy: 0.8500\n",
            "Epoch 2/10\n",
            "81/81 [==============================] - 2s 27ms/step - loss: 0.8325 - sparse_categorical_accuracy: 0.6443 - sparse_top_2_categorical_accuracy: 0.8499 - val_loss: 0.8152 - val_sparse_categorical_accuracy: 0.6344 - val_sparse_top_2_categorical_accuracy: 0.8438\n",
            "Epoch 3/10\n",
            "81/81 [==============================] - 2s 27ms/step - loss: 0.7898 - sparse_categorical_accuracy: 0.6443 - sparse_top_2_categorical_accuracy: 0.8519 - val_loss: 0.7805 - val_sparse_categorical_accuracy: 0.6375 - val_sparse_top_2_categorical_accuracy: 0.8531\n",
            "Epoch 4/10\n",
            "81/81 [==============================] - 2s 27ms/step - loss: 0.6817 - sparse_categorical_accuracy: 0.6728 - sparse_top_2_categorical_accuracy: 0.8681 - val_loss: 0.7597 - val_sparse_categorical_accuracy: 0.6812 - val_sparse_top_2_categorical_accuracy: 0.8781\n",
            "Epoch 5/10\n",
            "81/81 [==============================] - 2s 27ms/step - loss: 0.5642 - sparse_categorical_accuracy: 0.7566 - sparse_top_2_categorical_accuracy: 0.9313 - val_loss: 0.7795 - val_sparse_categorical_accuracy: 0.6781 - val_sparse_top_2_categorical_accuracy: 0.8813\n",
            "Epoch 6/10\n",
            "81/81 [==============================] - 2s 27ms/step - loss: 0.4925 - sparse_categorical_accuracy: 0.7886 - sparse_top_2_categorical_accuracy: 0.9603 - val_loss: 0.7986 - val_sparse_categorical_accuracy: 0.6812 - val_sparse_top_2_categorical_accuracy: 0.8875\n",
            "Epoch 7/10\n",
            "81/81 [==============================] - 2s 27ms/step - loss: 0.4444 - sparse_categorical_accuracy: 0.8079 - sparse_top_2_categorical_accuracy: 0.9691 - val_loss: 0.8071 - val_sparse_categorical_accuracy: 0.6719 - val_sparse_top_2_categorical_accuracy: 0.8750\n",
            "Epoch 8/10\n",
            "81/81 [==============================] - 2s 28ms/step - loss: 0.4356 - sparse_categorical_accuracy: 0.8086 - sparse_top_2_categorical_accuracy: 0.9722 - val_loss: 0.8188 - val_sparse_categorical_accuracy: 0.6750 - val_sparse_top_2_categorical_accuracy: 0.8813\n"
          ],
          "name": "stdout"
        }
      ]
    },
    {
      "cell_type": "code",
      "metadata": {
        "id": "fXmVltIn4gOX",
        "colab_type": "code",
        "outputId": "1c9fb76b-ece0-4474-9570-7e46d235191c",
        "colab": {
          "base_uri": "https://localhost:8080/",
          "height": 181
        }
      },
      "source": [
        "print(\n",
        "    classification_report(\n",
        "        data_container.validation.y, model_4.predict(validation_dataset).argmax(axis=1)\n",
        "    )\n",
        ")"
      ],
      "execution_count": 0,
      "outputs": [
        {
          "output_type": "stream",
          "text": [
            "              precision    recall  f1-score   support\n",
            "\n",
            "           0       0.70      1.00      0.82       209\n",
            "           1       1.00      0.09      0.17        54\n",
            "           2       0.46      0.17      0.25        65\n",
            "\n",
            "    accuracy                           0.68       328\n",
            "   macro avg       0.72      0.42      0.41       328\n",
            "weighted avg       0.70      0.68      0.60       328\n",
            "\n"
          ],
          "name": "stdout"
        }
      ]
    },
    {
      "cell_type": "code",
      "metadata": {
        "id": "n28Z2aLS56Hh",
        "colab_type": "code",
        "colab": {}
      },
      "source": [
        "model_4 = make_sequential_lstm_model_2(\n",
        "    n_categories=n_categories,\n",
        "    embedding_size=32,\n",
        "    lstm_size=32,\n",
        "    lstm_dropout=0.3,\n",
        "    dropout=0.5,\n",
        "    l1=1e-8,\n",
        "    l2=1e-8,\n",
        ")"
      ],
      "execution_count": 0,
      "outputs": []
    },
    {
      "cell_type": "code",
      "metadata": {
        "id": "bSmZT6k96m94",
        "colab_type": "code",
        "colab": {}
      },
      "source": [
        "model_4.compile(\n",
        "    loss=keras.losses.sparse_categorical_crossentropy,\n",
        "    optimizer=keras.optimizers.SGD(lr=3e-5),\n",
        "    metrics=[\n",
        "        keras.metrics.sparse_categorical_accuracy,\n",
        "        sparse_top_2_categorical_accuracy,\n",
        "    ],\n",
        ")"
      ],
      "execution_count": 0,
      "outputs": []
    },
    {
      "cell_type": "code",
      "metadata": {
        "id": "AqkU0rKz6yOT",
        "colab_type": "code",
        "outputId": "b34d1960-47e8-4759-a839-24614acc0c3c",
        "colab": {
          "base_uri": "https://localhost:8080/",
          "height": 382
        }
      },
      "source": [
        "history_4 = model_4.fit(\n",
        "    train_dataset,\n",
        "    steps_per_epoch=train_dataset_steps,\n",
        "    validation_data=validation_dataset,\n",
        "    validation_steps=validation_dataset_steps,\n",
        "    epochs=10,\n",
        "    callbacks=[\n",
        "        keras.callbacks.ReduceLROnPlateau(patience=2, factor=0.3),\n",
        "        keras.callbacks.EarlyStopping(patience=4, restore_best_weights=True),\n",
        "    ],\n",
        "    class_weight=class_weights,\n",
        ")"
      ],
      "execution_count": 0,
      "outputs": [
        {
          "output_type": "stream",
          "text": [
            "Train for 81 steps, validate for 10 steps\n",
            "Epoch 1/10\n",
            "81/81 [==============================] - 13s 165ms/step - loss: 1.1013 - sparse_categorical_accuracy: 0.2851 - sparse_top_2_categorical_accuracy: 0.6130 - val_loss: 1.1003 - val_sparse_categorical_accuracy: 0.2375 - val_sparse_top_2_categorical_accuracy: 0.5688\n",
            "Epoch 2/10\n",
            "81/81 [==============================] - 2s 24ms/step - loss: 1.0998 - sparse_categorical_accuracy: 0.3175 - sparse_top_2_categorical_accuracy: 0.6609 - val_loss: 1.0993 - val_sparse_categorical_accuracy: 0.3031 - val_sparse_top_2_categorical_accuracy: 0.6344\n",
            "Epoch 3/10\n",
            "81/81 [==============================] - 2s 24ms/step - loss: 1.0993 - sparse_categorical_accuracy: 0.3245 - sparse_top_2_categorical_accuracy: 0.6620 - val_loss: 1.0983 - val_sparse_categorical_accuracy: 0.3625 - val_sparse_top_2_categorical_accuracy: 0.7031\n",
            "Epoch 4/10\n",
            "81/81 [==============================] - 2s 24ms/step - loss: 1.0981 - sparse_categorical_accuracy: 0.3499 - sparse_top_2_categorical_accuracy: 0.6775 - val_loss: 1.0972 - val_sparse_categorical_accuracy: 0.4406 - val_sparse_top_2_categorical_accuracy: 0.7750\n",
            "Epoch 5/10\n",
            "81/81 [==============================] - 2s 24ms/step - loss: 1.0969 - sparse_categorical_accuracy: 0.3723 - sparse_top_2_categorical_accuracy: 0.6929 - val_loss: 1.0962 - val_sparse_categorical_accuracy: 0.4969 - val_sparse_top_2_categorical_accuracy: 0.7969\n",
            "Epoch 6/10\n",
            "81/81 [==============================] - 2s 24ms/step - loss: 1.0961 - sparse_categorical_accuracy: 0.3735 - sparse_top_2_categorical_accuracy: 0.7022 - val_loss: 1.0952 - val_sparse_categorical_accuracy: 0.5375 - val_sparse_top_2_categorical_accuracy: 0.8250\n",
            "Epoch 7/10\n",
            "81/81 [==============================] - 2s 24ms/step - loss: 1.0948 - sparse_categorical_accuracy: 0.4101 - sparse_top_2_categorical_accuracy: 0.7180 - val_loss: 1.0942 - val_sparse_categorical_accuracy: 0.5750 - val_sparse_top_2_categorical_accuracy: 0.8344\n",
            "Epoch 8/10\n",
            "81/81 [==============================] - 2s 24ms/step - loss: 1.0938 - sparse_categorical_accuracy: 0.4441 - sparse_top_2_categorical_accuracy: 0.7357 - val_loss: 1.0932 - val_sparse_categorical_accuracy: 0.6000 - val_sparse_top_2_categorical_accuracy: 0.8375\n",
            "Epoch 9/10\n",
            "81/81 [==============================] - 2s 23ms/step - loss: 1.0925 - sparse_categorical_accuracy: 0.4595 - sparse_top_2_categorical_accuracy: 0.7623 - val_loss: 1.0922 - val_sparse_categorical_accuracy: 0.6156 - val_sparse_top_2_categorical_accuracy: 0.8406\n",
            "Epoch 10/10\n",
            "81/81 [==============================] - 2s 24ms/step - loss: 1.0921 - sparse_categorical_accuracy: 0.4691 - sparse_top_2_categorical_accuracy: 0.7643 - val_loss: 1.0913 - val_sparse_categorical_accuracy: 0.6187 - val_sparse_top_2_categorical_accuracy: 0.8344\n"
          ],
          "name": "stdout"
        }
      ]
    },
    {
      "cell_type": "code",
      "metadata": {
        "id": "kbOdxNf961N7",
        "colab_type": "code",
        "outputId": "c4a97cc5-ce88-46f2-e2c8-6bb5bff5bdeb",
        "colab": {
          "base_uri": "https://localhost:8080/",
          "height": 234
        }
      },
      "source": [
        "print(\n",
        "    classification_report(\n",
        "        data_container.validation.y, model_4.predict(validation_dataset).argmax(axis=1)\n",
        "    )\n",
        ")"
      ],
      "execution_count": 0,
      "outputs": [
        {
          "output_type": "stream",
          "text": [
            "              precision    recall  f1-score   support\n",
            "\n",
            "           0       0.63      0.98      0.77       209\n",
            "           1       0.00      0.00      0.00        54\n",
            "           2       0.00      0.00      0.00        65\n",
            "\n",
            "    accuracy                           0.62       328\n",
            "   macro avg       0.21      0.33      0.26       328\n",
            "weighted avg       0.40      0.62      0.49       328\n",
            "\n"
          ],
          "name": "stdout"
        },
        {
          "output_type": "stream",
          "text": [
            "/usr/local/lib/python3.6/dist-packages/sklearn/metrics/classification.py:1437: UndefinedMetricWarning: Precision and F-score are ill-defined and being set to 0.0 in labels with no predicted samples.\n",
            "  'precision', 'predicted', average, warn_for)\n"
          ],
          "name": "stderr"
        }
      ]
    },
    {
      "cell_type": "markdown",
      "metadata": {
        "id": "7JCbSHp71sjv",
        "colab_type": "text"
      },
      "source": [
        "## Wavenet Model"
      ]
    },
    {
      "cell_type": "code",
      "metadata": {
        "id": "3fnw4YmEz9iG",
        "colab_type": "code",
        "colab": {}
      },
      "source": [
        "def make_wavenet_model(n_categories, embedding_size, conv_size, dropout):\n",
        "    model_layers = []\n",
        "    for rate in (1, 2, 4, 8, 16) * 3:\n",
        "        model_layers.append(\n",
        "            keras.layers.Conv1D(\n",
        "                filters=conv_size,\n",
        "                kernel_size=2,\n",
        "                padding=\"causal\",\n",
        "                dilation_rate=rate,  # skips some words dy dialation rate\n",
        "                activation=keras.activations.relu,\n",
        "                kernel_initializer=keras.initializers.he_uniform(),\n",
        "            )\n",
        "        )\n",
        "        model_layers.append(keras.layers.Dropout(dropout))\n",
        "    return keras.models.Sequential(\n",
        "        [\n",
        "            keras.layers.Embedding(\n",
        "                VOCABULARY_SIZE + n_oov_buckets,\n",
        "                embedding_size,\n",
        "                mask_zero=True,\n",
        "                input_shape=[None],\n",
        "            ),\n",
        "            *model_layers,\n",
        "            keras.layers.GlobalMaxPool1D(),\n",
        "            keras.layers.Dropout(dropout),\n",
        "            keras.layers.Dense(n_categories, activation=keras.activations.softmax),\n",
        "        ]\n",
        "    )"
      ],
      "execution_count": 0,
      "outputs": []
    },
    {
      "cell_type": "code",
      "metadata": {
        "id": "Ug7v3HsZ14eS",
        "colab_type": "code",
        "colab": {}
      },
      "source": [
        "model = make_wavenet_model(\n",
        "    n_categories=n_categories, embedding_size=64, conv_size=64, dropout=0.5\n",
        ")"
      ],
      "execution_count": 0,
      "outputs": []
    },
    {
      "cell_type": "code",
      "metadata": {
        "id": "OFNMXrAq19sy",
        "colab_type": "code",
        "colab": {}
      },
      "source": [
        "model.compile(\n",
        "    loss=keras.losses.sparse_categorical_crossentropy,\n",
        "    optimizer=keras.optimizers.Adam(lr=1e-4),\n",
        "    metrics=[\n",
        "        keras.metrics.sparse_categorical_accuracy,\n",
        "        sparse_top_2_categorical_accuracy,\n",
        "    ],\n",
        ")"
      ],
      "execution_count": 0,
      "outputs": []
    },
    {
      "cell_type": "code",
      "metadata": {
        "id": "AfpW_A3y2Fkt",
        "colab_type": "code",
        "outputId": "c2816632-62cd-40c2-bc7f-668ce5f3ca9b",
        "colab": {
          "base_uri": "https://localhost:8080/",
          "height": 32
        }
      },
      "source": [
        "class_weights"
      ],
      "execution_count": 0,
      "outputs": [
        {
          "output_type": "execute_result",
          "data": {
            "text/plain": [
              "{0: 0.5178818415332939, 1: 2.1679073614557485, 2: 1.645323289391086}"
            ]
          },
          "metadata": {
            "tags": []
          },
          "execution_count": 107
        }
      ]
    },
    {
      "cell_type": "code",
      "metadata": {
        "id": "Stwgub5c2Jwy",
        "colab_type": "code",
        "outputId": "fd34daaf-99ff-4256-f999-f5741802cd15",
        "colab": {
          "base_uri": "https://localhost:8080/",
          "height": 382
        }
      },
      "source": [
        "history = model.fit(\n",
        "    train_dataset,\n",
        "    steps_per_epoch=train_dataset_steps,\n",
        "    validation_data=validation_dataset,\n",
        "    validation_steps=validation_dataset_steps,\n",
        "    epochs=10,\n",
        "    callbacks=[\n",
        "        keras.callbacks.ReduceLROnPlateau(patience=2, factor=0.3),\n",
        "        keras.callbacks.EarlyStopping(patience=4, restore_best_weights=True),\n",
        "    ],\n",
        "    class_weight=class_weights,\n",
        ")"
      ],
      "execution_count": 0,
      "outputs": [
        {
          "output_type": "stream",
          "text": [
            "Train for 81 steps, validate for 10 steps\n",
            "Epoch 1/10\n",
            "81/81 [==============================] - 5s 65ms/step - loss: 0.9102 - sparse_categorical_accuracy: 0.6404 - sparse_top_2_categorical_accuracy: 0.8225 - val_loss: 1.0182 - val_sparse_categorical_accuracy: 0.6344 - val_sparse_top_2_categorical_accuracy: 0.8375\n",
            "Epoch 2/10\n",
            "81/81 [==============================] - 5s 65ms/step - loss: 0.9020 - sparse_categorical_accuracy: 0.6416 - sparse_top_2_categorical_accuracy: 0.8264 - val_loss: 1.0150 - val_sparse_categorical_accuracy: 0.6344 - val_sparse_top_2_categorical_accuracy: 0.8375\n",
            "Epoch 3/10\n",
            "81/81 [==============================] - 5s 64ms/step - loss: 0.8980 - sparse_categorical_accuracy: 0.6435 - sparse_top_2_categorical_accuracy: 0.8353 - val_loss: 1.0120 - val_sparse_categorical_accuracy: 0.6344 - val_sparse_top_2_categorical_accuracy: 0.8375\n",
            "Epoch 4/10\n",
            "81/81 [==============================] - 5s 65ms/step - loss: 0.8940 - sparse_categorical_accuracy: 0.6431 - sparse_top_2_categorical_accuracy: 0.8333 - val_loss: 1.0106 - val_sparse_categorical_accuracy: 0.6344 - val_sparse_top_2_categorical_accuracy: 0.8375\n",
            "Epoch 5/10\n",
            "81/81 [==============================] - 5s 64ms/step - loss: 0.8951 - sparse_categorical_accuracy: 0.6416 - sparse_top_2_categorical_accuracy: 0.8306 - val_loss: 1.0097 - val_sparse_categorical_accuracy: 0.6344 - val_sparse_top_2_categorical_accuracy: 0.8375\n",
            "Epoch 6/10\n",
            "81/81 [==============================] - 5s 63ms/step - loss: 0.8865 - sparse_categorical_accuracy: 0.6439 - sparse_top_2_categorical_accuracy: 0.8318 - val_loss: 1.0088 - val_sparse_categorical_accuracy: 0.6344 - val_sparse_top_2_categorical_accuracy: 0.8375\n",
            "Epoch 7/10\n",
            "81/81 [==============================] - 5s 63ms/step - loss: 0.8928 - sparse_categorical_accuracy: 0.6435 - sparse_top_2_categorical_accuracy: 0.8245 - val_loss: 1.0080 - val_sparse_categorical_accuracy: 0.6344 - val_sparse_top_2_categorical_accuracy: 0.8375\n",
            "Epoch 8/10\n",
            "81/81 [==============================] - 5s 64ms/step - loss: 0.8808 - sparse_categorical_accuracy: 0.6408 - sparse_top_2_categorical_accuracy: 0.8345 - val_loss: 1.0068 - val_sparse_categorical_accuracy: 0.6344 - val_sparse_top_2_categorical_accuracy: 0.8375\n",
            "Epoch 9/10\n",
            "81/81 [==============================] - 5s 64ms/step - loss: 0.8764 - sparse_categorical_accuracy: 0.6454 - sparse_top_2_categorical_accuracy: 0.8391 - val_loss: 1.0069 - val_sparse_categorical_accuracy: 0.6344 - val_sparse_top_2_categorical_accuracy: 0.8375\n",
            "Epoch 10/10\n",
            "81/81 [==============================] - 5s 63ms/step - loss: 0.8761 - sparse_categorical_accuracy: 0.6412 - sparse_top_2_categorical_accuracy: 0.8341 - val_loss: 1.0070 - val_sparse_categorical_accuracy: 0.6344 - val_sparse_top_2_categorical_accuracy: 0.8375\n"
          ],
          "name": "stdout"
        }
      ]
    },
    {
      "cell_type": "code",
      "metadata": {
        "id": "Ko4oQhPb2YqY",
        "colab_type": "code",
        "outputId": "4ee3c505-1abb-4a4c-a62c-cff257b4ca77",
        "colab": {
          "base_uri": "https://localhost:8080/",
          "height": 234
        }
      },
      "source": [
        "print(\n",
        "    classification_report(\n",
        "        data_container.validation.y, model.predict(validation_dataset).argmax(axis=1)\n",
        "    )\n",
        ")"
      ],
      "execution_count": 0,
      "outputs": [
        {
          "output_type": "stream",
          "text": [
            "              precision    recall  f1-score   support\n",
            "\n",
            "           0       0.64      1.00      0.78       209\n",
            "           1       0.00      0.00      0.00        54\n",
            "           2       0.00      0.00      0.00        65\n",
            "\n",
            "    accuracy                           0.64       328\n",
            "   macro avg       0.21      0.33      0.26       328\n",
            "weighted avg       0.41      0.64      0.50       328\n",
            "\n"
          ],
          "name": "stdout"
        },
        {
          "output_type": "stream",
          "text": [
            "/usr/local/lib/python3.6/dist-packages/sklearn/metrics/classification.py:1437: UndefinedMetricWarning: Precision and F-score are ill-defined and being set to 0.0 in labels with no predicted samples.\n",
            "  'precision', 'predicted', average, warn_for)\n"
          ],
          "name": "stderr"
        }
      ]
    }
  ]
}