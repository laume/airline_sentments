{
  "nbformat": 4,
  "nbformat_minor": 0,
  "metadata": {
    "colab": {
      "name": "NLP_airline_negativereason.ipynb",
      "provenance": [],
      "toc_visible": true,
      "include_colab_link": true
    },
    "kernelspec": {
      "name": "python3",
      "display_name": "Python 3"
    },
    "accelerator": "GPU"
  },
  "cells": [
    {
      "cell_type": "markdown",
      "metadata": {
        "id": "view-in-github",
        "colab_type": "text"
      },
      "source": [
        "<a href=\"https://colab.research.google.com/github/laume/airline_sentments/blob/master/NLP_airline_negativereason.ipynb\" target=\"_parent\"><img src=\"https://colab.research.google.com/assets/colab-badge.svg\" alt=\"Open In Colab\"/></a>"
      ]
    },
    {
      "cell_type": "markdown",
      "metadata": {
        "id": "Y1WY7c3J84Du",
        "colab_type": "text"
      },
      "source": [
        "![alt text](https://storage.googleapis.com/kaggle-datasets-images/36308/54852/c377118a238f7584f561b5a6fd37d303/dataset-cover.jpg?t=2018-07-12-20-05-21)\n",
        "## Airline sentiment tweets\n",
        "## U.S Airline Tweets for sentiment analysis\n",
        "\n",
        "https://www.kaggle.com/tango911/airline-sentiment-tweets"
      ]
    },
    {
      "cell_type": "markdown",
      "metadata": {
        "id": "L7db2xRwlwhO",
        "colab_type": "text"
      },
      "source": [
        "## Prepare environment"
      ]
    },
    {
      "cell_type": "markdown",
      "metadata": {
        "id": "D_0vw0jTnJuR",
        "colab_type": "text"
      },
      "source": [
        "### Setup Kaggle variables:"
      ]
    },
    {
      "cell_type": "code",
      "metadata": {
        "id": "R4zyLHB6nLE2",
        "colab_type": "code",
        "colab": {}
      },
      "source": [
        "SETUP = True\n",
        "KAGGLE = True\n",
        "COMPETITION = 'kaggle datasets download -d tango911/airline-sentiment-tweets'\n",
        "DATA_DIR = 'data/airlines'\n",
        "UNARCHIVE_DATA = False"
      ],
      "execution_count": 0,
      "outputs": []
    },
    {
      "cell_type": "markdown",
      "metadata": {
        "id": "rM6vjOT3Xp22",
        "colab_type": "text"
      },
      "source": [
        "### Install libraries and perform setup"
      ]
    },
    {
      "cell_type": "code",
      "metadata": {
        "id": "U09eDyxV1d7b",
        "colab_type": "code",
        "outputId": "8b032501-d8f9-46b2-a939-7b5e5af6b4e5",
        "colab": {
          "base_uri": "https://localhost:8080/",
          "height": 415
        }
      },
      "source": [
        "if SETUP:\n",
        "    !pip install --upgrade --quiet dlai\n",
        "    !pip install -q -U toai\n",
        "    !pip install -q -U nb_black\n",
        "    !pip install -q -U tensorflow-datasets\n",
        "    !pip install -q -U --no-deps tensorflow-addons~=0.6\n",
        "    print(__import__(\"toai\").__version__)\n",
        "    print(f'dlai version: {__import__(\"dlai\").__version__}, tf version: {__import__(\"tensorflow\").__version__}')"
      ],
      "execution_count": 0,
      "outputs": [
        {
          "output_type": "stream",
          "text": [
            "\u001b[K     |████████████████████████████████| 380.8MB 44kB/s \n",
            "\u001b[K     |████████████████████████████████| 3.8MB 43.5MB/s \n",
            "\u001b[K     |████████████████████████████████| 450kB 51.2MB/s \n",
            "\u001b[K     |████████████████████████████████| 81kB 12.5MB/s \n",
            "\u001b[?25h  Building wheel for dlai (setup.py) ... \u001b[?25l\u001b[?25hdone\n",
            "\u001b[31mERROR: tensorflow 1.15.0 has requirement tensorboard<1.16.0,>=1.15.0, but you'll have tensorboard 2.0.1 which is incompatible.\u001b[0m\n",
            "\u001b[31mERROR: tensorflow 1.15.0 has requirement tensorflow-estimator==1.15.1, but you'll have tensorflow-estimator 2.0.1 which is incompatible.\u001b[0m\n",
            "\u001b[31mERROR: tensorboard 2.0.1 has requirement grpcio>=1.24.3, but you'll have grpcio 1.15.0 which is incompatible.\u001b[0m\n",
            "\u001b[31mERROR: google-colab 1.0.0 has requirement google-auth~=1.4.0, but you'll have google-auth 1.7.1 which is incompatible.\u001b[0m\n",
            "\u001b[K     |████████████████████████████████| 81kB 10.5MB/s \n",
            "\u001b[K     |████████████████████████████████| 153kB 45.7MB/s \n",
            "\u001b[K     |████████████████████████████████| 296kB 56.3MB/s \n",
            "\u001b[K     |████████████████████████████████| 61kB 9.0MB/s \n",
            "\u001b[?25h  Building wheel for fastparquet (setup.py) ... \u001b[?25l\u001b[?25hdone\n",
            "  Building wheel for thrift (setup.py) ... \u001b[?25l\u001b[?25hdone\n",
            "\u001b[K     |████████████████████████████████| 102kB 11.9MB/s \n",
            "\u001b[K     |████████████████████████████████| 737kB 46.9MB/s \n",
            "\u001b[K     |████████████████████████████████| 645kB 56.1MB/s \n",
            "\u001b[?25h  Building wheel for nb-black (setup.py) ... \u001b[?25l\u001b[?25hdone\n",
            "  Building wheel for pathspec (setup.py) ... \u001b[?25l\u001b[?25hdone\n",
            "\u001b[K     |████████████████████████████████| 1.8MB 25.7MB/s \n",
            "\u001b[?25h0.2.3\n",
            "dlai version: 0.0.16, tf version: 2.0.0\n"
          ],
          "name": "stdout"
        }
      ]
    },
    {
      "cell_type": "code",
      "metadata": {
        "id": "_bKTqVqOzcTQ",
        "colab_type": "code",
        "outputId": "825d1ee5-f098-4d28-d518-534e630a787e",
        "colab": {
          "base_uri": "https://localhost:8080/",
          "height": 102
        }
      },
      "source": [
        "import dlai\n",
        "from dlai.imports import *\n",
        "from toai.imports import *\n",
        "from toai.data import DataBundle, DataParams, DataContainer\n",
        "from toai.metrics import sparse_top_2_categorical_accuracy\n",
        "import tensorflow as tf\n",
        "from tensorflow import keras\n",
        "import tensorflow_addons as tfa\n",
        "import tensorflow_datasets as tfds"
      ],
      "execution_count": 0,
      "outputs": [
        {
          "output_type": "stream",
          "text": [
            "/usr/local/lib/python3.6/dist-packages/sklearn/externals/joblib/__init__.py:15: DeprecationWarning: sklearn.externals.joblib is deprecated in 0.21 and will be removed in 0.23. Please import this functionality directly from joblib, which can be installed with: pip install joblib. If this warning is raised when loading pickled models, you may need to re-serialize those models with scikit-learn 0.21+.\n",
            "  warnings.warn(msg, category=DeprecationWarning)\n",
            "/usr/local/lib/python3.6/dist-packages/toai/imports.py:70: UserWarning: Could not find kaggle.json. Make sure it's located in /root/.kaggle. Or use the environment method.\n",
            "  warnings.warn(str(error))\n"
          ],
          "name": "stderr"
        }
      ]
    },
    {
      "cell_type": "code",
      "metadata": {
        "id": "mdZZ8vaUXMSQ",
        "colab_type": "code",
        "colab": {}
      },
      "source": [
        "%load_ext autoreload\n",
        "%autoreload 2"
      ],
      "execution_count": 0,
      "outputs": []
    },
    {
      "cell_type": "code",
      "metadata": {
        "id": "Eaii262EH0ca",
        "colab_type": "code",
        "colab": {}
      },
      "source": [
        "%matplotlib inline"
      ],
      "execution_count": 0,
      "outputs": []
    },
    {
      "cell_type": "code",
      "metadata": {
        "id": "O6sDo1KCSOLi",
        "colab_type": "code",
        "colab": {}
      },
      "source": [
        "if KAGGLE:\n",
        "    setup_kaggle()\n",
        "    download_kaggle_data(COMPETITION, DATA_DIR)"
      ],
      "execution_count": 0,
      "outputs": []
    },
    {
      "cell_type": "code",
      "metadata": {
        "id": "7v3e3dZVGgoF",
        "colab_type": "code",
        "outputId": "16370476-5c62-40e6-dc7c-718d2e129a2b",
        "colab": {
          "base_uri": "https://localhost:8080/",
          "height": 32
        }
      },
      "source": [
        "!ls {DATA_DIR}"
      ],
      "execution_count": 0,
      "outputs": [
        {
          "output_type": "stream",
          "text": [
            "train.csv\n"
          ],
          "name": "stdout"
        }
      ]
    },
    {
      "cell_type": "code",
      "metadata": {
        "id": "dV8UTTEz5r8-",
        "colab_type": "code",
        "colab": {}
      },
      "source": [
        "DATA_DIR = Path(DATA_DIR)"
      ],
      "execution_count": 0,
      "outputs": []
    },
    {
      "cell_type": "markdown",
      "metadata": {
        "id": "W6jkX70LRcXV",
        "colab_type": "text"
      },
      "source": [
        "## Explore the data"
      ]
    },
    {
      "cell_type": "code",
      "metadata": {
        "id": "yYVgq63IRgid",
        "colab_type": "code",
        "colab": {}
      },
      "source": [
        "df = pd.read_csv(DATA_DIR/'train.csv')"
      ],
      "execution_count": 0,
      "outputs": []
    },
    {
      "cell_type": "code",
      "metadata": {
        "id": "Ext2sLmdbRiW",
        "colab_type": "code",
        "outputId": "a7ae8813-eca6-4f9d-aa94-cf156e986596",
        "colab": {
          "base_uri": "https://localhost:8080/",
          "height": 430
        }
      },
      "source": [
        "df.head(3).T"
      ],
      "execution_count": 0,
      "outputs": [
        {
          "output_type": "execute_result",
          "data": {
            "text/html": [
              "<div>\n",
              "<style scoped>\n",
              "    .dataframe tbody tr th:only-of-type {\n",
              "        vertical-align: middle;\n",
              "    }\n",
              "\n",
              "    .dataframe tbody tr th {\n",
              "        vertical-align: top;\n",
              "    }\n",
              "\n",
              "    .dataframe thead th {\n",
              "        text-align: right;\n",
              "    }\n",
              "</style>\n",
              "<table border=\"1\" class=\"dataframe\">\n",
              "  <thead>\n",
              "    <tr style=\"text-align: right;\">\n",
              "      <th></th>\n",
              "      <th>0</th>\n",
              "      <th>1</th>\n",
              "      <th>2</th>\n",
              "    </tr>\n",
              "  </thead>\n",
              "  <tbody>\n",
              "    <tr>\n",
              "      <th>tweet_id</th>\n",
              "      <td>Tr_tweet_1</td>\n",
              "      <td>Tr_tweet_2</td>\n",
              "      <td>Tr_tweet_3</td>\n",
              "    </tr>\n",
              "    <tr>\n",
              "      <th>airline_sentiment</th>\n",
              "      <td>neutral</td>\n",
              "      <td>positive</td>\n",
              "      <td>neutral</td>\n",
              "    </tr>\n",
              "    <tr>\n",
              "      <th>airline_sentiment_confidence</th>\n",
              "      <td>1</td>\n",
              "      <td>0.3486</td>\n",
              "      <td>0.6837</td>\n",
              "    </tr>\n",
              "    <tr>\n",
              "      <th>negativereason</th>\n",
              "      <td>NaN</td>\n",
              "      <td>NaN</td>\n",
              "      <td>NaN</td>\n",
              "    </tr>\n",
              "    <tr>\n",
              "      <th>negativereason_confidence</th>\n",
              "      <td>NaN</td>\n",
              "      <td>0</td>\n",
              "      <td>NaN</td>\n",
              "    </tr>\n",
              "    <tr>\n",
              "      <th>airline</th>\n",
              "      <td>Virgin America</td>\n",
              "      <td>Virgin America</td>\n",
              "      <td>Virgin America</td>\n",
              "    </tr>\n",
              "    <tr>\n",
              "      <th>name</th>\n",
              "      <td>cairdin</td>\n",
              "      <td>jnardino</td>\n",
              "      <td>yvonnalynn</td>\n",
              "    </tr>\n",
              "    <tr>\n",
              "      <th>retweet_count</th>\n",
              "      <td>0</td>\n",
              "      <td>0</td>\n",
              "      <td>0</td>\n",
              "    </tr>\n",
              "    <tr>\n",
              "      <th>text</th>\n",
              "      <td>@VirginAmerica What @dhepburn said.</td>\n",
              "      <td>@VirginAmerica plus you've added commercials t...</td>\n",
              "      <td>@VirginAmerica I didn't today... Must mean I n...</td>\n",
              "    </tr>\n",
              "    <tr>\n",
              "      <th>tweet_created</th>\n",
              "      <td>2015-02-24 11:35:52 -0800</td>\n",
              "      <td>2015-02-24 11:15:59 -0800</td>\n",
              "      <td>2015-02-24 11:15:48 -0800</td>\n",
              "    </tr>\n",
              "    <tr>\n",
              "      <th>tweet_location</th>\n",
              "      <td>NaN</td>\n",
              "      <td>NaN</td>\n",
              "      <td>Lets Play</td>\n",
              "    </tr>\n",
              "    <tr>\n",
              "      <th>user_timezone</th>\n",
              "      <td>Eastern Time (US &amp; Canada)</td>\n",
              "      <td>Pacific Time (US &amp; Canada)</td>\n",
              "      <td>Central Time (US &amp; Canada)</td>\n",
              "    </tr>\n",
              "  </tbody>\n",
              "</table>\n",
              "</div>"
            ],
            "text/plain": [
              "                                                                0  ...                                                  2\n",
              "tweet_id                                               Tr_tweet_1  ...                                         Tr_tweet_3\n",
              "airline_sentiment                                         neutral  ...                                            neutral\n",
              "airline_sentiment_confidence                                    1  ...                                             0.6837\n",
              "negativereason                                                NaN  ...                                                NaN\n",
              "negativereason_confidence                                     NaN  ...                                                NaN\n",
              "airline                                            Virgin America  ...                                     Virgin America\n",
              "name                                                      cairdin  ...                                         yvonnalynn\n",
              "retweet_count                                                   0  ...                                                  0\n",
              "text                          @VirginAmerica What @dhepburn said.  ...  @VirginAmerica I didn't today... Must mean I n...\n",
              "tweet_created                           2015-02-24 11:35:52 -0800  ...                          2015-02-24 11:15:48 -0800\n",
              "tweet_location                                                NaN  ...                                          Lets Play\n",
              "user_timezone                          Eastern Time (US & Canada)  ...                         Central Time (US & Canada)\n",
              "\n",
              "[12 rows x 3 columns]"
            ]
          },
          "metadata": {
            "tags": []
          },
          "execution_count": 10
        }
      ]
    },
    {
      "cell_type": "code",
      "metadata": {
        "id": "6YpM_iet3Dub",
        "colab_type": "code",
        "outputId": "99254c61-b76f-4714-ae7a-8d94237e36f6",
        "colab": {
          "base_uri": "https://localhost:8080/",
          "height": 414
        }
      },
      "source": [
        "df.describe(include='all').T"
      ],
      "execution_count": 0,
      "outputs": [
        {
          "output_type": "execute_result",
          "data": {
            "text/html": [
              "<div>\n",
              "<style scoped>\n",
              "    .dataframe tbody tr th:only-of-type {\n",
              "        vertical-align: middle;\n",
              "    }\n",
              "\n",
              "    .dataframe tbody tr th {\n",
              "        vertical-align: top;\n",
              "    }\n",
              "\n",
              "    .dataframe thead th {\n",
              "        text-align: right;\n",
              "    }\n",
              "</style>\n",
              "<table border=\"1\" class=\"dataframe\">\n",
              "  <thead>\n",
              "    <tr style=\"text-align: right;\">\n",
              "      <th></th>\n",
              "      <th>count</th>\n",
              "      <th>unique</th>\n",
              "      <th>top</th>\n",
              "      <th>freq</th>\n",
              "      <th>mean</th>\n",
              "      <th>std</th>\n",
              "      <th>min</th>\n",
              "      <th>25%</th>\n",
              "      <th>50%</th>\n",
              "      <th>75%</th>\n",
              "      <th>max</th>\n",
              "    </tr>\n",
              "  </thead>\n",
              "  <tbody>\n",
              "    <tr>\n",
              "      <th>tweet_id</th>\n",
              "      <td>3339</td>\n",
              "      <td>3339</td>\n",
              "      <td>Tr_tweet_3063</td>\n",
              "      <td>1</td>\n",
              "      <td>NaN</td>\n",
              "      <td>NaN</td>\n",
              "      <td>NaN</td>\n",
              "      <td>NaN</td>\n",
              "      <td>NaN</td>\n",
              "      <td>NaN</td>\n",
              "      <td>NaN</td>\n",
              "    </tr>\n",
              "    <tr>\n",
              "      <th>airline_sentiment</th>\n",
              "      <td>3339</td>\n",
              "      <td>3</td>\n",
              "      <td>negative</td>\n",
              "      <td>2135</td>\n",
              "      <td>NaN</td>\n",
              "      <td>NaN</td>\n",
              "      <td>NaN</td>\n",
              "      <td>NaN</td>\n",
              "      <td>NaN</td>\n",
              "      <td>NaN</td>\n",
              "      <td>NaN</td>\n",
              "    </tr>\n",
              "    <tr>\n",
              "      <th>airline_sentiment_confidence</th>\n",
              "      <td>3339</td>\n",
              "      <td>NaN</td>\n",
              "      <td>NaN</td>\n",
              "      <td>NaN</td>\n",
              "      <td>0.896748</td>\n",
              "      <td>0.165675</td>\n",
              "      <td>0.335</td>\n",
              "      <td>0.68895</td>\n",
              "      <td>1</td>\n",
              "      <td>1</td>\n",
              "      <td>1</td>\n",
              "    </tr>\n",
              "    <tr>\n",
              "      <th>negativereason</th>\n",
              "      <td>2134</td>\n",
              "      <td>10</td>\n",
              "      <td>Customer Service Issue</td>\n",
              "      <td>563</td>\n",
              "      <td>NaN</td>\n",
              "      <td>NaN</td>\n",
              "      <td>NaN</td>\n",
              "      <td>NaN</td>\n",
              "      <td>NaN</td>\n",
              "      <td>NaN</td>\n",
              "      <td>NaN</td>\n",
              "    </tr>\n",
              "    <tr>\n",
              "      <th>negativereason_confidence</th>\n",
              "      <td>2450</td>\n",
              "      <td>NaN</td>\n",
              "      <td>NaN</td>\n",
              "      <td>NaN</td>\n",
              "      <td>0.618021</td>\n",
              "      <td>0.326748</td>\n",
              "      <td>0</td>\n",
              "      <td>0.355525</td>\n",
              "      <td>0.66685</td>\n",
              "      <td>1</td>\n",
              "      <td>1</td>\n",
              "    </tr>\n",
              "    <tr>\n",
              "      <th>airline</th>\n",
              "      <td>3338</td>\n",
              "      <td>2</td>\n",
              "      <td>United</td>\n",
              "      <td>2884</td>\n",
              "      <td>NaN</td>\n",
              "      <td>NaN</td>\n",
              "      <td>NaN</td>\n",
              "      <td>NaN</td>\n",
              "      <td>NaN</td>\n",
              "      <td>NaN</td>\n",
              "      <td>NaN</td>\n",
              "    </tr>\n",
              "    <tr>\n",
              "      <th>name</th>\n",
              "      <td>3338</td>\n",
              "      <td>1925</td>\n",
              "      <td>throthra</td>\n",
              "      <td>25</td>\n",
              "      <td>NaN</td>\n",
              "      <td>NaN</td>\n",
              "      <td>NaN</td>\n",
              "      <td>NaN</td>\n",
              "      <td>NaN</td>\n",
              "      <td>NaN</td>\n",
              "      <td>NaN</td>\n",
              "    </tr>\n",
              "    <tr>\n",
              "      <th>retweet_count</th>\n",
              "      <td>3338</td>\n",
              "      <td>NaN</td>\n",
              "      <td>NaN</td>\n",
              "      <td>NaN</td>\n",
              "      <td>0.106052</td>\n",
              "      <td>0.350716</td>\n",
              "      <td>0</td>\n",
              "      <td>0</td>\n",
              "      <td>0</td>\n",
              "      <td>0</td>\n",
              "      <td>4</td>\n",
              "    </tr>\n",
              "    <tr>\n",
              "      <th>text</th>\n",
              "      <td>3338</td>\n",
              "      <td>3321</td>\n",
              "      <td>@united thanks</td>\n",
              "      <td>5</td>\n",
              "      <td>NaN</td>\n",
              "      <td>NaN</td>\n",
              "      <td>NaN</td>\n",
              "      <td>NaN</td>\n",
              "      <td>NaN</td>\n",
              "      <td>NaN</td>\n",
              "      <td>NaN</td>\n",
              "    </tr>\n",
              "    <tr>\n",
              "      <th>tweet_created</th>\n",
              "      <td>3243</td>\n",
              "      <td>3227</td>\n",
              "      <td>2015-02-23 06:57:24 -0800</td>\n",
              "      <td>3</td>\n",
              "      <td>NaN</td>\n",
              "      <td>NaN</td>\n",
              "      <td>NaN</td>\n",
              "      <td>NaN</td>\n",
              "      <td>NaN</td>\n",
              "      <td>NaN</td>\n",
              "      <td>NaN</td>\n",
              "    </tr>\n",
              "    <tr>\n",
              "      <th>tweet_location</th>\n",
              "      <td>2319</td>\n",
              "      <td>1010</td>\n",
              "      <td>San Francisco, CA</td>\n",
              "      <td>41</td>\n",
              "      <td>NaN</td>\n",
              "      <td>NaN</td>\n",
              "      <td>NaN</td>\n",
              "      <td>NaN</td>\n",
              "      <td>NaN</td>\n",
              "      <td>NaN</td>\n",
              "      <td>NaN</td>\n",
              "    </tr>\n",
              "    <tr>\n",
              "      <th>user_timezone</th>\n",
              "      <td>2231</td>\n",
              "      <td>143</td>\n",
              "      <td>Eastern Time (US &amp; Canada)</td>\n",
              "      <td>761</td>\n",
              "      <td>NaN</td>\n",
              "      <td>NaN</td>\n",
              "      <td>NaN</td>\n",
              "      <td>NaN</td>\n",
              "      <td>NaN</td>\n",
              "      <td>NaN</td>\n",
              "      <td>NaN</td>\n",
              "    </tr>\n",
              "  </tbody>\n",
              "</table>\n",
              "</div>"
            ],
            "text/plain": [
              "                             count unique  ...  75%  max\n",
              "tweet_id                      3339   3339  ...  NaN  NaN\n",
              "airline_sentiment             3339      3  ...  NaN  NaN\n",
              "airline_sentiment_confidence  3339    NaN  ...    1    1\n",
              "negativereason                2134     10  ...  NaN  NaN\n",
              "negativereason_confidence     2450    NaN  ...    1    1\n",
              "airline                       3338      2  ...  NaN  NaN\n",
              "name                          3338   1925  ...  NaN  NaN\n",
              "retweet_count                 3338    NaN  ...    0    4\n",
              "text                          3338   3321  ...  NaN  NaN\n",
              "tweet_created                 3243   3227  ...  NaN  NaN\n",
              "tweet_location                2319   1010  ...  NaN  NaN\n",
              "user_timezone                 2231    143  ...  NaN  NaN\n",
              "\n",
              "[12 rows x 11 columns]"
            ]
          },
          "metadata": {
            "tags": []
          },
          "execution_count": 11
        }
      ]
    },
    {
      "cell_type": "code",
      "metadata": {
        "id": "a8wNtJif3La-",
        "colab_type": "code",
        "outputId": "7a76136d-0c30-4a69-9209-b36781cfd826",
        "colab": {
          "base_uri": "https://localhost:8080/",
          "height": 296
        }
      },
      "source": [
        "df.info()"
      ],
      "execution_count": 0,
      "outputs": [
        {
          "output_type": "stream",
          "text": [
            "<class 'pandas.core.frame.DataFrame'>\n",
            "RangeIndex: 3339 entries, 0 to 3338\n",
            "Data columns (total 12 columns):\n",
            "tweet_id                        3339 non-null object\n",
            "airline_sentiment               3339 non-null object\n",
            "airline_sentiment_confidence    3339 non-null float64\n",
            "negativereason                  2134 non-null object\n",
            "negativereason_confidence       2450 non-null float64\n",
            "airline                         3338 non-null object\n",
            "name                            3338 non-null object\n",
            "retweet_count                   3338 non-null float64\n",
            "text                            3338 non-null object\n",
            "tweet_created                   3243 non-null object\n",
            "tweet_location                  2319 non-null object\n",
            "user_timezone                   2231 non-null object\n",
            "dtypes: float64(3), object(9)\n",
            "memory usage: 313.2+ KB\n"
          ],
          "name": "stdout"
        }
      ]
    },
    {
      "cell_type": "code",
      "metadata": {
        "id": "nwyr22GvC8vp",
        "colab_type": "code",
        "outputId": "120d7f74-242e-436f-fef7-848e98faf3f1",
        "colab": {
          "base_uri": "https://localhost:8080/",
          "height": 65
        }
      },
      "source": [
        "df.airline.value_counts()"
      ],
      "execution_count": 0,
      "outputs": [
        {
          "output_type": "execute_result",
          "data": {
            "text/plain": [
              "United            2884\n",
              "Virgin America     454\n",
              "Name: airline, dtype: int64"
            ]
          },
          "metadata": {
            "tags": []
          },
          "execution_count": 13
        }
      ]
    },
    {
      "cell_type": "code",
      "metadata": {
        "id": "dyraRCEvICRD",
        "colab_type": "code",
        "outputId": "2304e8df-bb89-4ac8-a771-fbd0efd003c9",
        "colab": {
          "base_uri": "https://localhost:8080/",
          "height": 295
        }
      },
      "source": [
        "f, ax = plt.subplots(1, 2, figsize=(16, 4))\n",
        "sns.countplot(df.airline, ax=ax[0]).set_title('Airlines');\n",
        "sns.countplot(x = 'airline_sentiment', hue='airline', data= df, ax=ax[1]).set_title('General airline sentiments');"
      ],
      "execution_count": 0,
      "outputs": [
        {
          "output_type": "display_data",
          "data": {
            "image/png": "[encoded data removed]",
            "text/plain": [
              "<Figure size 1152x288 with 2 Axes>"
            ]
          },
          "metadata": {
            "tags": []
          }
        }
      ]
    },
    {
      "cell_type": "code",
      "metadata": {
        "id": "8sQ6haYmO7A4",
        "colab_type": "code",
        "outputId": "33617622-8910-4c36-a49e-f21ac84775af",
        "colab": {
          "base_uri": "https://localhost:8080/",
          "height": 469
        }
      },
      "source": [
        "plt.figure(figsize=(10,5))\n",
        "sns.countplot(df.negativereason).set_title('Negative reason');\n",
        "plt.xticks(rotation=65, horizontalalignment='right');"
      ],
      "execution_count": 0,
      "outputs": [
        {
          "output_type": "display_data",
          "data": {
            "image/png": "[encoded data removed]",
            "text/plain": [
              "<Figure size 720x360 with 1 Axes>"
            ]
          },
          "metadata": {
            "tags": []
          }
        }
      ]
    },
    {
      "cell_type": "code",
      "metadata": {
        "id": "7cJRtlgtwkJa",
        "colab_type": "code",
        "colab": {}
      },
      "source": [
        "def make_category_map(labels):\n",
        "    return {x: i for i, x in enumerate(set(labels))}"
      ],
      "execution_count": 0,
      "outputs": []
    },
    {
      "cell_type": "markdown",
      "metadata": {
        "id": "Mf8468uq9pqo",
        "colab_type": "text"
      },
      "source": [
        "### Select negatives only"
      ]
    },
    {
      "cell_type": "code",
      "metadata": {
        "id": "AxtnEO5v9sFc",
        "colab_type": "code",
        "outputId": "fc0f8f2c-3193-4070-cba4-735433ff6167",
        "colab": {
          "base_uri": "https://localhost:8080/",
          "height": 32
        }
      },
      "source": [
        "negatives = df[df.airline_sentiment == 'negative']\n",
        "negatives = negatives[['text', 'negativereason']]\n",
        "len(df), len(negatives)"
      ],
      "execution_count": 0,
      "outputs": [
        {
          "output_type": "execute_result",
          "data": {
            "text/plain": [
              "(3339, 2135)"
            ]
          },
          "metadata": {
            "tags": []
          },
          "execution_count": 20
        }
      ]
    },
    {
      "cell_type": "code",
      "metadata": {
        "id": "T1QPF5d9_Sm0",
        "colab_type": "code",
        "outputId": "c8709d83-7ea5-4783-cf44-fc7d4adc47f2",
        "colab": {
          "base_uri": "https://localhost:8080/",
          "height": 140
        }
      },
      "source": [
        "negatives.tail(3)"
      ],
      "execution_count": 0,
      "outputs": [
        {
          "output_type": "execute_result",
          "data": {
            "text/html": [
              "<div>\n",
              "<style scoped>\n",
              "    .dataframe tbody tr th:only-of-type {\n",
              "        vertical-align: middle;\n",
              "    }\n",
              "\n",
              "    .dataframe tbody tr th {\n",
              "        vertical-align: top;\n",
              "    }\n",
              "\n",
              "    .dataframe thead th {\n",
              "        text-align: right;\n",
              "    }\n",
              "</style>\n",
              "<table border=\"1\" class=\"dataframe\">\n",
              "  <thead>\n",
              "    <tr style=\"text-align: right;\">\n",
              "      <th></th>\n",
              "      <th>text</th>\n",
              "      <th>negativereason</th>\n",
              "    </tr>\n",
              "  </thead>\n",
              "  <tbody>\n",
              "    <tr>\n",
              "      <th>3336</th>\n",
              "      <td>@united I will be patient as your agent explai...</td>\n",
              "      <td>Flight Booking Problems</td>\n",
              "    </tr>\n",
              "    <tr>\n",
              "      <th>3337</th>\n",
              "      <td>@united please help trace my luggage which was...</td>\n",
              "      <td>Lost Luggage</td>\n",
              "    </tr>\n",
              "    <tr>\n",
              "      <th>3338</th>\n",
              "      <td>NaN</td>\n",
              "      <td>NaN</td>\n",
              "    </tr>\n",
              "  </tbody>\n",
              "</table>\n",
              "</div>"
            ],
            "text/plain": [
              "                                                   text           negativereason\n",
              "3336  @united I will be patient as your agent explai...  Flight Booking Problems\n",
              "3337  @united please help trace my luggage which was...             Lost Luggage\n",
              "3338                                                NaN                      NaN"
            ]
          },
          "metadata": {
            "tags": []
          },
          "execution_count": 21
        }
      ]
    },
    {
      "cell_type": "code",
      "metadata": {
        "id": "zlSpOdZw9yOe",
        "colab_type": "code",
        "outputId": "0e0b6640-39f5-4ae2-bcae-376b9ea4da4c",
        "colab": {
          "base_uri": "https://localhost:8080/",
          "height": 131
        }
      },
      "source": [
        "negatives.info()"
      ],
      "execution_count": 0,
      "outputs": [
        {
          "output_type": "stream",
          "text": [
            "<class 'pandas.core.frame.DataFrame'>\n",
            "Int64Index: 2135 entries, 3 to 3338\n",
            "Data columns (total 2 columns):\n",
            "text              2134 non-null object\n",
            "negativereason    2134 non-null object\n",
            "dtypes: object(2)\n",
            "memory usage: 50.0+ KB\n"
          ],
          "name": "stdout"
        }
      ]
    },
    {
      "cell_type": "code",
      "metadata": {
        "id": "kimx5nRk_syw",
        "colab_type": "code",
        "outputId": "74967f90-d579-4613-974a-3dc30098c244",
        "colab": {
          "base_uri": "https://localhost:8080/",
          "height": 32
        }
      },
      "source": [
        "negatives = negatives[~negatives[\"text\"].isna()]\n",
        "len(negatives)"
      ],
      "execution_count": 0,
      "outputs": [
        {
          "output_type": "execute_result",
          "data": {
            "text/plain": [
              "2134"
            ]
          },
          "metadata": {
            "tags": []
          },
          "execution_count": 23
        }
      ]
    },
    {
      "cell_type": "code",
      "metadata": {
        "id": "vCn7frZ3-Z7L",
        "colab_type": "code",
        "outputId": "5d1ebd46-e48f-4d44-ada5-bd0d406206d4",
        "colab": {
          "base_uri": "https://localhost:8080/",
          "height": 181
        }
      },
      "source": [
        "category_map = make_category_map(negatives[\"negativereason\"].values)\n",
        "category_map"
      ],
      "execution_count": 0,
      "outputs": [
        {
          "output_type": "execute_result",
          "data": {
            "text/plain": [
              "{'Bad Flight': 5,\n",
              " \"Can't Tell\": 4,\n",
              " 'Cancelled Flight': 1,\n",
              " 'Customer Service Issue': 7,\n",
              " 'Damaged Luggage': 3,\n",
              " 'Flight Attendant Complaints': 0,\n",
              " 'Flight Booking Problems': 2,\n",
              " 'Late Flight': 9,\n",
              " 'Lost Luggage': 6,\n",
              " 'longlines': 8}"
            ]
          },
          "metadata": {
            "tags": []
          },
          "execution_count": 24
        }
      ]
    },
    {
      "cell_type": "code",
      "metadata": {
        "id": "9X-WhemYAERe",
        "colab_type": "code",
        "outputId": "5cf2917a-3e9b-49c7-97f3-17a56d627ccb",
        "colab": {
          "base_uri": "https://localhost:8080/",
          "height": 32
        }
      },
      "source": [
        "n_categories = len(category_map)\n",
        "n_categories"
      ],
      "execution_count": 0,
      "outputs": [
        {
          "output_type": "execute_result",
          "data": {
            "text/plain": [
              "10"
            ]
          },
          "metadata": {
            "tags": []
          },
          "execution_count": 25
        }
      ]
    },
    {
      "cell_type": "code",
      "metadata": {
        "id": "znAfifQG-wu6",
        "colab_type": "code",
        "colab": {}
      },
      "source": [
        "negatives[\"negativereason\"] = negatives[\"negativereason\"].map(category_map)"
      ],
      "execution_count": 0,
      "outputs": []
    },
    {
      "cell_type": "code",
      "metadata": {
        "id": "2IoDtD-M--bW",
        "colab_type": "code",
        "outputId": "c260c566-bfba-400d-b231-b079151371fc",
        "colab": {
          "base_uri": "https://localhost:8080/",
          "height": 140
        }
      },
      "source": [
        "negatives.tail(3)"
      ],
      "execution_count": 0,
      "outputs": [
        {
          "output_type": "execute_result",
          "data": {
            "text/html": [
              "<div>\n",
              "<style scoped>\n",
              "    .dataframe tbody tr th:only-of-type {\n",
              "        vertical-align: middle;\n",
              "    }\n",
              "\n",
              "    .dataframe tbody tr th {\n",
              "        vertical-align: top;\n",
              "    }\n",
              "\n",
              "    .dataframe thead th {\n",
              "        text-align: right;\n",
              "    }\n",
              "</style>\n",
              "<table border=\"1\" class=\"dataframe\">\n",
              "  <thead>\n",
              "    <tr style=\"text-align: right;\">\n",
              "      <th></th>\n",
              "      <th>text</th>\n",
              "      <th>negativereason</th>\n",
              "    </tr>\n",
              "  </thead>\n",
              "  <tbody>\n",
              "    <tr>\n",
              "      <th>3335</th>\n",
              "      <td>@united I will be patient in my luxurious midd...</td>\n",
              "      <td>9</td>\n",
              "    </tr>\n",
              "    <tr>\n",
              "      <th>3336</th>\n",
              "      <td>@united I will be patient as your agent explai...</td>\n",
              "      <td>2</td>\n",
              "    </tr>\n",
              "    <tr>\n",
              "      <th>3337</th>\n",
              "      <td>@united please help trace my luggage which was...</td>\n",
              "      <td>6</td>\n",
              "    </tr>\n",
              "  </tbody>\n",
              "</table>\n",
              "</div>"
            ],
            "text/plain": [
              "                                                   text  negativereason\n",
              "3335  @united I will be patient in my luxurious midd...               9\n",
              "3336  @united I will be patient as your agent explai...               2\n",
              "3337  @united please help trace my luggage which was...               6"
            ]
          },
          "metadata": {
            "tags": []
          },
          "execution_count": 27
        }
      ]
    },
    {
      "cell_type": "markdown",
      "metadata": {
        "id": "jQFEVqzm9Z9s",
        "colab_type": "text"
      },
      "source": [
        "# Preprocessing"
      ]
    },
    {
      "cell_type": "code",
      "metadata": {
        "id": "uBZydIleytsB",
        "colab_type": "code",
        "colab": {}
      },
      "source": [
        "data_container = DataContainer(\n",
        "    *DataBundle.split(\n",
        "        data_bundle=DataBundle.from_dataframe(\n",
        "            dataframe=negatives, x_col=\"text\", y_col=\"negativereason\"\n",
        "        ),\n",
        "        fracs=[0.9, 0.1, 0],\n",
        "    )\n",
        ")"
      ],
      "execution_count": 0,
      "outputs": []
    },
    {
      "cell_type": "code",
      "metadata": {
        "id": "pSiNGJVOy8kI",
        "colab_type": "code",
        "colab": {}
      },
      "source": [
        "class_weights = dict(\n",
        "    enumerate(\n",
        "        sk.utils.class_weight.compute_class_weight(\n",
        "            \"balanced\", np.unique(data_container.train.y), data_container.train.y\n",
        "        )\n",
        "    )\n",
        ")"
      ],
      "execution_count": 0,
      "outputs": []
    },
    {
      "cell_type": "code",
      "metadata": {
        "id": "FxlSt-8jzvZu",
        "colab_type": "code",
        "outputId": "f6820f8b-cbdb-444d-dd55-5e94755f987c",
        "colab": {
          "base_uri": "https://localhost:8080/",
          "height": 181
        }
      },
      "source": [
        "class_weights"
      ],
      "execution_count": 0,
      "outputs": [
        {
          "output_type": "execute_result",
          "data": {
            "text/plain": [
              "{0: 1.6279661016949152,\n",
              " 1: 1.2721854304635762,\n",
              " 2: 1.7306306306306307,\n",
              " 3: 12.806666666666667,\n",
              " 4: 0.7114814814814815,\n",
              " 5: 1.1642424242424243,\n",
              " 6: 1.0554945054945055,\n",
              " 7: 0.37889546351084813,\n",
              " 8: 4.925641025641026,\n",
              " 9: 0.5292011019283747}"
            ]
          },
          "metadata": {
            "tags": []
          },
          "execution_count": 31
        }
      ]
    },
    {
      "cell_type": "code",
      "metadata": {
        "id": "ZAXlFwDvzxGu",
        "colab_type": "code",
        "outputId": "aa5eca60-b06a-41b4-ea45-9a8e7f7d7cd0",
        "colab": {
          "base_uri": "https://localhost:8080/",
          "height": 32
        }
      },
      "source": [
        "len(data_container.train), len(data_container.validation), len(data_container.test)"
      ],
      "execution_count": 0,
      "outputs": [
        {
          "output_type": "execute_result",
          "data": {
            "text/plain": [
              "(1921, 213, 0)"
            ]
          },
          "metadata": {
            "tags": []
          },
          "execution_count": 32
        }
      ]
    },
    {
      "cell_type": "code",
      "metadata": {
        "id": "ndzaAuvxz0x4",
        "colab_type": "code",
        "colab": {}
      },
      "source": [
        "def make_dataset(data_bundle):\n",
        "    return tf.data.Dataset.from_tensor_slices((data_bundle.x, data_bundle.y))"
      ],
      "execution_count": 0,
      "outputs": []
    },
    {
      "cell_type": "code",
      "metadata": {
        "id": "oD9vSfUaz5Cg",
        "colab_type": "code",
        "colab": {}
      },
      "source": [
        "data_container.train.dataset = make_dataset(data_container.train)\n",
        "data_container.validation.dataset = make_dataset(data_container.validation)\n",
        "# data_container.test.dataset = make_dataset(data_container.test)"
      ],
      "execution_count": 0,
      "outputs": []
    },
    {
      "cell_type": "code",
      "metadata": {
        "id": "XxRu181h0BzT",
        "colab_type": "code",
        "outputId": "18a55719-6462-47e5-96c7-ed6de8aad13f",
        "colab": {
          "base_uri": "https://localhost:8080/",
          "height": 52
        }
      },
      "source": [
        "data_container.train.x[1]"
      ],
      "execution_count": 0,
      "outputs": [
        {
          "output_type": "execute_result",
          "data": {
            "text/plain": [
              "'@United says we had a weather delay in #YXE this morning. The \"weather\" didn\\'t affect any other airline. #UA6136 http://t.co/4JdvK8tCqx'"
            ]
          },
          "metadata": {
            "tags": []
          },
          "execution_count": 35
        }
      ]
    },
    {
      "cell_type": "code",
      "metadata": {
        "id": "EXj-poUm0Nx4",
        "colab_type": "code",
        "outputId": "010eb182-3e64-4ebd-f099-54cdeba7a502",
        "colab": {
          "base_uri": "https://localhost:8080/",
          "height": 32
        }
      },
      "source": [
        "[key for key, val in category_map.items() if val == data_container.train.y[1]]"
      ],
      "execution_count": 0,
      "outputs": [
        {
          "output_type": "execute_result",
          "data": {
            "text/plain": [
              "['Late Flight']"
            ]
          },
          "metadata": {
            "tags": []
          },
          "execution_count": 36
        }
      ]
    },
    {
      "cell_type": "code",
      "metadata": {
        "id": "Gqg7be1V0Y1t",
        "colab_type": "code",
        "colab": {}
      },
      "source": [
        "def preprocess(x, y, max_length=50):\n",
        "    x = tf.strings.regex_replace(x, b\"^@[a-zA-Z]+\", b\" \")\n",
        "    x = tf.strings.regex_replace(x, rb\"<br\\s*/?>\", b\" \")\n",
        "    x = tf.strings.regex_replace(x, b\"[^a-zA-Z']\", b\" \")\n",
        "    x = tf.strings.split(x)\n",
        "    x = x[:, :max_length]\n",
        "    return x.to_tensor(default_value=b\"<pad>\"), y"
      ],
      "execution_count": 0,
      "outputs": []
    },
    {
      "cell_type": "code",
      "metadata": {
        "id": "D0tmMf2j18MO",
        "colab_type": "code",
        "colab": {}
      },
      "source": [
        "BATCH_SIZE = 32"
      ],
      "execution_count": 0,
      "outputs": []
    },
    {
      "cell_type": "code",
      "metadata": {
        "id": "aW1tJIAj12P3",
        "colab_type": "code",
        "outputId": "a0cd3853-81b5-405d-e8af-455f8888e8c9",
        "colab": {
          "base_uri": "https://localhost:8080/",
          "height": 148
        }
      },
      "source": [
        "for x, y in data_container.train.dataset.batch(BATCH_SIZE).map(preprocess).take(1):\n",
        "    print(x.shape)\n",
        "    print(y.shape)\n",
        "    print(x[1])\n",
        "    print(y[1])"
      ],
      "execution_count": 0,
      "outputs": [
        {
          "output_type": "stream",
          "text": [
            "(32, 27)\n",
            "(32,)\n",
            "tf.Tensor(\n",
            "[b'says' b'we' b'had' b'a' b'weather' b'delay' b'in' b'YXE' b'this'\n",
            " b'morning' b'The' b'weather' b\"didn't\" b'affect' b'any' b'other'\n",
            " b'airline' b'UA' b'http' b't' b'co' b'JdvK' b'tCqx' b'<pad>' b'<pad>'\n",
            " b'<pad>' b'<pad>'], shape=(27,), dtype=string)\n",
            "tf.Tensor(9, shape=(), dtype=int64)\n"
          ],
          "name": "stdout"
        }
      ]
    },
    {
      "cell_type": "code",
      "metadata": {
        "id": "-rdePYTd2A8D",
        "colab_type": "code",
        "colab": {}
      },
      "source": [
        "def make_vocabulary(dataset):\n",
        "    vocabulary = Counter()\n",
        "    for x, _ in dataset.batch(BATCH_SIZE).map(preprocess):\n",
        "        for review in x:\n",
        "            vocabulary.update(review.numpy().tolist())\n",
        "    return vocabulary"
      ],
      "execution_count": 0,
      "outputs": []
    },
    {
      "cell_type": "code",
      "metadata": {
        "id": "5nWCsb874gcb",
        "colab_type": "code",
        "colab": {}
      },
      "source": [
        "vocabulary = make_vocabulary(data_container.train.dataset)"
      ],
      "execution_count": 0,
      "outputs": []
    },
    {
      "cell_type": "code",
      "metadata": {
        "id": "pXPBIoMB4jfa",
        "colab_type": "code",
        "outputId": "376f86fa-e2ac-44e9-d256-b2b5e50f8426",
        "colab": {
          "base_uri": "https://localhost:8080/",
          "height": 263
        }
      },
      "source": [
        "vocabulary.most_common()[:15]"
      ],
      "execution_count": 0,
      "outputs": [
        {
          "output_type": "execute_result",
          "data": {
            "text/plain": [
              "[(b'<pad>', 17428),\n",
              " (b'to', 1178),\n",
              " (b'the', 823),\n",
              " (b'a', 706),\n",
              " (b'I', 679),\n",
              " (b'and', 549),\n",
              " (b'you', 504),\n",
              " (b'for', 502),\n",
              " (b'on', 501),\n",
              " (b'my', 483),\n",
              " (b'flight', 463),\n",
              " (b'is', 426),\n",
              " (b'in', 398),\n",
              " (b'of', 321),\n",
              " (b'your', 273)]"
            ]
          },
          "metadata": {
            "tags": []
          },
          "execution_count": 43
        }
      ]
    },
    {
      "cell_type": "code",
      "metadata": {
        "id": "ZSDfLluU4mmL",
        "colab_type": "code",
        "outputId": "e22d9ff7-4596-4cb2-ef1d-81bed6cead3e",
        "colab": {
          "base_uri": "https://localhost:8080/",
          "height": 32
        }
      },
      "source": [
        "len(vocabulary)"
      ],
      "execution_count": 0,
      "outputs": [
        {
          "output_type": "execute_result",
          "data": {
            "text/plain": [
              "4931"
            ]
          },
          "metadata": {
            "tags": []
          },
          "execution_count": 44
        }
      ]
    },
    {
      "cell_type": "code",
      "metadata": {
        "id": "xGxAafnqCxhF",
        "colab_type": "code",
        "colab": {}
      },
      "source": [
        "VOCABULARY_SIZE = 3000"
      ],
      "execution_count": 0,
      "outputs": []
    },
    {
      "cell_type": "code",
      "metadata": {
        "id": "SygAnSOz4zA_",
        "colab_type": "code",
        "colab": {}
      },
      "source": [
        "truncated_vocabulary = [\n",
        "    word for word, count in vocabulary.most_common()[:VOCABULARY_SIZE]\n",
        "]"
      ],
      "execution_count": 0,
      "outputs": []
    },
    {
      "cell_type": "code",
      "metadata": {
        "id": "OrvVSPRL5Ei-",
        "colab_type": "code",
        "outputId": "d9923cab-d665-4bfa-8945-ab065cf286f5",
        "colab": {
          "base_uri": "https://localhost:8080/",
          "height": 32
        }
      },
      "source": [
        "len(truncated_vocabulary)"
      ],
      "execution_count": 0,
      "outputs": [
        {
          "output_type": "execute_result",
          "data": {
            "text/plain": [
              "3000"
            ]
          },
          "metadata": {
            "tags": []
          },
          "execution_count": 79
        }
      ]
    },
    {
      "cell_type": "code",
      "metadata": {
        "id": "M070dof_5G-_",
        "colab_type": "code",
        "colab": {}
      },
      "source": [
        "word_to_id = {word: index for index, word in enumerate(truncated_vocabulary)}"
      ],
      "execution_count": 0,
      "outputs": []
    },
    {
      "cell_type": "code",
      "metadata": {
        "id": "VSDEkhHa5Kq-",
        "colab_type": "code",
        "outputId": "9a745922-7b41-4136-fb5b-15cfd2d39019",
        "colab": {
          "base_uri": "https://localhost:8080/",
          "height": 131
        }
      },
      "source": [
        "for word in b\"it is fun to travel by boat\".split():\n",
        "    print(word_to_id.get(word) or VOCABULARY_SIZE)"
      ],
      "execution_count": 0,
      "outputs": [
        {
          "output_type": "stream",
          "text": [
            "16\n",
            "11\n",
            "1211\n",
            "1\n",
            "284\n",
            "103\n",
            "3000\n"
          ],
          "name": "stdout"
        }
      ]
    },
    {
      "cell_type": "code",
      "metadata": {
        "id": "x5Yk4Okh5aHK",
        "colab_type": "code",
        "colab": {}
      },
      "source": [
        "words = tf.constant(truncated_vocabulary)"
      ],
      "execution_count": 0,
      "outputs": []
    },
    {
      "cell_type": "code",
      "metadata": {
        "id": "uupnPOBu55ZJ",
        "colab_type": "code",
        "colab": {}
      },
      "source": [
        "word_ids = tf.range(len(truncated_vocabulary), dtype=tf.int64)"
      ],
      "execution_count": 0,
      "outputs": []
    },
    {
      "cell_type": "code",
      "metadata": {
        "id": "InvT42ZI58aY",
        "colab_type": "code",
        "colab": {}
      },
      "source": [
        "vocab_init = tf.lookup.KeyValueTensorInitializer(words, word_ids)"
      ],
      "execution_count": 0,
      "outputs": []
    },
    {
      "cell_type": "code",
      "metadata": {
        "id": "jyzXJhOe5_ka",
        "colab_type": "code",
        "outputId": "7125ae8e-9daf-41c3-a684-e3f9bd6ab0e7",
        "colab": {
          "base_uri": "https://localhost:8080/",
          "height": 32
        }
      },
      "source": [
        "n_oov_buckets = VOCABULARY_SIZE // 10\n",
        "n_oov_buckets"
      ],
      "execution_count": 0,
      "outputs": [
        {
          "output_type": "execute_result",
          "data": {
            "text/plain": [
              "300"
            ]
          },
          "metadata": {
            "tags": []
          },
          "execution_count": 85
        }
      ]
    },
    {
      "cell_type": "code",
      "metadata": {
        "id": "U7Rp1iFl6KjV",
        "colab_type": "code",
        "colab": {}
      },
      "source": [
        "table = tf.lookup.StaticVocabularyTable(vocab_init, n_oov_buckets)"
      ],
      "execution_count": 0,
      "outputs": []
    },
    {
      "cell_type": "code",
      "metadata": {
        "id": "p_QlwvcB6Nc9",
        "colab_type": "code",
        "outputId": "01864574-f6fa-4b69-f903-9c68a3e4814e",
        "colab": {
          "base_uri": "https://localhost:8080/",
          "height": 32
        }
      },
      "source": [
        "table.lookup(tf.constant([b\"it is fun to travel by boat\".split()]))"
      ],
      "execution_count": 0,
      "outputs": [
        {
          "output_type": "execute_result",
          "data": {
            "text/plain": [
              "<tf.Tensor: id=89510, shape=(1, 7), dtype=int64, numpy=array([[  16,   11, 1211,    1,  284,  103, 3225]])>"
            ]
          },
          "metadata": {
            "tags": []
          },
          "execution_count": 87
        }
      ]
    },
    {
      "cell_type": "code",
      "metadata": {
        "id": "_PQefS7o6XL3",
        "colab_type": "code",
        "colab": {}
      },
      "source": [
        "def encode_words(x, y):\n",
        "    return table.lookup(x), y"
      ],
      "execution_count": 0,
      "outputs": []
    },
    {
      "cell_type": "code",
      "metadata": {
        "id": "hZ02VzNF6iGb",
        "colab_type": "code",
        "colab": {}
      },
      "source": [
        "def encode_categories(x, y):\n",
        "    return table.lookup(x), y"
      ],
      "execution_count": 0,
      "outputs": []
    },
    {
      "cell_type": "code",
      "metadata": {
        "id": "yO_Rj3WU6kKz",
        "colab_type": "code",
        "colab": {}
      },
      "source": [
        "train_dataset = (\n",
        "    data_container.train.dataset.repeat()\n",
        "    .batch(BATCH_SIZE)\n",
        "    .map(preprocess)\n",
        "    .map(encode_words)\n",
        "    .prefetch(-1)\n",
        ")"
      ],
      "execution_count": 0,
      "outputs": []
    },
    {
      "cell_type": "code",
      "metadata": {
        "id": "UAxRDDDs6r_k",
        "colab_type": "code",
        "colab": {}
      },
      "source": [
        "validation_dataset = (\n",
        "    data_container.validation.dataset.batch(BATCH_SIZE)\n",
        "    .map(preprocess)\n",
        "    .map(encode_words)\n",
        ")"
      ],
      "execution_count": 0,
      "outputs": []
    },
    {
      "cell_type": "code",
      "metadata": {
        "id": "VH7eKQol6ub8",
        "colab_type": "code",
        "outputId": "f60d7669-bde3-4ce6-da3d-ba6065571b00",
        "colab": {
          "base_uri": "https://localhost:8080/",
          "height": 115
        }
      },
      "source": [
        "for x, y in train_dataset.take(1):\n",
        "    print(x.shape)\n",
        "    print(y.shape)\n",
        "    print(x[1])\n",
        "    print(y[1])"
      ],
      "execution_count": 0,
      "outputs": [
        {
          "output_type": "stream",
          "text": [
            "(32, 27)\n",
            "(32,)\n",
            "tf.Tensor(\n",
            "[ 319   35   76    3  222   94   12 2191   27  428  196  222  161 2192\n",
            "  172  173   64   45   51   41   47 2193 2194    0    0    0    0], shape=(27,), dtype=int64)\n",
            "tf.Tensor(9, shape=(), dtype=int64)\n"
          ],
          "name": "stdout"
        }
      ]
    },
    {
      "cell_type": "code",
      "metadata": {
        "id": "ZThwUxat6zQx",
        "colab_type": "code",
        "outputId": "31160ad2-f7f3-4a0f-ba2a-52309806e60f",
        "colab": {
          "base_uri": "https://localhost:8080/",
          "height": 115
        }
      },
      "source": [
        "for x, y in validation_dataset.take(1):\n",
        "    print(x.shape)\n",
        "    print(y.shape)\n",
        "    print(x[0])\n",
        "    print(y[0])"
      ],
      "execution_count": 0,
      "outputs": [
        {
          "output_type": "stream",
          "text": [
            "(32, 27)\n",
            "(32,)\n",
            "tf.Tensor(\n",
            "[ 309 3005   55   21  100 1171   13 1011  859  243   87  119  755   48\n",
            "  279  401  109   33  205   69    0    0    0    0    0    0    0], shape=(27,), dtype=int64)\n",
            "tf.Tensor(2, shape=(), dtype=int64)\n"
          ],
          "name": "stdout"
        }
      ]
    },
    {
      "cell_type": "code",
      "metadata": {
        "id": "7KSlOZB27BiY",
        "colab_type": "code",
        "colab": {}
      },
      "source": [
        "train_dataset_steps = len(data_container.train) // BATCH_SIZE"
      ],
      "execution_count": 0,
      "outputs": []
    },
    {
      "cell_type": "code",
      "metadata": {
        "id": "QXfWhfs-7FnP",
        "colab_type": "code",
        "colab": {}
      },
      "source": [
        "validation_dataset_steps = len(data_container.validation) // BATCH_SIZE"
      ],
      "execution_count": 0,
      "outputs": []
    },
    {
      "cell_type": "markdown",
      "metadata": {
        "id": "BZeeR0cP9jz5",
        "colab_type": "text"
      },
      "source": [
        "# Create Models"
      ]
    },
    {
      "cell_type": "markdown",
      "metadata": {
        "id": "2d4N-2QS9pah",
        "colab_type": "text"
      },
      "source": [
        "## Bidirectional LSTM model"
      ]
    },
    {
      "cell_type": "code",
      "metadata": {
        "id": "_nM9K34M7HnV",
        "colab_type": "code",
        "colab": {}
      },
      "source": [
        "def make_sequential_lstm_model(\n",
        "    n_categories, embedding_size, lstm_size, lstm_dropout, dropout\n",
        "):\n",
        "    return keras.models.Sequential(\n",
        "        [\n",
        "            keras.layers.Embedding(\n",
        "                VOCABULARY_SIZE + n_oov_buckets,\n",
        "                embedding_size,\n",
        "                mask_zero=True,\n",
        "                input_shape=[None],\n",
        "            ),\n",
        "            keras.layers.Bidirectional(\n",
        "                keras.layers.LSTM(\n",
        "                    lstm_size, dropout=lstm_dropout, return_sequences=True\n",
        "                )\n",
        "            ),\n",
        "            keras.layers.Bidirectional(\n",
        "                keras.layers.LSTM(\n",
        "                    lstm_size, dropout=lstm_dropout, return_sequences=True\n",
        "                )\n",
        "            ),\n",
        "            keras.layers.GlobalMaxPool1D(),\n",
        "            keras.layers.Dropout(dropout),\n",
        "            keras.layers.Dense(n_categories, activation=keras.activations.softmax),\n",
        "        ]\n",
        "    )"
      ],
      "execution_count": 0,
      "outputs": []
    },
    {
      "cell_type": "code",
      "metadata": {
        "id": "ZMw9l0x-7OcX",
        "colab_type": "code",
        "colab": {}
      },
      "source": [
        "model = make_sequential_lstm_model(\n",
        "    n_categories=n_categories,\n",
        "    embedding_size=32,\n",
        "    lstm_size=32,\n",
        "    lstm_dropout=0.2,\n",
        "    dropout=0.5,\n",
        ")"
      ],
      "execution_count": 0,
      "outputs": []
    },
    {
      "cell_type": "code",
      "metadata": {
        "id": "eWFiiAl_7THY",
        "colab_type": "code",
        "colab": {}
      },
      "source": [
        "model.compile(\n",
        "    loss=keras.losses.sparse_categorical_crossentropy,\n",
        "    optimizer=keras.optimizers.Adam(lr=3e-4),\n",
        "    metrics=[\n",
        "        keras.metrics.sparse_categorical_accuracy,\n",
        "        sparse_top_2_categorical_accuracy,\n",
        "    ],\n",
        ")"
      ],
      "execution_count": 0,
      "outputs": []
    },
    {
      "cell_type": "code",
      "metadata": {
        "id": "mfmJF2_U7Xsd",
        "colab_type": "code",
        "outputId": "140b4635-02d7-45b4-c20b-013476580d56",
        "colab": {
          "base_uri": "https://localhost:8080/",
          "height": 415
        }
      },
      "source": [
        "history = model.fit(\n",
        "    train_dataset,\n",
        "    steps_per_epoch=train_dataset_steps,\n",
        "    validation_data=validation_dataset,\n",
        "    validation_steps=validation_dataset_steps,\n",
        "    epochs=15,\n",
        "    callbacks=[\n",
        "        keras.callbacks.ReduceLROnPlateau(patience=4, factor=0.3),\n",
        "        keras.callbacks.EarlyStopping(patience=4, restore_best_weights=True),\n",
        "    ],\n",
        "    class_weight=class_weights,\n",
        ")"
      ],
      "execution_count": 0,
      "outputs": [
        {
          "output_type": "stream",
          "text": [
            "Train for 60 steps, validate for 6 steps\n",
            "Epoch 1/15\n",
            "60/60 [==============================] - 20s 340ms/step - loss: 2.2685 - sparse_categorical_accuracy: 0.2458 - sparse_top_2_categorical_accuracy: 0.4083 - val_loss: 2.1846 - val_sparse_categorical_accuracy: 0.2604 - val_sparse_top_2_categorical_accuracy: 0.4896\n",
            "Epoch 2/15\n",
            "60/60 [==============================] - 3s 49ms/step - loss: 2.1331 - sparse_categorical_accuracy: 0.2542 - sparse_top_2_categorical_accuracy: 0.4479 - val_loss: 2.0520 - val_sparse_categorical_accuracy: 0.2604 - val_sparse_top_2_categorical_accuracy: 0.4896\n",
            "Epoch 3/15\n",
            "60/60 [==============================] - 3s 50ms/step - loss: 2.0859 - sparse_categorical_accuracy: 0.2536 - sparse_top_2_categorical_accuracy: 0.4484 - val_loss: 2.0311 - val_sparse_categorical_accuracy: 0.2604 - val_sparse_top_2_categorical_accuracy: 0.4896\n",
            "Epoch 4/15\n",
            "60/60 [==============================] - 3s 48ms/step - loss: 2.0524 - sparse_categorical_accuracy: 0.2589 - sparse_top_2_categorical_accuracy: 0.4417 - val_loss: 2.0007 - val_sparse_categorical_accuracy: 0.2604 - val_sparse_top_2_categorical_accuracy: 0.4948\n",
            "Epoch 5/15\n",
            "60/60 [==============================] - 3s 48ms/step - loss: 1.9364 - sparse_categorical_accuracy: 0.2724 - sparse_top_2_categorical_accuracy: 0.4688 - val_loss: 1.9697 - val_sparse_categorical_accuracy: 0.3125 - val_sparse_top_2_categorical_accuracy: 0.4844\n",
            "Epoch 6/15\n",
            "60/60 [==============================] - 3s 47ms/step - loss: 1.7880 - sparse_categorical_accuracy: 0.3562 - sparse_top_2_categorical_accuracy: 0.5391 - val_loss: 1.9484 - val_sparse_categorical_accuracy: 0.3333 - val_sparse_top_2_categorical_accuracy: 0.5000\n",
            "Epoch 7/15\n",
            "60/60 [==============================] - 3s 48ms/step - loss: 1.6711 - sparse_categorical_accuracy: 0.3922 - sparse_top_2_categorical_accuracy: 0.5974 - val_loss: 1.9373 - val_sparse_categorical_accuracy: 0.3906 - val_sparse_top_2_categorical_accuracy: 0.5000\n",
            "Epoch 8/15\n",
            "60/60 [==============================] - 3s 47ms/step - loss: 1.5653 - sparse_categorical_accuracy: 0.4620 - sparse_top_2_categorical_accuracy: 0.6323 - val_loss: 1.9847 - val_sparse_categorical_accuracy: 0.4010 - val_sparse_top_2_categorical_accuracy: 0.5000\n",
            "Epoch 9/15\n",
            "60/60 [==============================] - 3s 47ms/step - loss: 1.4773 - sparse_categorical_accuracy: 0.5031 - sparse_top_2_categorical_accuracy: 0.6708 - val_loss: 2.0440 - val_sparse_categorical_accuracy: 0.4115 - val_sparse_top_2_categorical_accuracy: 0.5260\n",
            "Epoch 10/15\n",
            "60/60 [==============================] - 3s 48ms/step - loss: 1.3988 - sparse_categorical_accuracy: 0.5266 - sparse_top_2_categorical_accuracy: 0.6698 - val_loss: 2.0592 - val_sparse_categorical_accuracy: 0.3958 - val_sparse_top_2_categorical_accuracy: 0.5365\n",
            "Epoch 11/15\n",
            "60/60 [==============================] - 3s 50ms/step - loss: 1.3215 - sparse_categorical_accuracy: 0.5557 - sparse_top_2_categorical_accuracy: 0.6906 - val_loss: 2.1308 - val_sparse_categorical_accuracy: 0.3438 - val_sparse_top_2_categorical_accuracy: 0.4948\n"
          ],
          "name": "stdout"
        }
      ]
    },
    {
      "cell_type": "code",
      "metadata": {
        "id": "jlIv7ueoAgdC",
        "colab_type": "code",
        "outputId": "a2dd385e-4fc3-4280-ad55-199aa93b7a0a",
        "colab": {
          "base_uri": "https://localhost:8080/",
          "height": 69
        }
      },
      "source": [
        "model.evaluate(validation_dataset, steps=validation_dataset_steps)"
      ],
      "execution_count": 0,
      "outputs": [
        {
          "output_type": "stream",
          "text": [
            "6/6 [==============================] - 0s 13ms/step - loss: 1.9373 - sparse_categorical_accuracy: 0.3906 - sparse_top_2_categorical_accuracy: 0.5000\n"
          ],
          "name": "stdout"
        },
        {
          "output_type": "execute_result",
          "data": {
            "text/plain": [
              "[1.9372918009757996, 0.390625, 0.5]"
            ]
          },
          "metadata": {
            "tags": []
          },
          "execution_count": 100
        }
      ]
    },
    {
      "cell_type": "code",
      "metadata": {
        "id": "7UESYrHNAlB7",
        "colab_type": "code",
        "outputId": "4dcd0e23-f7cc-4fb0-9ed9-7741be83fca3",
        "colab": {
          "base_uri": "https://localhost:8080/",
          "height": 349
        }
      },
      "source": [
        "print(\n",
        "    classification_report(\n",
        "        data_container.validation.y, model.predict(validation_dataset).argmax(axis=1)\n",
        "    )\n",
        ")"
      ],
      "execution_count": 0,
      "outputs": [
        {
          "output_type": "stream",
          "text": [
            "              precision    recall  f1-score   support\n",
            "\n",
            "           0       0.00      0.00      0.00        14\n",
            "           1       0.21      0.71      0.32         7\n",
            "           2       0.00      0.00      0.00        10\n",
            "           3       0.00      0.00      0.00         3\n",
            "           4       0.20      0.32      0.25        34\n",
            "           5       0.00      0.00      0.00        12\n",
            "           6       0.00      0.00      0.00        25\n",
            "           7       0.62      0.59      0.61        56\n",
            "           8       0.00      0.00      0.00         3\n",
            "           9       0.39      0.65      0.49        49\n",
            "\n",
            "    accuracy                           0.38       213\n",
            "   macro avg       0.14      0.23      0.17       213\n",
            "weighted avg       0.29      0.38      0.32       213\n",
            "\n"
          ],
          "name": "stdout"
        },
        {
          "output_type": "stream",
          "text": [
            "/usr/local/lib/python3.6/dist-packages/sklearn/metrics/classification.py:1437: UndefinedMetricWarning: Precision and F-score are ill-defined and being set to 0.0 in labels with no predicted samples.\n",
            "  'precision', 'predicted', average, warn_for)\n"
          ],
          "name": "stderr"
        }
      ]
    },
    {
      "cell_type": "markdown",
      "metadata": {
        "id": "u6QSwXiN_Eow",
        "colab_type": "text"
      },
      "source": [
        "As validation loss not improving at all, try to make architecture more simplier, and try to use smaller LR and more regularization.\n",
        "\n",
        "\n"
      ]
    },
    {
      "cell_type": "code",
      "metadata": {
        "id": "HE2TUN7VlLyh",
        "colab_type": "code",
        "colab": {}
      },
      "source": [
        "def make_sequential_lstm_model_2(\n",
        "    n_categories, embedding_size, lstm_size, lstm_dropout, dropout, l1=1e-8, l2=1e-8,\n",
        "):\n",
        "    return keras.models.Sequential(\n",
        "        [\n",
        "            keras.layers.Embedding(\n",
        "                VOCABULARY_SIZE + n_oov_buckets,\n",
        "                embedding_size,\n",
        "                mask_zero=True,\n",
        "                input_shape=[None],\n",
        "            ),\n",
        "            keras.layers.Bidirectional(\n",
        "                keras.layers.LSTM(\n",
        "                    lstm_size, dropout=lstm_dropout, return_sequences=True\n",
        "                )\n",
        "            ),\n",
        "            keras.layers.GlobalMaxPool1D(),\n",
        "            keras.layers.Dropout(dropout),\n",
        "            keras.layers.Dense(\n",
        "                n_categories, \n",
        "                activation=keras.activations.softmax,\n",
        "                kernel_regularizer=keras.regularizers.l1_l2(l1, l2)\n",
        "            ),\n",
        "        ]\n",
        "    )"
      ],
      "execution_count": 0,
      "outputs": []
    },
    {
      "cell_type": "code",
      "metadata": {
        "id": "vmZJa6Pu_NyA",
        "colab_type": "code",
        "colab": {}
      },
      "source": [
        "model_2 = make_sequential_lstm_model_2(\n",
        "    n_categories=n_categories,\n",
        "    embedding_size=64,\n",
        "    lstm_size=64,\n",
        "    lstm_dropout=0.2,\n",
        "    dropout=0.5,\n",
        "    l1=1e-8,\n",
        "    l2=1e-8,\n",
        ")"
      ],
      "execution_count": 0,
      "outputs": []
    },
    {
      "cell_type": "code",
      "metadata": {
        "id": "kiKtjhLW_3vt",
        "colab_type": "code",
        "colab": {}
      },
      "source": [
        "model_2.compile(\n",
        "    loss=keras.losses.sparse_categorical_crossentropy,\n",
        "    optimizer=keras.optimizers.Adam(lr=1e-5),\n",
        "    metrics=[\n",
        "        keras.metrics.sparse_categorical_accuracy,\n",
        "        sparse_top_2_categorical_accuracy,\n",
        "    ],\n",
        ")"
      ],
      "execution_count": 0,
      "outputs": []
    },
    {
      "cell_type": "code",
      "metadata": {
        "id": "lIzNQks9_nL3",
        "colab_type": "code",
        "outputId": "e0a1ead5-1735-4fbc-bb59-aa5dc1dd1175",
        "colab": {
          "base_uri": "https://localhost:8080/",
          "height": 711
        }
      },
      "source": [
        "history_2 = model_2.fit(\n",
        "    train_dataset,\n",
        "    steps_per_epoch=train_dataset_steps,\n",
        "    validation_data=validation_dataset,\n",
        "    validation_steps=validation_dataset_steps,\n",
        "    epochs=20,\n",
        "    callbacks=[\n",
        "        keras.callbacks.ReduceLROnPlateau(patience=4, factor=0.3),\n",
        "        keras.callbacks.EarlyStopping(patience=6, restore_best_weights=True),\n",
        "    ],\n",
        "    class_weight=class_weights,\n",
        ")"
      ],
      "execution_count": 0,
      "outputs": [
        {
          "output_type": "stream",
          "text": [
            "Train for 60 steps, validate for 6 steps\n",
            "Epoch 1/20\n",
            "60/60 [==============================] - 12s 198ms/step - loss: 2.3022 - sparse_categorical_accuracy: 0.0901 - sparse_top_2_categorical_accuracy: 0.2005 - val_loss: 2.3014 - val_sparse_categorical_accuracy: 0.0833 - val_sparse_top_2_categorical_accuracy: 0.1927\n",
            "Epoch 2/20\n",
            "60/60 [==============================] - 2s 41ms/step - loss: 2.2999 - sparse_categorical_accuracy: 0.1068 - sparse_top_2_categorical_accuracy: 0.2193 - val_loss: 2.2993 - val_sparse_categorical_accuracy: 0.1042 - val_sparse_top_2_categorical_accuracy: 0.2188\n",
            "Epoch 3/20\n",
            "60/60 [==============================] - 2s 40ms/step - loss: 2.2988 - sparse_categorical_accuracy: 0.1094 - sparse_top_2_categorical_accuracy: 0.2208 - val_loss: 2.2972 - val_sparse_categorical_accuracy: 0.1302 - val_sparse_top_2_categorical_accuracy: 0.2760\n",
            "Epoch 4/20\n",
            "60/60 [==============================] - 3s 42ms/step - loss: 2.2969 - sparse_categorical_accuracy: 0.1255 - sparse_top_2_categorical_accuracy: 0.2427 - val_loss: 2.2951 - val_sparse_categorical_accuracy: 0.1823 - val_sparse_top_2_categorical_accuracy: 0.3229\n",
            "Epoch 5/20\n",
            "60/60 [==============================] - 2s 40ms/step - loss: 2.2948 - sparse_categorical_accuracy: 0.1307 - sparse_top_2_categorical_accuracy: 0.2635 - val_loss: 2.2931 - val_sparse_categorical_accuracy: 0.2292 - val_sparse_top_2_categorical_accuracy: 0.3750\n",
            "Epoch 6/20\n",
            "60/60 [==============================] - 2s 41ms/step - loss: 2.2924 - sparse_categorical_accuracy: 0.1417 - sparse_top_2_categorical_accuracy: 0.2917 - val_loss: 2.2909 - val_sparse_categorical_accuracy: 0.2396 - val_sparse_top_2_categorical_accuracy: 0.4062\n",
            "Epoch 7/20\n",
            "60/60 [==============================] - 2s 41ms/step - loss: 2.2902 - sparse_categorical_accuracy: 0.1807 - sparse_top_2_categorical_accuracy: 0.3323 - val_loss: 2.2888 - val_sparse_categorical_accuracy: 0.2344 - val_sparse_top_2_categorical_accuracy: 0.4271\n",
            "Epoch 8/20\n",
            "60/60 [==============================] - 2s 41ms/step - loss: 2.2884 - sparse_categorical_accuracy: 0.1854 - sparse_top_2_categorical_accuracy: 0.3339 - val_loss: 2.2866 - val_sparse_categorical_accuracy: 0.2344 - val_sparse_top_2_categorical_accuracy: 0.4375\n",
            "Epoch 9/20\n",
            "60/60 [==============================] - 2s 40ms/step - loss: 2.2861 - sparse_categorical_accuracy: 0.1901 - sparse_top_2_categorical_accuracy: 0.3682 - val_loss: 2.2844 - val_sparse_categorical_accuracy: 0.2344 - val_sparse_top_2_categorical_accuracy: 0.4688\n",
            "Epoch 10/20\n",
            "60/60 [==============================] - 2s 41ms/step - loss: 2.2841 - sparse_categorical_accuracy: 0.1943 - sparse_top_2_categorical_accuracy: 0.3844 - val_loss: 2.2821 - val_sparse_categorical_accuracy: 0.2344 - val_sparse_top_2_categorical_accuracy: 0.4740\n",
            "Epoch 11/20\n",
            "60/60 [==============================] - 2s 41ms/step - loss: 2.2820 - sparse_categorical_accuracy: 0.2083 - sparse_top_2_categorical_accuracy: 0.4005 - val_loss: 2.2797 - val_sparse_categorical_accuracy: 0.2188 - val_sparse_top_2_categorical_accuracy: 0.4635\n",
            "Epoch 12/20\n",
            "60/60 [==============================] - 2s 41ms/step - loss: 2.2801 - sparse_categorical_accuracy: 0.1995 - sparse_top_2_categorical_accuracy: 0.3969 - val_loss: 2.2773 - val_sparse_categorical_accuracy: 0.2240 - val_sparse_top_2_categorical_accuracy: 0.4740\n",
            "Epoch 13/20\n",
            "60/60 [==============================] - 2s 40ms/step - loss: 2.2774 - sparse_categorical_accuracy: 0.2234 - sparse_top_2_categorical_accuracy: 0.4125 - val_loss: 2.2748 - val_sparse_categorical_accuracy: 0.2240 - val_sparse_top_2_categorical_accuracy: 0.5052\n",
            "Epoch 14/20\n",
            "60/60 [==============================] - 3s 42ms/step - loss: 2.2751 - sparse_categorical_accuracy: 0.2151 - sparse_top_2_categorical_accuracy: 0.4323 - val_loss: 2.2722 - val_sparse_categorical_accuracy: 0.2135 - val_sparse_top_2_categorical_accuracy: 0.5000\n",
            "Epoch 15/20\n",
            "60/60 [==============================] - 3s 42ms/step - loss: 2.2712 - sparse_categorical_accuracy: 0.2521 - sparse_top_2_categorical_accuracy: 0.4557 - val_loss: 2.2695 - val_sparse_categorical_accuracy: 0.2240 - val_sparse_top_2_categorical_accuracy: 0.4948\n",
            "Epoch 16/20\n",
            "60/60 [==============================] - 3s 42ms/step - loss: 2.2702 - sparse_categorical_accuracy: 0.2214 - sparse_top_2_categorical_accuracy: 0.4437 - val_loss: 2.2667 - val_sparse_categorical_accuracy: 0.2396 - val_sparse_top_2_categorical_accuracy: 0.4948\n",
            "Epoch 17/20\n",
            "60/60 [==============================] - 3s 42ms/step - loss: 2.2674 - sparse_categorical_accuracy: 0.2333 - sparse_top_2_categorical_accuracy: 0.4500 - val_loss: 2.2638 - val_sparse_categorical_accuracy: 0.2500 - val_sparse_top_2_categorical_accuracy: 0.4948\n",
            "Epoch 18/20\n",
            "60/60 [==============================] - 3s 42ms/step - loss: 2.2633 - sparse_categorical_accuracy: 0.2427 - sparse_top_2_categorical_accuracy: 0.4484 - val_loss: 2.2605 - val_sparse_categorical_accuracy: 0.2708 - val_sparse_top_2_categorical_accuracy: 0.4948\n",
            "Epoch 19/20\n",
            "60/60 [==============================] - 3s 42ms/step - loss: 2.2611 - sparse_categorical_accuracy: 0.2365 - sparse_top_2_categorical_accuracy: 0.4531 - val_loss: 2.2571 - val_sparse_categorical_accuracy: 0.2708 - val_sparse_top_2_categorical_accuracy: 0.4948\n",
            "Epoch 20/20\n",
            "60/60 [==============================] - 2s 41ms/step - loss: 2.2570 - sparse_categorical_accuracy: 0.2464 - sparse_top_2_categorical_accuracy: 0.4521 - val_loss: 2.2534 - val_sparse_categorical_accuracy: 0.2917 - val_sparse_top_2_categorical_accuracy: 0.4948\n"
          ],
          "name": "stdout"
        }
      ]
    },
    {
      "cell_type": "code",
      "metadata": {
        "id": "4CewFRYy7bWJ",
        "colab_type": "code",
        "outputId": "e5a21d6b-8842-418b-fd7e-aca51c84438c",
        "colab": {
          "base_uri": "https://localhost:8080/",
          "height": 69
        }
      },
      "source": [
        "model_2.evaluate(validation_dataset, steps=validation_dataset_steps)"
      ],
      "execution_count": 0,
      "outputs": [
        {
          "output_type": "stream",
          "text": [
            "6/6 [==============================] - 0s 11ms/step - loss: 2.2534 - sparse_categorical_accuracy: 0.2917 - sparse_top_2_categorical_accuracy: 0.4948\n"
          ],
          "name": "stdout"
        },
        {
          "output_type": "execute_result",
          "data": {
            "text/plain": [
              "[2.2533832788467407, 0.29166666, 0.49479166]"
            ]
          },
          "metadata": {
            "tags": []
          },
          "execution_count": 75
        }
      ]
    },
    {
      "cell_type": "code",
      "metadata": {
        "id": "FuTuP7-9752D",
        "colab_type": "code",
        "outputId": "2fc9ca77-c682-4659-8dba-9fbce8195bea",
        "colab": {
          "base_uri": "https://localhost:8080/",
          "height": 349
        }
      },
      "source": [
        "print(\n",
        "    classification_report(\n",
        "        data_container.validation.y, model_2.predict(validation_dataset).argmax(axis=1)\n",
        "    )\n",
        ")"
      ],
      "execution_count": 0,
      "outputs": [
        {
          "output_type": "stream",
          "text": [
            "              precision    recall  f1-score   support\n",
            "\n",
            "           0       0.00      0.00      0.00        14\n",
            "           1       0.00      0.00      0.00         7\n",
            "           2       0.00      0.00      0.00        10\n",
            "           3       0.00      0.00      0.00         3\n",
            "           4       0.00      0.00      0.00        34\n",
            "           5       0.00      0.00      0.00        12\n",
            "           6       0.00      0.00      0.00        25\n",
            "           7       0.27      0.62      0.38        56\n",
            "           8       0.00      0.00      0.00         3\n",
            "           9       0.33      0.55      0.41        49\n",
            "\n",
            "    accuracy                           0.29       213\n",
            "   macro avg       0.06      0.12      0.08       213\n",
            "weighted avg       0.15      0.29      0.19       213\n",
            "\n"
          ],
          "name": "stdout"
        },
        {
          "output_type": "stream",
          "text": [
            "/usr/local/lib/python3.6/dist-packages/sklearn/metrics/classification.py:1437: UndefinedMetricWarning: Precision and F-score are ill-defined and being set to 0.0 in labels with no predicted samples.\n",
            "  'precision', 'predicted', average, warn_for)\n"
          ],
          "name": "stderr"
        }
      ]
    },
    {
      "cell_type": "code",
      "metadata": {
        "id": "IufuW5oLx8_L",
        "colab_type": "code",
        "colab": {}
      },
      "source": [
        "model_3 = make_sequential_lstm_model_2(\n",
        "    n_categories=n_categories,\n",
        "    embedding_size=64,\n",
        "    lstm_size=64,\n",
        "    lstm_dropout=0.2,\n",
        "    dropout=0.5,\n",
        "    l1=3e-6,\n",
        "    l2=3e-4,\n",
        ")"
      ],
      "execution_count": 0,
      "outputs": []
    },
    {
      "cell_type": "code",
      "metadata": {
        "id": "lERn6h-_0V8I",
        "colab_type": "code",
        "colab": {}
      },
      "source": [
        "model_3.compile(\n",
        "    loss=keras.losses.sparse_categorical_crossentropy,\n",
        "    optimizer=keras.optimizers.Adam(lr=1e-5),\n",
        "    metrics=[\n",
        "        keras.metrics.sparse_categorical_accuracy,\n",
        "        sparse_top_2_categorical_accuracy,\n",
        "    ],\n",
        ")"
      ],
      "execution_count": 0,
      "outputs": []
    },
    {
      "cell_type": "code",
      "metadata": {
        "id": "KgJNONaB1IpL",
        "colab_type": "code",
        "outputId": "cde8f166-4da5-418b-d5e2-2b1592037804",
        "colab": {
          "base_uri": "https://localhost:8080/",
          "height": 711
        }
      },
      "source": [
        "history_3 = model_3.fit(\n",
        "    train_dataset,\n",
        "    steps_per_epoch=train_dataset_steps,\n",
        "    validation_data=validation_dataset,\n",
        "    validation_steps=validation_dataset_steps,\n",
        "    epochs=20,\n",
        "    callbacks=[\n",
        "        keras.callbacks.ReduceLROnPlateau(patience=2, factor=0.3),\n",
        "        keras.callbacks.EarlyStopping(patience=6, restore_best_weights=True),\n",
        "    ],\n",
        "    class_weight=class_weights_2,\n",
        ")"
      ],
      "execution_count": 0,
      "outputs": [
        {
          "output_type": "stream",
          "text": [
            "Train for 81 steps, validate for 10 steps\n",
            "Epoch 1/20\n",
            "81/81 [==============================] - 12s 147ms/step - loss: 1.1001 - sparse_categorical_accuracy: 0.2820 - sparse_top_2_categorical_accuracy: 0.7458 - val_loss: 1.0980 - val_sparse_categorical_accuracy: 0.2000 - val_sparse_top_2_categorical_accuracy: 0.7937\n",
            "Epoch 2/20\n",
            "81/81 [==============================] - 3s 41ms/step - loss: 1.0956 - sparse_categorical_accuracy: 0.3769 - sparse_top_2_categorical_accuracy: 0.7793 - val_loss: 1.0935 - val_sparse_categorical_accuracy: 0.5500 - val_sparse_top_2_categorical_accuracy: 0.7937\n",
            "Epoch 3/20\n",
            "81/81 [==============================] - 3s 41ms/step - loss: 1.0906 - sparse_categorical_accuracy: 0.5062 - sparse_top_2_categorical_accuracy: 0.7894 - val_loss: 1.0889 - val_sparse_categorical_accuracy: 0.6313 - val_sparse_top_2_categorical_accuracy: 0.7937\n",
            "Epoch 4/20\n",
            "81/81 [==============================] - 3s 40ms/step - loss: 1.0860 - sparse_categorical_accuracy: 0.5833 - sparse_top_2_categorical_accuracy: 0.7951 - val_loss: 1.0841 - val_sparse_categorical_accuracy: 0.6344 - val_sparse_top_2_categorical_accuracy: 0.7969\n",
            "Epoch 5/20\n",
            "81/81 [==============================] - 3s 41ms/step - loss: 1.0808 - sparse_categorical_accuracy: 0.6312 - sparse_top_2_categorical_accuracy: 0.7971 - val_loss: 1.0791 - val_sparse_categorical_accuracy: 0.6344 - val_sparse_top_2_categorical_accuracy: 0.7969\n",
            "Epoch 6/20\n",
            "81/81 [==============================] - 3s 41ms/step - loss: 1.0749 - sparse_categorical_accuracy: 0.6447 - sparse_top_2_categorical_accuracy: 0.8086 - val_loss: 1.0736 - val_sparse_categorical_accuracy: 0.6344 - val_sparse_top_2_categorical_accuracy: 0.7969\n",
            "Epoch 7/20\n",
            "81/81 [==============================] - 3s 41ms/step - loss: 1.0690 - sparse_categorical_accuracy: 0.6435 - sparse_top_2_categorical_accuracy: 0.8052 - val_loss: 1.0678 - val_sparse_categorical_accuracy: 0.6344 - val_sparse_top_2_categorical_accuracy: 0.7969\n",
            "Epoch 8/20\n",
            "81/81 [==============================] - 3s 40ms/step - loss: 1.0625 - sparse_categorical_accuracy: 0.6431 - sparse_top_2_categorical_accuracy: 0.8009 - val_loss: 1.0613 - val_sparse_categorical_accuracy: 0.6344 - val_sparse_top_2_categorical_accuracy: 0.8000\n",
            "Epoch 9/20\n",
            "81/81 [==============================] - 3s 41ms/step - loss: 1.0550 - sparse_categorical_accuracy: 0.6458 - sparse_top_2_categorical_accuracy: 0.8102 - val_loss: 1.0538 - val_sparse_categorical_accuracy: 0.6344 - val_sparse_top_2_categorical_accuracy: 0.8000\n",
            "Epoch 10/20\n",
            "81/81 [==============================] - 3s 41ms/step - loss: 1.0463 - sparse_categorical_accuracy: 0.6435 - sparse_top_2_categorical_accuracy: 0.8117 - val_loss: 1.0448 - val_sparse_categorical_accuracy: 0.6344 - val_sparse_top_2_categorical_accuracy: 0.8000\n",
            "Epoch 11/20\n",
            "81/81 [==============================] - 3s 41ms/step - loss: 1.0357 - sparse_categorical_accuracy: 0.6439 - sparse_top_2_categorical_accuracy: 0.8067 - val_loss: 1.0330 - val_sparse_categorical_accuracy: 0.6344 - val_sparse_top_2_categorical_accuracy: 0.7969\n",
            "Epoch 12/20\n",
            "81/81 [==============================] - 3s 41ms/step - loss: 1.0212 - sparse_categorical_accuracy: 0.6435 - sparse_top_2_categorical_accuracy: 0.8160 - val_loss: 1.0157 - val_sparse_categorical_accuracy: 0.6344 - val_sparse_top_2_categorical_accuracy: 0.7937\n",
            "Epoch 13/20\n",
            "81/81 [==============================] - 3s 42ms/step - loss: 0.9978 - sparse_categorical_accuracy: 0.6431 - sparse_top_2_categorical_accuracy: 0.8117 - val_loss: 0.9851 - val_sparse_categorical_accuracy: 0.6344 - val_sparse_top_2_categorical_accuracy: 0.7937\n",
            "Epoch 14/20\n",
            "81/81 [==============================] - 3s 42ms/step - loss: 0.9515 - sparse_categorical_accuracy: 0.6458 - sparse_top_2_categorical_accuracy: 0.8233 - val_loss: 0.9258 - val_sparse_categorical_accuracy: 0.6344 - val_sparse_top_2_categorical_accuracy: 0.7969\n",
            "Epoch 15/20\n",
            "81/81 [==============================] - 3s 41ms/step - loss: 0.8889 - sparse_categorical_accuracy: 0.6451 - sparse_top_2_categorical_accuracy: 0.8125 - val_loss: 0.8681 - val_sparse_categorical_accuracy: 0.6344 - val_sparse_top_2_categorical_accuracy: 0.7969\n",
            "Epoch 16/20\n",
            "81/81 [==============================] - 3s 41ms/step - loss: 0.8590 - sparse_categorical_accuracy: 0.6435 - sparse_top_2_categorical_accuracy: 0.8152 - val_loss: 0.8510 - val_sparse_categorical_accuracy: 0.6344 - val_sparse_top_2_categorical_accuracy: 0.7969\n",
            "Epoch 17/20\n",
            "81/81 [==============================] - 3s 41ms/step - loss: 0.8539 - sparse_categorical_accuracy: 0.6424 - sparse_top_2_categorical_accuracy: 0.8198 - val_loss: 0.8459 - val_sparse_categorical_accuracy: 0.6344 - val_sparse_top_2_categorical_accuracy: 0.7969\n",
            "Epoch 18/20\n",
            "81/81 [==============================] - 3s 41ms/step - loss: 0.8511 - sparse_categorical_accuracy: 0.6435 - sparse_top_2_categorical_accuracy: 0.8167 - val_loss: 0.8434 - val_sparse_categorical_accuracy: 0.6344 - val_sparse_top_2_categorical_accuracy: 0.7875\n",
            "Epoch 19/20\n",
            "81/81 [==============================] - 3s 41ms/step - loss: 0.8503 - sparse_categorical_accuracy: 0.6431 - sparse_top_2_categorical_accuracy: 0.8183 - val_loss: 0.8418 - val_sparse_categorical_accuracy: 0.6344 - val_sparse_top_2_categorical_accuracy: 0.8000\n",
            "Epoch 20/20\n",
            "81/81 [==============================] - 3s 41ms/step - loss: 0.8370 - sparse_categorical_accuracy: 0.6439 - sparse_top_2_categorical_accuracy: 0.8345 - val_loss: 0.8400 - val_sparse_categorical_accuracy: 0.6344 - val_sparse_top_2_categorical_accuracy: 0.8375\n"
          ],
          "name": "stdout"
        }
      ]
    },
    {
      "cell_type": "code",
      "metadata": {
        "id": "4QxtM5131TN4",
        "colab_type": "code",
        "outputId": "57ee1895-7d91-472b-8683-012691f9fe60",
        "colab": {
          "base_uri": "https://localhost:8080/",
          "height": 69
        }
      },
      "source": [
        "model_3.evaluate(validation_dataset, steps=validation_dataset_steps)"
      ],
      "execution_count": 0,
      "outputs": [
        {
          "output_type": "stream",
          "text": [
            "10/10 [==============================] - 0s 10ms/step - loss: 0.8400 - sparse_categorical_accuracy: 0.6344 - sparse_top_2_categorical_accuracy: 0.8375\n"
          ],
          "name": "stdout"
        },
        {
          "output_type": "execute_result",
          "data": {
            "text/plain": [
              "[0.8400044322013855, 0.634375, 0.8375]"
            ]
          },
          "metadata": {
            "tags": []
          },
          "execution_count": 89
        }
      ]
    },
    {
      "cell_type": "code",
      "metadata": {
        "id": "DxGpzQ6p2IR-",
        "colab_type": "code",
        "outputId": "cd4ba865-221f-4c11-a8b3-71e5ed633ee7",
        "colab": {
          "base_uri": "https://localhost:8080/",
          "height": 234
        }
      },
      "source": [
        "print(\n",
        "    classification_report(\n",
        "        data_container.validation.y, model_3.predict(validation_dataset).argmax(axis=1)\n",
        "    )\n",
        ")"
      ],
      "execution_count": 0,
      "outputs": [
        {
          "output_type": "stream",
          "text": [
            "              precision    recall  f1-score   support\n",
            "\n",
            "           0       0.64      1.00      0.78       209\n",
            "           1       0.00      0.00      0.00        54\n",
            "           2       0.00      0.00      0.00        65\n",
            "\n",
            "    accuracy                           0.64       328\n",
            "   macro avg       0.21      0.33      0.26       328\n",
            "weighted avg       0.41      0.64      0.50       328\n",
            "\n"
          ],
          "name": "stdout"
        },
        {
          "output_type": "stream",
          "text": [
            "/usr/local/lib/python3.6/dist-packages/sklearn/metrics/classification.py:1437: UndefinedMetricWarning: Precision and F-score are ill-defined and being set to 0.0 in labels with no predicted samples.\n",
            "  'precision', 'predicted', average, warn_for)\n"
          ],
          "name": "stderr"
        }
      ]
    },
    {
      "cell_type": "code",
      "metadata": {
        "id": "4rIkv9L12MgG",
        "colab_type": "code",
        "colab": {}
      },
      "source": [
        "class_weights_2 = {0: 1, 1: 1, 2: 0}"
      ],
      "execution_count": 0,
      "outputs": []
    },
    {
      "cell_type": "code",
      "metadata": {
        "id": "aYe9hPMX2ZyN",
        "colab_type": "code",
        "colab": {}
      },
      "source": [
        "model_3 = make_sequential_lstm_model_2(\n",
        "    n_categories=n_categories,\n",
        "    embedding_size=256,\n",
        "    lstm_size=256,\n",
        "    lstm_dropout=0.2,\n",
        "    dropout=0.5,\n",
        "    l1=3e-6,\n",
        "    l2=3e-4,\n",
        ")"
      ],
      "execution_count": 0,
      "outputs": []
    },
    {
      "cell_type": "code",
      "metadata": {
        "id": "hpZpJiSD2dFd",
        "colab_type": "code",
        "colab": {}
      },
      "source": [
        "model_3.compile(\n",
        "    loss=keras.losses.sparse_categorical_crossentropy,\n",
        "    optimizer=keras.optimizers.Adam(lr=3e-5),\n",
        "    metrics=[\n",
        "        keras.metrics.sparse_categorical_accuracy,\n",
        "        sparse_top_2_categorical_accuracy,\n",
        "    ],\n",
        ")"
      ],
      "execution_count": 0,
      "outputs": []
    },
    {
      "cell_type": "code",
      "metadata": {
        "id": "AXbrTSd_AmGY",
        "colab_type": "code",
        "outputId": "a3339e0e-1c03-4031-968b-0d7576c661a2",
        "colab": {
          "base_uri": "https://localhost:8080/",
          "height": 32
        }
      },
      "source": [
        "class_weights_2"
      ],
      "execution_count": 0,
      "outputs": [
        {
          "output_type": "execute_result",
          "data": {
            "text/plain": [
              "{0: 1, 1: 1, 2: 0}"
            ]
          },
          "metadata": {
            "tags": []
          },
          "execution_count": 106
        }
      ]
    },
    {
      "cell_type": "code",
      "metadata": {
        "id": "rncVJwVt2ish",
        "colab_type": "code",
        "outputId": "410ecef8-136c-4de2-d2a9-d985ebd77d7f",
        "colab": {
          "base_uri": "https://localhost:8080/",
          "height": 598
        }
      },
      "source": [
        "history_3 = model_3.fit(\n",
        "    train_dataset,\n",
        "    steps_per_epoch=train_dataset_steps,\n",
        "    validation_data=validation_dataset,\n",
        "    validation_steps=validation_dataset_steps,\n",
        "    epochs=20,\n",
        "    callbacks=[\n",
        "        keras.callbacks.ReduceLROnPlateau(patience=2, factor=0.3),\n",
        "        keras.callbacks.EarlyStopping(patience=6, restore_best_weights=True),\n",
        "    ],\n",
        "    # class_weight=class_weights_2,\n",
        "    class_weight=[1, 1, 0],\n",
        ")"
      ],
      "execution_count": 0,
      "outputs": [
        {
          "output_type": "stream",
          "text": [
            "Train for 81 steps, validate for 10 steps\n",
            "Epoch 1/20\n",
            "81/81 [==============================] - 40s 495ms/step - loss: 1.0766 - sparse_categorical_accuracy: 0.6061 - sparse_top_2_categorical_accuracy: 0.8148 - val_loss: 1.0495 - val_sparse_categorical_accuracy: 0.6875 - val_sparse_top_2_categorical_accuracy: 0.8687\n",
            "Epoch 2/20\n",
            "81/81 [==============================] - 29s 364ms/step - loss: 1.0105 - sparse_categorical_accuracy: 0.6373 - sparse_top_2_categorical_accuracy: 0.8507 - val_loss: 0.8577 - val_sparse_categorical_accuracy: 0.6875 - val_sparse_top_2_categorical_accuracy: 0.8656\n",
            "Epoch 3/20\n",
            "81/81 [==============================] - 29s 359ms/step - loss: 0.8473 - sparse_categorical_accuracy: 0.6385 - sparse_top_2_categorical_accuracy: 0.8468 - val_loss: 0.7553 - val_sparse_categorical_accuracy: 0.6875 - val_sparse_top_2_categorical_accuracy: 0.8656\n",
            "Epoch 4/20\n",
            "81/81 [==============================] - 29s 355ms/step - loss: 0.8265 - sparse_categorical_accuracy: 0.6377 - sparse_top_2_categorical_accuracy: 0.8476 - val_loss: 0.7450 - val_sparse_categorical_accuracy: 0.6875 - val_sparse_top_2_categorical_accuracy: 0.8656\n",
            "Epoch 5/20\n",
            "81/81 [==============================] - 29s 353ms/step - loss: 0.8086 - sparse_categorical_accuracy: 0.6381 - sparse_top_2_categorical_accuracy: 0.8472 - val_loss: 0.7349 - val_sparse_categorical_accuracy: 0.6875 - val_sparse_top_2_categorical_accuracy: 0.8656\n",
            "Epoch 6/20\n",
            " 3/81 [>.............................] - ETA: 27s - loss: 0.8363 - sparse_categorical_accuracy: 0.5938 - sparse_top_2_categorical_accuracy: 0.8594WARNING:tensorflow:Reduce LR on plateau conditioned on metric `val_loss` which is not available. Available metrics are: loss,sparse_categorical_accuracy,sparse_top_2_categorical_accuracy,lr\n",
            "WARNING:tensorflow:Early stopping conditioned on metric `val_loss` which is not available. Available metrics are: loss,sparse_categorical_accuracy,sparse_top_2_categorical_accuracy,lr\n"
          ],
          "name": "stdout"
        },
        {
          "output_type": "error",
          "ename": "KeyboardInterrupt",
          "evalue": "ignored",
          "traceback": [
            "\u001b[0;31m---------------------------------------------------------------------------\u001b[0m",
            "\u001b[0;31mKeyboardInterrupt\u001b[0m                         Traceback (most recent call last)",
            "\u001b[0;32m<ipython-input-107-f3536347954a>\u001b[0m in \u001b[0;36m<module>\u001b[0;34m()\u001b[0m\n\u001b[1;32m     10\u001b[0m     ],\n\u001b[1;32m     11\u001b[0m     \u001b[0;31m# class_weight=class_weights_2,\u001b[0m\u001b[0;34m\u001b[0m\u001b[0;34m\u001b[0m\u001b[0;34m\u001b[0m\u001b[0m\n\u001b[0;32m---> 12\u001b[0;31m     \u001b[0mclass_weight\u001b[0m\u001b[0;34m=\u001b[0m\u001b[0;34m[\u001b[0m\u001b[0;36m1\u001b[0m\u001b[0;34m,\u001b[0m \u001b[0;36m1\u001b[0m\u001b[0;34m,\u001b[0m \u001b[0;36m0\u001b[0m\u001b[0;34m]\u001b[0m\u001b[0;34m,\u001b[0m\u001b[0;34m\u001b[0m\u001b[0;34m\u001b[0m\u001b[0m\n\u001b[0m\u001b[1;32m     13\u001b[0m )\n",
            "\u001b[0;32m/usr/local/lib/python3.6/dist-packages/tensorflow_core/python/keras/engine/training.py\u001b[0m in \u001b[0;36mfit\u001b[0;34m(self, x, y, batch_size, epochs, verbose, callbacks, validation_split, validation_data, shuffle, class_weight, sample_weight, initial_epoch, steps_per_epoch, validation_steps, validation_freq, max_queue_size, workers, use_multiprocessing, **kwargs)\u001b[0m\n\u001b[1;32m    726\u001b[0m         \u001b[0mmax_queue_size\u001b[0m\u001b[0;34m=\u001b[0m\u001b[0mmax_queue_size\u001b[0m\u001b[0;34m,\u001b[0m\u001b[0;34m\u001b[0m\u001b[0;34m\u001b[0m\u001b[0m\n\u001b[1;32m    727\u001b[0m         \u001b[0mworkers\u001b[0m\u001b[0;34m=\u001b[0m\u001b[0mworkers\u001b[0m\u001b[0;34m,\u001b[0m\u001b[0;34m\u001b[0m\u001b[0;34m\u001b[0m\u001b[0m\n\u001b[0;32m--> 728\u001b[0;31m         use_multiprocessing=use_multiprocessing)\n\u001b[0m\u001b[1;32m    729\u001b[0m \u001b[0;34m\u001b[0m\u001b[0m\n\u001b[1;32m    730\u001b[0m   def evaluate(self,\n",
            "\u001b[0;32m/usr/local/lib/python3.6/dist-packages/tensorflow_core/python/keras/engine/training_v2.py\u001b[0m in \u001b[0;36mfit\u001b[0;34m(self, model, x, y, batch_size, epochs, verbose, callbacks, validation_split, validation_data, shuffle, class_weight, sample_weight, initial_epoch, steps_per_epoch, validation_steps, validation_freq, **kwargs)\u001b[0m\n\u001b[1;32m    322\u001b[0m                 \u001b[0mmode\u001b[0m\u001b[0;34m=\u001b[0m\u001b[0mModeKeys\u001b[0m\u001b[0;34m.\u001b[0m\u001b[0mTRAIN\u001b[0m\u001b[0;34m,\u001b[0m\u001b[0;34m\u001b[0m\u001b[0;34m\u001b[0m\u001b[0m\n\u001b[1;32m    323\u001b[0m                 \u001b[0mtraining_context\u001b[0m\u001b[0;34m=\u001b[0m\u001b[0mtraining_context\u001b[0m\u001b[0;34m,\u001b[0m\u001b[0;34m\u001b[0m\u001b[0;34m\u001b[0m\u001b[0m\n\u001b[0;32m--> 324\u001b[0;31m                 total_epochs=epochs)\n\u001b[0m\u001b[1;32m    325\u001b[0m             \u001b[0mcbks\u001b[0m\u001b[0;34m.\u001b[0m\u001b[0mmake_logs\u001b[0m\u001b[0;34m(\u001b[0m\u001b[0mmodel\u001b[0m\u001b[0;34m,\u001b[0m \u001b[0mepoch_logs\u001b[0m\u001b[0;34m,\u001b[0m \u001b[0mtraining_result\u001b[0m\u001b[0;34m,\u001b[0m \u001b[0mModeKeys\u001b[0m\u001b[0;34m.\u001b[0m\u001b[0mTRAIN\u001b[0m\u001b[0;34m)\u001b[0m\u001b[0;34m\u001b[0m\u001b[0;34m\u001b[0m\u001b[0m\n\u001b[1;32m    326\u001b[0m \u001b[0;34m\u001b[0m\u001b[0m\n",
            "\u001b[0;32m/usr/local/lib/python3.6/dist-packages/tensorflow_core/python/keras/engine/training_v2.py\u001b[0m in \u001b[0;36mrun_one_epoch\u001b[0;34m(model, iterator, execution_function, dataset_size, batch_size, strategy, steps_per_epoch, num_samples, mode, training_context, total_epochs)\u001b[0m\n\u001b[1;32m    121\u001b[0m         step=step, mode=mode, size=current_batch_size) as batch_logs:\n\u001b[1;32m    122\u001b[0m       \u001b[0;32mtry\u001b[0m\u001b[0;34m:\u001b[0m\u001b[0;34m\u001b[0m\u001b[0;34m\u001b[0m\u001b[0m\n\u001b[0;32m--> 123\u001b[0;31m         \u001b[0mbatch_outs\u001b[0m \u001b[0;34m=\u001b[0m \u001b[0mexecution_function\u001b[0m\u001b[0;34m(\u001b[0m\u001b[0miterator\u001b[0m\u001b[0;34m)\u001b[0m\u001b[0;34m\u001b[0m\u001b[0;34m\u001b[0m\u001b[0m\n\u001b[0m\u001b[1;32m    124\u001b[0m       \u001b[0;32mexcept\u001b[0m \u001b[0;34m(\u001b[0m\u001b[0mStopIteration\u001b[0m\u001b[0;34m,\u001b[0m \u001b[0merrors\u001b[0m\u001b[0;34m.\u001b[0m\u001b[0mOutOfRangeError\u001b[0m\u001b[0;34m)\u001b[0m\u001b[0;34m:\u001b[0m\u001b[0;34m\u001b[0m\u001b[0;34m\u001b[0m\u001b[0m\n\u001b[1;32m    125\u001b[0m         \u001b[0;31m# TODO(kaftan): File bug about tf function and errors.OutOfRangeError?\u001b[0m\u001b[0;34m\u001b[0m\u001b[0;34m\u001b[0m\u001b[0;34m\u001b[0m\u001b[0m\n",
            "\u001b[0;32m/usr/local/lib/python3.6/dist-packages/tensorflow_core/python/keras/engine/training_v2_utils.py\u001b[0m in \u001b[0;36mexecution_function\u001b[0;34m(input_fn)\u001b[0m\n\u001b[1;32m     84\u001b[0m     \u001b[0;31m# `numpy` translates Tensors to values in Eager mode.\u001b[0m\u001b[0;34m\u001b[0m\u001b[0;34m\u001b[0m\u001b[0;34m\u001b[0m\u001b[0m\n\u001b[1;32m     85\u001b[0m     return nest.map_structure(_non_none_constant_value,\n\u001b[0;32m---> 86\u001b[0;31m                               distributed_function(input_fn))\n\u001b[0m\u001b[1;32m     87\u001b[0m \u001b[0;34m\u001b[0m\u001b[0m\n\u001b[1;32m     88\u001b[0m   \u001b[0;32mreturn\u001b[0m \u001b[0mexecution_function\u001b[0m\u001b[0;34m\u001b[0m\u001b[0;34m\u001b[0m\u001b[0m\n",
            "\u001b[0;32m/usr/local/lib/python3.6/dist-packages/tensorflow_core/python/eager/def_function.py\u001b[0m in \u001b[0;36m__call__\u001b[0;34m(self, *args, **kwds)\u001b[0m\n\u001b[1;32m    455\u001b[0m \u001b[0;34m\u001b[0m\u001b[0m\n\u001b[1;32m    456\u001b[0m     \u001b[0mtracing_count\u001b[0m \u001b[0;34m=\u001b[0m \u001b[0mself\u001b[0m\u001b[0;34m.\u001b[0m\u001b[0m_get_tracing_count\u001b[0m\u001b[0;34m(\u001b[0m\u001b[0;34m)\u001b[0m\u001b[0;34m\u001b[0m\u001b[0;34m\u001b[0m\u001b[0m\n\u001b[0;32m--> 457\u001b[0;31m     \u001b[0mresult\u001b[0m \u001b[0;34m=\u001b[0m \u001b[0mself\u001b[0m\u001b[0;34m.\u001b[0m\u001b[0m_call\u001b[0m\u001b[0;34m(\u001b[0m\u001b[0;34m*\u001b[0m\u001b[0margs\u001b[0m\u001b[0;34m,\u001b[0m \u001b[0;34m**\u001b[0m\u001b[0mkwds\u001b[0m\u001b[0;34m)\u001b[0m\u001b[0;34m\u001b[0m\u001b[0;34m\u001b[0m\u001b[0m\n\u001b[0m\u001b[1;32m    458\u001b[0m     \u001b[0;32mif\u001b[0m \u001b[0mtracing_count\u001b[0m \u001b[0;34m==\u001b[0m \u001b[0mself\u001b[0m\u001b[0;34m.\u001b[0m\u001b[0m_get_tracing_count\u001b[0m\u001b[0;34m(\u001b[0m\u001b[0;34m)\u001b[0m\u001b[0;34m:\u001b[0m\u001b[0;34m\u001b[0m\u001b[0;34m\u001b[0m\u001b[0m\n\u001b[1;32m    459\u001b[0m       \u001b[0mself\u001b[0m\u001b[0;34m.\u001b[0m\u001b[0m_call_counter\u001b[0m\u001b[0;34m.\u001b[0m\u001b[0mcalled_without_tracing\u001b[0m\u001b[0;34m(\u001b[0m\u001b[0;34m)\u001b[0m\u001b[0;34m\u001b[0m\u001b[0;34m\u001b[0m\u001b[0m\n",
            "\u001b[0;32m/usr/local/lib/python3.6/dist-packages/tensorflow_core/python/eager/def_function.py\u001b[0m in \u001b[0;36m_call\u001b[0;34m(self, *args, **kwds)\u001b[0m\n\u001b[1;32m    485\u001b[0m       \u001b[0;31m# In this case we have created variables on the first call, so we run the\u001b[0m\u001b[0;34m\u001b[0m\u001b[0;34m\u001b[0m\u001b[0;34m\u001b[0m\u001b[0m\n\u001b[1;32m    486\u001b[0m       \u001b[0;31m# defunned version which is guaranteed to never create variables.\u001b[0m\u001b[0;34m\u001b[0m\u001b[0;34m\u001b[0m\u001b[0;34m\u001b[0m\u001b[0m\n\u001b[0;32m--> 487\u001b[0;31m       \u001b[0;32mreturn\u001b[0m \u001b[0mself\u001b[0m\u001b[0;34m.\u001b[0m\u001b[0m_stateless_fn\u001b[0m\u001b[0;34m(\u001b[0m\u001b[0;34m*\u001b[0m\u001b[0margs\u001b[0m\u001b[0;34m,\u001b[0m \u001b[0;34m**\u001b[0m\u001b[0mkwds\u001b[0m\u001b[0;34m)\u001b[0m  \u001b[0;31m# pylint: disable=not-callable\u001b[0m\u001b[0;34m\u001b[0m\u001b[0;34m\u001b[0m\u001b[0m\n\u001b[0m\u001b[1;32m    488\u001b[0m     \u001b[0;32melif\u001b[0m \u001b[0mself\u001b[0m\u001b[0;34m.\u001b[0m\u001b[0m_stateful_fn\u001b[0m \u001b[0;32mis\u001b[0m \u001b[0;32mnot\u001b[0m \u001b[0;32mNone\u001b[0m\u001b[0;34m:\u001b[0m\u001b[0;34m\u001b[0m\u001b[0;34m\u001b[0m\u001b[0m\n\u001b[1;32m    489\u001b[0m       \u001b[0;31m# Release the lock early so that multiple threads can perform the call\u001b[0m\u001b[0;34m\u001b[0m\u001b[0;34m\u001b[0m\u001b[0;34m\u001b[0m\u001b[0m\n",
            "\u001b[0;32m/usr/local/lib/python3.6/dist-packages/tensorflow_core/python/eager/function.py\u001b[0m in \u001b[0;36m__call__\u001b[0;34m(self, *args, **kwargs)\u001b[0m\n\u001b[1;32m   1821\u001b[0m     \u001b[0;34m\"\"\"Calls a graph function specialized to the inputs.\"\"\"\u001b[0m\u001b[0;34m\u001b[0m\u001b[0;34m\u001b[0m\u001b[0m\n\u001b[1;32m   1822\u001b[0m     \u001b[0mgraph_function\u001b[0m\u001b[0;34m,\u001b[0m \u001b[0margs\u001b[0m\u001b[0;34m,\u001b[0m \u001b[0mkwargs\u001b[0m \u001b[0;34m=\u001b[0m \u001b[0mself\u001b[0m\u001b[0;34m.\u001b[0m\u001b[0m_maybe_define_function\u001b[0m\u001b[0;34m(\u001b[0m\u001b[0margs\u001b[0m\u001b[0;34m,\u001b[0m \u001b[0mkwargs\u001b[0m\u001b[0;34m)\u001b[0m\u001b[0;34m\u001b[0m\u001b[0;34m\u001b[0m\u001b[0m\n\u001b[0;32m-> 1823\u001b[0;31m     \u001b[0;32mreturn\u001b[0m \u001b[0mgraph_function\u001b[0m\u001b[0;34m.\u001b[0m\u001b[0m_filtered_call\u001b[0m\u001b[0;34m(\u001b[0m\u001b[0margs\u001b[0m\u001b[0;34m,\u001b[0m \u001b[0mkwargs\u001b[0m\u001b[0;34m)\u001b[0m  \u001b[0;31m# pylint: disable=protected-access\u001b[0m\u001b[0;34m\u001b[0m\u001b[0;34m\u001b[0m\u001b[0m\n\u001b[0m\u001b[1;32m   1824\u001b[0m \u001b[0;34m\u001b[0m\u001b[0m\n\u001b[1;32m   1825\u001b[0m   \u001b[0;34m@\u001b[0m\u001b[0mproperty\u001b[0m\u001b[0;34m\u001b[0m\u001b[0;34m\u001b[0m\u001b[0m\n",
            "\u001b[0;32m/usr/local/lib/python3.6/dist-packages/tensorflow_core/python/eager/function.py\u001b[0m in \u001b[0;36m_filtered_call\u001b[0;34m(self, args, kwargs)\u001b[0m\n\u001b[1;32m   1139\u001b[0m          if isinstance(t, (ops.Tensor,\n\u001b[1;32m   1140\u001b[0m                            resource_variable_ops.BaseResourceVariable))),\n\u001b[0;32m-> 1141\u001b[0;31m         self.captured_inputs)\n\u001b[0m\u001b[1;32m   1142\u001b[0m \u001b[0;34m\u001b[0m\u001b[0m\n\u001b[1;32m   1143\u001b[0m   \u001b[0;32mdef\u001b[0m \u001b[0m_call_flat\u001b[0m\u001b[0;34m(\u001b[0m\u001b[0mself\u001b[0m\u001b[0;34m,\u001b[0m \u001b[0margs\u001b[0m\u001b[0;34m,\u001b[0m \u001b[0mcaptured_inputs\u001b[0m\u001b[0;34m,\u001b[0m \u001b[0mcancellation_manager\u001b[0m\u001b[0;34m=\u001b[0m\u001b[0;32mNone\u001b[0m\u001b[0;34m)\u001b[0m\u001b[0;34m:\u001b[0m\u001b[0;34m\u001b[0m\u001b[0;34m\u001b[0m\u001b[0m\n",
            "\u001b[0;32m/usr/local/lib/python3.6/dist-packages/tensorflow_core/python/eager/function.py\u001b[0m in \u001b[0;36m_call_flat\u001b[0;34m(self, args, captured_inputs, cancellation_manager)\u001b[0m\n\u001b[1;32m   1222\u001b[0m     \u001b[0;32mif\u001b[0m \u001b[0mexecuting_eagerly\u001b[0m\u001b[0;34m:\u001b[0m\u001b[0;34m\u001b[0m\u001b[0;34m\u001b[0m\u001b[0m\n\u001b[1;32m   1223\u001b[0m       flat_outputs = forward_function.call(\n\u001b[0;32m-> 1224\u001b[0;31m           ctx, args, cancellation_manager=cancellation_manager)\n\u001b[0m\u001b[1;32m   1225\u001b[0m     \u001b[0;32melse\u001b[0m\u001b[0;34m:\u001b[0m\u001b[0;34m\u001b[0m\u001b[0;34m\u001b[0m\u001b[0m\n\u001b[1;32m   1226\u001b[0m       \u001b[0mgradient_name\u001b[0m \u001b[0;34m=\u001b[0m \u001b[0mself\u001b[0m\u001b[0;34m.\u001b[0m\u001b[0m_delayed_rewrite_functions\u001b[0m\u001b[0;34m.\u001b[0m\u001b[0mregister\u001b[0m\u001b[0;34m(\u001b[0m\u001b[0;34m)\u001b[0m\u001b[0;34m\u001b[0m\u001b[0;34m\u001b[0m\u001b[0m\n",
            "\u001b[0;32m/usr/local/lib/python3.6/dist-packages/tensorflow_core/python/eager/function.py\u001b[0m in \u001b[0;36mcall\u001b[0;34m(self, ctx, args, cancellation_manager)\u001b[0m\n\u001b[1;32m    509\u001b[0m               \u001b[0minputs\u001b[0m\u001b[0;34m=\u001b[0m\u001b[0margs\u001b[0m\u001b[0;34m,\u001b[0m\u001b[0;34m\u001b[0m\u001b[0;34m\u001b[0m\u001b[0m\n\u001b[1;32m    510\u001b[0m               \u001b[0mattrs\u001b[0m\u001b[0;34m=\u001b[0m\u001b[0;34m(\u001b[0m\u001b[0;34m\"executor_type\"\u001b[0m\u001b[0;34m,\u001b[0m \u001b[0mexecutor_type\u001b[0m\u001b[0;34m,\u001b[0m \u001b[0;34m\"config_proto\"\u001b[0m\u001b[0;34m,\u001b[0m \u001b[0mconfig\u001b[0m\u001b[0;34m)\u001b[0m\u001b[0;34m,\u001b[0m\u001b[0;34m\u001b[0m\u001b[0;34m\u001b[0m\u001b[0m\n\u001b[0;32m--> 511\u001b[0;31m               ctx=ctx)\n\u001b[0m\u001b[1;32m    512\u001b[0m         \u001b[0;32melse\u001b[0m\u001b[0;34m:\u001b[0m\u001b[0;34m\u001b[0m\u001b[0;34m\u001b[0m\u001b[0m\n\u001b[1;32m    513\u001b[0m           outputs = execute.execute_with_cancellation(\n",
            "\u001b[0;32m/usr/local/lib/python3.6/dist-packages/tensorflow_core/python/eager/execute.py\u001b[0m in \u001b[0;36mquick_execute\u001b[0;34m(op_name, num_outputs, inputs, attrs, ctx, name)\u001b[0m\n\u001b[1;32m     59\u001b[0m     tensors = pywrap_tensorflow.TFE_Py_Execute(ctx._handle, device_name,\n\u001b[1;32m     60\u001b[0m                                                \u001b[0mop_name\u001b[0m\u001b[0;34m,\u001b[0m \u001b[0minputs\u001b[0m\u001b[0;34m,\u001b[0m \u001b[0mattrs\u001b[0m\u001b[0;34m,\u001b[0m\u001b[0;34m\u001b[0m\u001b[0;34m\u001b[0m\u001b[0m\n\u001b[0;32m---> 61\u001b[0;31m                                                num_outputs)\n\u001b[0m\u001b[1;32m     62\u001b[0m   \u001b[0;32mexcept\u001b[0m \u001b[0mcore\u001b[0m\u001b[0;34m.\u001b[0m\u001b[0m_NotOkStatusException\u001b[0m \u001b[0;32mas\u001b[0m \u001b[0me\u001b[0m\u001b[0;34m:\u001b[0m\u001b[0;34m\u001b[0m\u001b[0;34m\u001b[0m\u001b[0m\n\u001b[1;32m     63\u001b[0m     \u001b[0;32mif\u001b[0m \u001b[0mname\u001b[0m \u001b[0;32mis\u001b[0m \u001b[0;32mnot\u001b[0m \u001b[0;32mNone\u001b[0m\u001b[0;34m:\u001b[0m\u001b[0;34m\u001b[0m\u001b[0;34m\u001b[0m\u001b[0m\n",
            "\u001b[0;31mKeyboardInterrupt\u001b[0m: "
          ]
        }
      ]
    },
    {
      "cell_type": "code",
      "metadata": {
        "id": "XcMbeD382maK",
        "colab_type": "code",
        "outputId": "813e7b56-9b16-49ed-d68d-1301d7b69e5f",
        "colab": {
          "base_uri": "https://localhost:8080/",
          "height": 69
        }
      },
      "source": [
        "model_3.evaluate(validation_dataset, steps=validation_dataset_steps)"
      ],
      "execution_count": 0,
      "outputs": [
        {
          "output_type": "stream",
          "text": [
            "10/10 [==============================] - 1s 93ms/step - loss: 0.7354 - sparse_categorical_accuracy: 0.6875 - sparse_top_2_categorical_accuracy: 0.8656\n"
          ],
          "name": "stdout"
        },
        {
          "output_type": "execute_result",
          "data": {
            "text/plain": [
              "[0.7354410052299499, 0.6875, 0.865625]"
            ]
          },
          "metadata": {
            "tags": []
          },
          "execution_count": 108
        }
      ]
    },
    {
      "cell_type": "code",
      "metadata": {
        "id": "8d__gb1v3AYQ",
        "colab_type": "code",
        "outputId": "45e1fbf5-1ba5-4871-9587-3338a80dc62f",
        "colab": {
          "base_uri": "https://localhost:8080/",
          "height": 234
        }
      },
      "source": [
        "print(\n",
        "    classification_report(\n",
        "        data_container.validation.y, model_3.predict(validation_dataset).argmax(axis=1)\n",
        "    )\n",
        ")"
      ],
      "execution_count": 0,
      "outputs": [
        {
          "output_type": "stream",
          "text": [
            "              precision    recall  f1-score   support\n",
            "\n",
            "           0       0.00      0.00      0.00        60\n",
            "           1       0.00      0.00      0.00        45\n",
            "           2       0.68      1.00      0.81       223\n",
            "\n",
            "    accuracy                           0.68       328\n",
            "   macro avg       0.23      0.33      0.27       328\n",
            "weighted avg       0.46      0.68      0.55       328\n",
            "\n"
          ],
          "name": "stdout"
        },
        {
          "output_type": "stream",
          "text": [
            "/usr/local/lib/python3.6/dist-packages/sklearn/metrics/classification.py:1437: UndefinedMetricWarning: Precision and F-score are ill-defined and being set to 0.0 in labels with no predicted samples.\n",
            "  'precision', 'predicted', average, warn_for)\n"
          ],
          "name": "stderr"
        }
      ]
    },
    {
      "cell_type": "markdown",
      "metadata": {
        "id": "hsDPMo79xvQG",
        "colab_type": "text"
      },
      "source": [
        "Try to run model without class weights"
      ]
    },
    {
      "cell_type": "code",
      "metadata": {
        "id": "VzvkMjjb3DwR",
        "colab_type": "code",
        "colab": {}
      },
      "source": [
        "model_4 = make_sequential_lstm_model_2(\n",
        "    n_categories=n_categories,\n",
        "    embedding_size=256,\n",
        "    lstm_size=256,\n",
        "    lstm_dropout=0.2,\n",
        "    dropout=0.3,\n",
        "    l1=1e-8,\n",
        "    l2=1e-8,\n",
        ")"
      ],
      "execution_count": 0,
      "outputs": []
    },
    {
      "cell_type": "code",
      "metadata": {
        "id": "Z-sMhq9zyB-l",
        "colab_type": "code",
        "colab": {}
      },
      "source": [
        "model_4.compile(\n",
        "    loss=keras.losses.sparse_categorical_crossentropy,\n",
        "    optimizer=keras.optimizers.Adam(lr=3e-5),\n",
        "    metrics=[\n",
        "        keras.metrics.sparse_categorical_accuracy,\n",
        "        sparse_top_2_categorical_accuracy,\n",
        "    ],\n",
        ")"
      ],
      "execution_count": 0,
      "outputs": []
    },
    {
      "cell_type": "code",
      "metadata": {
        "id": "y86Z-9gFyLTs",
        "colab_type": "code",
        "outputId": "ed0dbe33-48ec-401d-f411-b3f7b79aab2c",
        "colab": {
          "base_uri": "https://localhost:8080/",
          "height": 382
        }
      },
      "source": [
        "history_4 = model_4.fit(\n",
        "    train_dataset,\n",
        "    steps_per_epoch=train_dataset_steps,\n",
        "    validation_data=validation_dataset,\n",
        "    validation_steps=validation_dataset_steps,\n",
        "    epochs=10,\n",
        "    callbacks=[\n",
        "        keras.callbacks.ReduceLROnPlateau(patience=2, factor=0.3),\n",
        "        keras.callbacks.EarlyStopping(patience=6, restore_best_weights=True),\n",
        "    ],\n",
        ")"
      ],
      "execution_count": 0,
      "outputs": [
        {
          "output_type": "stream",
          "text": [
            "Train for 81 steps, validate for 10 steps\n",
            "Epoch 1/10\n",
            "81/81 [==============================] - 33s 409ms/step - loss: 1.0707 - sparse_categorical_accuracy: 0.6323 - sparse_top_2_categorical_accuracy: 0.8407 - val_loss: 1.0498 - val_sparse_categorical_accuracy: 0.6344 - val_sparse_top_2_categorical_accuracy: 0.8375\n",
            "Epoch 2/10\n",
            "81/81 [==============================] - 25s 303ms/step - loss: 0.9845 - sparse_categorical_accuracy: 0.6443 - sparse_top_2_categorical_accuracy: 0.8430 - val_loss: 0.8430 - val_sparse_categorical_accuracy: 0.6344 - val_sparse_top_2_categorical_accuracy: 0.8344\n",
            "Epoch 3/10\n",
            "81/81 [==============================] - 24s 299ms/step - loss: 0.8311 - sparse_categorical_accuracy: 0.6439 - sparse_top_2_categorical_accuracy: 0.8515 - val_loss: 0.8260 - val_sparse_categorical_accuracy: 0.6344 - val_sparse_top_2_categorical_accuracy: 0.8375\n",
            "Epoch 4/10\n",
            "81/81 [==============================] - 24s 298ms/step - loss: 0.8102 - sparse_categorical_accuracy: 0.6451 - sparse_top_2_categorical_accuracy: 0.8503 - val_loss: 0.8168 - val_sparse_categorical_accuracy: 0.6344 - val_sparse_top_2_categorical_accuracy: 0.8375\n",
            "Epoch 5/10\n",
            "81/81 [==============================] - 25s 303ms/step - loss: 0.7916 - sparse_categorical_accuracy: 0.6431 - sparse_top_2_categorical_accuracy: 0.8507 - val_loss: 0.8068 - val_sparse_categorical_accuracy: 0.6344 - val_sparse_top_2_categorical_accuracy: 0.8406\n",
            "Epoch 6/10\n",
            "81/81 [==============================] - 24s 300ms/step - loss: 0.7644 - sparse_categorical_accuracy: 0.6458 - sparse_top_2_categorical_accuracy: 0.8530 - val_loss: 0.7953 - val_sparse_categorical_accuracy: 0.6344 - val_sparse_top_2_categorical_accuracy: 0.8438\n",
            "Epoch 7/10\n",
            "81/81 [==============================] - 24s 300ms/step - loss: 0.7288 - sparse_categorical_accuracy: 0.6497 - sparse_top_2_categorical_accuracy: 0.8542 - val_loss: 0.7875 - val_sparse_categorical_accuracy: 0.6406 - val_sparse_top_2_categorical_accuracy: 0.8469\n",
            "Epoch 8/10\n",
            "81/81 [==============================] - 24s 297ms/step - loss: 0.6767 - sparse_categorical_accuracy: 0.6690 - sparse_top_2_categorical_accuracy: 0.8665 - val_loss: 0.7966 - val_sparse_categorical_accuracy: 0.6625 - val_sparse_top_2_categorical_accuracy: 0.8687\n",
            "Epoch 9/10\n",
            "81/81 [==============================] - 24s 299ms/step - loss: 0.6179 - sparse_categorical_accuracy: 0.7141 - sparse_top_2_categorical_accuracy: 0.8962 - val_loss: 0.8388 - val_sparse_categorical_accuracy: 0.6469 - val_sparse_top_2_categorical_accuracy: 0.8562\n",
            "Epoch 10/10\n",
            "81/81 [==============================] - 24s 299ms/step - loss: 0.5830 - sparse_categorical_accuracy: 0.7334 - sparse_top_2_categorical_accuracy: 0.9201 - val_loss: 0.8356 - val_sparse_categorical_accuracy: 0.6469 - val_sparse_top_2_categorical_accuracy: 0.8656\n"
          ],
          "name": "stdout"
        }
      ]
    },
    {
      "cell_type": "code",
      "metadata": {
        "id": "8wDPJJc2yUWG",
        "colab_type": "code",
        "outputId": "b09759ce-8cf0-44e2-abec-5ed1bc0524fe",
        "colab": {
          "base_uri": "https://localhost:8080/",
          "height": 69
        }
      },
      "source": [
        "model_4.evaluate(validation_dataset, steps=validation_dataset_steps)"
      ],
      "execution_count": 0,
      "outputs": [
        {
          "output_type": "stream",
          "text": [
            "10/10 [==============================] - 1s 79ms/step - loss: 0.8356 - sparse_categorical_accuracy: 0.6469 - sparse_top_2_categorical_accuracy: 0.8656\n"
          ],
          "name": "stdout"
        },
        {
          "output_type": "execute_result",
          "data": {
            "text/plain": [
              "[0.835593044757843, 0.646875, 0.865625]"
            ]
          },
          "metadata": {
            "tags": []
          },
          "execution_count": 97
        }
      ]
    },
    {
      "cell_type": "code",
      "metadata": {
        "id": "sIbMraLDyaLQ",
        "colab_type": "code",
        "outputId": "1b69d963-eae4-4029-f253-8c3effcafe7b",
        "colab": {
          "base_uri": "https://localhost:8080/",
          "height": 181
        }
      },
      "source": [
        "print(\n",
        "    classification_report(\n",
        "        data_container.validation.y, model_4.predict(validation_dataset).argmax(axis=1)\n",
        "    )\n",
        ")"
      ],
      "execution_count": 0,
      "outputs": [
        {
          "output_type": "stream",
          "text": [
            "              precision    recall  f1-score   support\n",
            "\n",
            "           0       0.70      0.95      0.81       209\n",
            "           1       1.00      0.02      0.04        54\n",
            "           2       0.30      0.20      0.24        65\n",
            "\n",
            "    accuracy                           0.65       328\n",
            "   macro avg       0.67      0.39      0.36       328\n",
            "weighted avg       0.67      0.65      0.57       328\n",
            "\n"
          ],
          "name": "stdout"
        }
      ]
    },
    {
      "cell_type": "code",
      "metadata": {
        "id": "pJrlSwZBzuMV",
        "colab_type": "code",
        "outputId": "1807401c-64c7-42de-8d3a-03f7fe759bdc",
        "colab": {
          "base_uri": "https://localhost:8080/",
          "height": 32
        }
      },
      "source": [
        "np.bincount(data_container.validation.y)"
      ],
      "execution_count": 0,
      "outputs": [
        {
          "output_type": "execute_result",
          "data": {
            "text/plain": [
              "array([209,  54,  65])"
            ]
          },
          "metadata": {
            "tags": []
          },
          "execution_count": 103
        }
      ]
    },
    {
      "cell_type": "markdown",
      "metadata": {
        "id": "BsJv8BNM1p0z",
        "colab_type": "text"
      },
      "source": [
        "Use less neurons"
      ]
    },
    {
      "cell_type": "code",
      "metadata": {
        "id": "vRzK07P54Ks9",
        "colab_type": "code",
        "colab": {}
      },
      "source": [
        "model_4 = make_sequential_lstm_model_2(\n",
        "    n_categories=n_categories,\n",
        "    embedding_size=32,\n",
        "    lstm_size=32,\n",
        "    lstm_dropout=0.2,\n",
        "    dropout=0.5,\n",
        "    l1=1e-8,\n",
        "    l2=1e-8,\n",
        ")"
      ],
      "execution_count": 0,
      "outputs": []
    },
    {
      "cell_type": "code",
      "metadata": {
        "id": "TJCzDWRN4TOt",
        "colab_type": "code",
        "colab": {}
      },
      "source": [
        "model_4.compile(\n",
        "    loss=keras.losses.sparse_categorical_crossentropy,\n",
        "    optimizer=keras.optimizers.Adam(lr=3e-4),\n",
        "    metrics=[\n",
        "        keras.metrics.sparse_categorical_accuracy,\n",
        "        sparse_top_2_categorical_accuracy,\n",
        "    ],\n",
        ")"
      ],
      "execution_count": 0,
      "outputs": []
    },
    {
      "cell_type": "code",
      "metadata": {
        "id": "DZ9OLrYk4Xgu",
        "colab_type": "code",
        "outputId": "f8058935-1c65-49a5-954d-5fde118b7a60",
        "colab": {
          "base_uri": "https://localhost:8080/",
          "height": 316
        }
      },
      "source": [
        "history_4 = model_4.fit(\n",
        "    train_dataset,\n",
        "    steps_per_epoch=train_dataset_steps,\n",
        "    validation_data=validation_dataset,\n",
        "    validation_steps=validation_dataset_steps,\n",
        "    epochs=10,\n",
        "    callbacks=[\n",
        "        keras.callbacks.ReduceLROnPlateau(patience=2, factor=0.3),\n",
        "        keras.callbacks.EarlyStopping(patience=4, restore_best_weights=True),\n",
        "    ],\n",
        "    class_weight=class_weights,\n",
        ")"
      ],
      "execution_count": 0,
      "outputs": [
        {
          "output_type": "stream",
          "text": [
            "Train for 81 steps, validate for 10 steps\n",
            "Epoch 1/10\n",
            "81/81 [==============================] - 13s 158ms/step - loss: 1.0175 - sparse_categorical_accuracy: 0.6142 - sparse_top_2_categorical_accuracy: 0.8218 - val_loss: 0.8397 - val_sparse_categorical_accuracy: 0.6344 - val_sparse_top_2_categorical_accuracy: 0.8500\n",
            "Epoch 2/10\n",
            "81/81 [==============================] - 2s 27ms/step - loss: 0.8325 - sparse_categorical_accuracy: 0.6443 - sparse_top_2_categorical_accuracy: 0.8499 - val_loss: 0.8152 - val_sparse_categorical_accuracy: 0.6344 - val_sparse_top_2_categorical_accuracy: 0.8438\n",
            "Epoch 3/10\n",
            "81/81 [==============================] - 2s 27ms/step - loss: 0.7898 - sparse_categorical_accuracy: 0.6443 - sparse_top_2_categorical_accuracy: 0.8519 - val_loss: 0.7805 - val_sparse_categorical_accuracy: 0.6375 - val_sparse_top_2_categorical_accuracy: 0.8531\n",
            "Epoch 4/10\n",
            "81/81 [==============================] - 2s 27ms/step - loss: 0.6817 - sparse_categorical_accuracy: 0.6728 - sparse_top_2_categorical_accuracy: 0.8681 - val_loss: 0.7597 - val_sparse_categorical_accuracy: 0.6812 - val_sparse_top_2_categorical_accuracy: 0.8781\n",
            "Epoch 5/10\n",
            "81/81 [==============================] - 2s 27ms/step - loss: 0.5642 - sparse_categorical_accuracy: 0.7566 - sparse_top_2_categorical_accuracy: 0.9313 - val_loss: 0.7795 - val_sparse_categorical_accuracy: 0.6781 - val_sparse_top_2_categorical_accuracy: 0.8813\n",
            "Epoch 6/10\n",
            "81/81 [==============================] - 2s 27ms/step - loss: 0.4925 - sparse_categorical_accuracy: 0.7886 - sparse_top_2_categorical_accuracy: 0.9603 - val_loss: 0.7986 - val_sparse_categorical_accuracy: 0.6812 - val_sparse_top_2_categorical_accuracy: 0.8875\n",
            "Epoch 7/10\n",
            "81/81 [==============================] - 2s 27ms/step - loss: 0.4444 - sparse_categorical_accuracy: 0.8079 - sparse_top_2_categorical_accuracy: 0.9691 - val_loss: 0.8071 - val_sparse_categorical_accuracy: 0.6719 - val_sparse_top_2_categorical_accuracy: 0.8750\n",
            "Epoch 8/10\n",
            "81/81 [==============================] - 2s 28ms/step - loss: 0.4356 - sparse_categorical_accuracy: 0.8086 - sparse_top_2_categorical_accuracy: 0.9722 - val_loss: 0.8188 - val_sparse_categorical_accuracy: 0.6750 - val_sparse_top_2_categorical_accuracy: 0.8813\n"
          ],
          "name": "stdout"
        }
      ]
    },
    {
      "cell_type": "code",
      "metadata": {
        "id": "fXmVltIn4gOX",
        "colab_type": "code",
        "outputId": "1c9fb76b-ece0-4474-9570-7e46d235191c",
        "colab": {
          "base_uri": "https://localhost:8080/",
          "height": 181
        }
      },
      "source": [
        "print(\n",
        "    classification_report(\n",
        "        data_container.validation.y, model_4.predict(validation_dataset).argmax(axis=1)\n",
        "    )\n",
        ")"
      ],
      "execution_count": 0,
      "outputs": [
        {
          "output_type": "stream",
          "text": [
            "              precision    recall  f1-score   support\n",
            "\n",
            "           0       0.70      1.00      0.82       209\n",
            "           1       1.00      0.09      0.17        54\n",
            "           2       0.46      0.17      0.25        65\n",
            "\n",
            "    accuracy                           0.68       328\n",
            "   macro avg       0.72      0.42      0.41       328\n",
            "weighted avg       0.70      0.68      0.60       328\n",
            "\n"
          ],
          "name": "stdout"
        }
      ]
    },
    {
      "cell_type": "code",
      "metadata": {
        "id": "n28Z2aLS56Hh",
        "colab_type": "code",
        "colab": {}
      },
      "source": [
        "model_4 = make_sequential_lstm_model_2(\n",
        "    n_categories=n_categories,\n",
        "    embedding_size=32,\n",
        "    lstm_size=32,\n",
        "    lstm_dropout=0.3,\n",
        "    dropout=0.5,\n",
        "    l1=1e-8,\n",
        "    l2=1e-8,\n",
        ")"
      ],
      "execution_count": 0,
      "outputs": []
    },
    {
      "cell_type": "code",
      "metadata": {
        "id": "bSmZT6k96m94",
        "colab_type": "code",
        "colab": {}
      },
      "source": [
        "model_4.compile(\n",
        "    loss=keras.losses.sparse_categorical_crossentropy,\n",
        "    optimizer=keras.optimizers.SGD(lr=3e-5),\n",
        "    metrics=[\n",
        "        keras.metrics.sparse_categorical_accuracy,\n",
        "        sparse_top_2_categorical_accuracy,\n",
        "    ],\n",
        ")"
      ],
      "execution_count": 0,
      "outputs": []
    },
    {
      "cell_type": "code",
      "metadata": {
        "id": "AqkU0rKz6yOT",
        "colab_type": "code",
        "outputId": "b34d1960-47e8-4759-a839-24614acc0c3c",
        "colab": {
          "base_uri": "https://localhost:8080/",
          "height": 382
        }
      },
      "source": [
        "history_4 = model_4.fit(\n",
        "    train_dataset,\n",
        "    steps_per_epoch=train_dataset_steps,\n",
        "    validation_data=validation_dataset,\n",
        "    validation_steps=validation_dataset_steps,\n",
        "    epochs=10,\n",
        "    callbacks=[\n",
        "        keras.callbacks.ReduceLROnPlateau(patience=2, factor=0.3),\n",
        "        keras.callbacks.EarlyStopping(patience=4, restore_best_weights=True),\n",
        "    ],\n",
        "    class_weight=class_weights,\n",
        ")"
      ],
      "execution_count": 0,
      "outputs": [
        {
          "output_type": "stream",
          "text": [
            "Train for 81 steps, validate for 10 steps\n",
            "Epoch 1/10\n",
            "81/81 [==============================] - 13s 165ms/step - loss: 1.1013 - sparse_categorical_accuracy: 0.2851 - sparse_top_2_categorical_accuracy: 0.6130 - val_loss: 1.1003 - val_sparse_categorical_accuracy: 0.2375 - val_sparse_top_2_categorical_accuracy: 0.5688\n",
            "Epoch 2/10\n",
            "81/81 [==============================] - 2s 24ms/step - loss: 1.0998 - sparse_categorical_accuracy: 0.3175 - sparse_top_2_categorical_accuracy: 0.6609 - val_loss: 1.0993 - val_sparse_categorical_accuracy: 0.3031 - val_sparse_top_2_categorical_accuracy: 0.6344\n",
            "Epoch 3/10\n",
            "81/81 [==============================] - 2s 24ms/step - loss: 1.0993 - sparse_categorical_accuracy: 0.3245 - sparse_top_2_categorical_accuracy: 0.6620 - val_loss: 1.0983 - val_sparse_categorical_accuracy: 0.3625 - val_sparse_top_2_categorical_accuracy: 0.7031\n",
            "Epoch 4/10\n",
            "81/81 [==============================] - 2s 24ms/step - loss: 1.0981 - sparse_categorical_accuracy: 0.3499 - sparse_top_2_categorical_accuracy: 0.6775 - val_loss: 1.0972 - val_sparse_categorical_accuracy: 0.4406 - val_sparse_top_2_categorical_accuracy: 0.7750\n",
            "Epoch 5/10\n",
            "81/81 [==============================] - 2s 24ms/step - loss: 1.0969 - sparse_categorical_accuracy: 0.3723 - sparse_top_2_categorical_accuracy: 0.6929 - val_loss: 1.0962 - val_sparse_categorical_accuracy: 0.4969 - val_sparse_top_2_categorical_accuracy: 0.7969\n",
            "Epoch 6/10\n",
            "81/81 [==============================] - 2s 24ms/step - loss: 1.0961 - sparse_categorical_accuracy: 0.3735 - sparse_top_2_categorical_accuracy: 0.7022 - val_loss: 1.0952 - val_sparse_categorical_accuracy: 0.5375 - val_sparse_top_2_categorical_accuracy: 0.8250\n",
            "Epoch 7/10\n",
            "81/81 [==============================] - 2s 24ms/step - loss: 1.0948 - sparse_categorical_accuracy: 0.4101 - sparse_top_2_categorical_accuracy: 0.7180 - val_loss: 1.0942 - val_sparse_categorical_accuracy: 0.5750 - val_sparse_top_2_categorical_accuracy: 0.8344\n",
            "Epoch 8/10\n",
            "81/81 [==============================] - 2s 24ms/step - loss: 1.0938 - sparse_categorical_accuracy: 0.4441 - sparse_top_2_categorical_accuracy: 0.7357 - val_loss: 1.0932 - val_sparse_categorical_accuracy: 0.6000 - val_sparse_top_2_categorical_accuracy: 0.8375\n",
            "Epoch 9/10\n",
            "81/81 [==============================] - 2s 23ms/step - loss: 1.0925 - sparse_categorical_accuracy: 0.4595 - sparse_top_2_categorical_accuracy: 0.7623 - val_loss: 1.0922 - val_sparse_categorical_accuracy: 0.6156 - val_sparse_top_2_categorical_accuracy: 0.8406\n",
            "Epoch 10/10\n",
            "81/81 [==============================] - 2s 24ms/step - loss: 1.0921 - sparse_categorical_accuracy: 0.4691 - sparse_top_2_categorical_accuracy: 0.7643 - val_loss: 1.0913 - val_sparse_categorical_accuracy: 0.6187 - val_sparse_top_2_categorical_accuracy: 0.8344\n"
          ],
          "name": "stdout"
        }
      ]
    },
    {
      "cell_type": "code",
      "metadata": {
        "id": "kbOdxNf961N7",
        "colab_type": "code",
        "outputId": "c4a97cc5-ce88-46f2-e2c8-6bb5bff5bdeb",
        "colab": {
          "base_uri": "https://localhost:8080/",
          "height": 234
        }
      },
      "source": [
        "print(\n",
        "    classification_report(\n",
        "        data_container.validation.y, model_4.predict(validation_dataset).argmax(axis=1)\n",
        "    )\n",
        ")"
      ],
      "execution_count": 0,
      "outputs": [
        {
          "output_type": "stream",
          "text": [
            "              precision    recall  f1-score   support\n",
            "\n",
            "           0       0.63      0.98      0.77       209\n",
            "           1       0.00      0.00      0.00        54\n",
            "           2       0.00      0.00      0.00        65\n",
            "\n",
            "    accuracy                           0.62       328\n",
            "   macro avg       0.21      0.33      0.26       328\n",
            "weighted avg       0.40      0.62      0.49       328\n",
            "\n"
          ],
          "name": "stdout"
        },
        {
          "output_type": "stream",
          "text": [
            "/usr/local/lib/python3.6/dist-packages/sklearn/metrics/classification.py:1437: UndefinedMetricWarning: Precision and F-score are ill-defined and being set to 0.0 in labels with no predicted samples.\n",
            "  'precision', 'predicted', average, warn_for)\n"
          ],
          "name": "stderr"
        }
      ]
    },
    {
      "cell_type": "markdown",
      "metadata": {
        "id": "7JCbSHp71sjv",
        "colab_type": "text"
      },
      "source": [
        "## Wavenet Model"
      ]
    },
    {
      "cell_type": "code",
      "metadata": {
        "id": "3fnw4YmEz9iG",
        "colab_type": "code",
        "colab": {}
      },
      "source": [
        "def make_wavenet_model(n_categories, embedding_size, conv_size, dropout):\n",
        "    model_layers = []\n",
        "    for rate in (1, 2, 4, 8, 16) * 3:\n",
        "        model_layers.append(\n",
        "            keras.layers.Conv1D(\n",
        "                filters=conv_size,\n",
        "                kernel_size=2,\n",
        "                padding=\"causal\",\n",
        "                dilation_rate=rate,  # skips some words dy dialation rate\n",
        "                activation=keras.activations.relu,\n",
        "                kernel_initializer=keras.initializers.he_uniform(),\n",
        "            )\n",
        "        )\n",
        "        model_layers.append(keras.layers.Dropout(dropout))\n",
        "    return keras.models.Sequential(\n",
        "        [\n",
        "            keras.layers.Embedding(\n",
        "                VOCABULARY_SIZE + n_oov_buckets,\n",
        "                embedding_size,\n",
        "                mask_zero=True,\n",
        "                input_shape=[None],\n",
        "            ),\n",
        "            *model_layers,\n",
        "            keras.layers.GlobalMaxPool1D(),\n",
        "            keras.layers.Dropout(dropout),\n",
        "            keras.layers.Dense(n_categories, activation=keras.activations.softmax),\n",
        "        ]\n",
        "    )"
      ],
      "execution_count": 0,
      "outputs": []
    },
    {
      "cell_type": "code",
      "metadata": {
        "id": "Ug7v3HsZ14eS",
        "colab_type": "code",
        "colab": {}
      },
      "source": [
        "model = make_wavenet_model(\n",
        "    n_categories=n_categories, embedding_size=64, conv_size=64, dropout=0.5\n",
        ")"
      ],
      "execution_count": 0,
      "outputs": []
    },
    {
      "cell_type": "code",
      "metadata": {
        "id": "OFNMXrAq19sy",
        "colab_type": "code",
        "colab": {}
      },
      "source": [
        "model.compile(\n",
        "    loss=keras.losses.sparse_categorical_crossentropy,\n",
        "    optimizer=keras.optimizers.Adam(lr=1e-4),\n",
        "    metrics=[\n",
        "        keras.metrics.sparse_categorical_accuracy,\n",
        "        sparse_top_2_categorical_accuracy,\n",
        "    ],\n",
        ")"
      ],
      "execution_count": 0,
      "outputs": []
    },
    {
      "cell_type": "code",
      "metadata": {
        "id": "AfpW_A3y2Fkt",
        "colab_type": "code",
        "outputId": "c2816632-62cd-40c2-bc7f-668ce5f3ca9b",
        "colab": {
          "base_uri": "https://localhost:8080/",
          "height": 32
        }
      },
      "source": [
        "class_weights"
      ],
      "execution_count": 0,
      "outputs": [
        {
          "output_type": "execute_result",
          "data": {
            "text/plain": [
              "{0: 0.5178818415332939, 1: 2.1679073614557485, 2: 1.645323289391086}"
            ]
          },
          "metadata": {
            "tags": []
          },
          "execution_count": 107
        }
      ]
    },
    {
      "cell_type": "code",
      "metadata": {
        "id": "Stwgub5c2Jwy",
        "colab_type": "code",
        "outputId": "fd34daaf-99ff-4256-f999-f5741802cd15",
        "colab": {
          "base_uri": "https://localhost:8080/",
          "height": 382
        }
      },
      "source": [
        "history = model.fit(\n",
        "    train_dataset,\n",
        "    steps_per_epoch=train_dataset_steps,\n",
        "    validation_data=validation_dataset,\n",
        "    validation_steps=validation_dataset_steps,\n",
        "    epochs=10,\n",
        "    callbacks=[\n",
        "        keras.callbacks.ReduceLROnPlateau(patience=2, factor=0.3),\n",
        "        keras.callbacks.EarlyStopping(patience=4, restore_best_weights=True),\n",
        "    ],\n",
        "    class_weight=class_weights,\n",
        ")"
      ],
      "execution_count": 0,
      "outputs": [
        {
          "output_type": "stream",
          "text": [
            "Train for 81 steps, validate for 10 steps\n",
            "Epoch 1/10\n",
            "81/81 [==============================] - 5s 65ms/step - loss: 0.9102 - sparse_categorical_accuracy: 0.6404 - sparse_top_2_categorical_accuracy: 0.8225 - val_loss: 1.0182 - val_sparse_categorical_accuracy: 0.6344 - val_sparse_top_2_categorical_accuracy: 0.8375\n",
            "Epoch 2/10\n",
            "81/81 [==============================] - 5s 65ms/step - loss: 0.9020 - sparse_categorical_accuracy: 0.6416 - sparse_top_2_categorical_accuracy: 0.8264 - val_loss: 1.0150 - val_sparse_categorical_accuracy: 0.6344 - val_sparse_top_2_categorical_accuracy: 0.8375\n",
            "Epoch 3/10\n",
            "81/81 [==============================] - 5s 64ms/step - loss: 0.8980 - sparse_categorical_accuracy: 0.6435 - sparse_top_2_categorical_accuracy: 0.8353 - val_loss: 1.0120 - val_sparse_categorical_accuracy: 0.6344 - val_sparse_top_2_categorical_accuracy: 0.8375\n",
            "Epoch 4/10\n",
            "81/81 [==============================] - 5s 65ms/step - loss: 0.8940 - sparse_categorical_accuracy: 0.6431 - sparse_top_2_categorical_accuracy: 0.8333 - val_loss: 1.0106 - val_sparse_categorical_accuracy: 0.6344 - val_sparse_top_2_categorical_accuracy: 0.8375\n",
            "Epoch 5/10\n",
            "81/81 [==============================] - 5s 64ms/step - loss: 0.8951 - sparse_categorical_accuracy: 0.6416 - sparse_top_2_categorical_accuracy: 0.8306 - val_loss: 1.0097 - val_sparse_categorical_accuracy: 0.6344 - val_sparse_top_2_categorical_accuracy: 0.8375\n",
            "Epoch 6/10\n",
            "81/81 [==============================] - 5s 63ms/step - loss: 0.8865 - sparse_categorical_accuracy: 0.6439 - sparse_top_2_categorical_accuracy: 0.8318 - val_loss: 1.0088 - val_sparse_categorical_accuracy: 0.6344 - val_sparse_top_2_categorical_accuracy: 0.8375\n",
            "Epoch 7/10\n",
            "81/81 [==============================] - 5s 63ms/step - loss: 0.8928 - sparse_categorical_accuracy: 0.6435 - sparse_top_2_categorical_accuracy: 0.8245 - val_loss: 1.0080 - val_sparse_categorical_accuracy: 0.6344 - val_sparse_top_2_categorical_accuracy: 0.8375\n",
            "Epoch 8/10\n",
            "81/81 [==============================] - 5s 64ms/step - loss: 0.8808 - sparse_categorical_accuracy: 0.6408 - sparse_top_2_categorical_accuracy: 0.8345 - val_loss: 1.0068 - val_sparse_categorical_accuracy: 0.6344 - val_sparse_top_2_categorical_accuracy: 0.8375\n",
            "Epoch 9/10\n",
            "81/81 [==============================] - 5s 64ms/step - loss: 0.8764 - sparse_categorical_accuracy: 0.6454 - sparse_top_2_categorical_accuracy: 0.8391 - val_loss: 1.0069 - val_sparse_categorical_accuracy: 0.6344 - val_sparse_top_2_categorical_accuracy: 0.8375\n",
            "Epoch 10/10\n",
            "81/81 [==============================] - 5s 63ms/step - loss: 0.8761 - sparse_categorical_accuracy: 0.6412 - sparse_top_2_categorical_accuracy: 0.8341 - val_loss: 1.0070 - val_sparse_categorical_accuracy: 0.6344 - val_sparse_top_2_categorical_accuracy: 0.8375\n"
          ],
          "name": "stdout"
        }
      ]
    },
    {
      "cell_type": "code",
      "metadata": {
        "id": "Ko4oQhPb2YqY",
        "colab_type": "code",
        "outputId": "4ee3c505-1abb-4a4c-a62c-cff257b4ca77",
        "colab": {
          "base_uri": "https://localhost:8080/",
          "height": 234
        }
      },
      "source": [
        "print(\n",
        "    classification_report(\n",
        "        data_container.validation.y, model.predict(validation_dataset).argmax(axis=1)\n",
        "    )\n",
        ")"
      ],
      "execution_count": 0,
      "outputs": [
        {
          "output_type": "stream",
          "text": [
            "              precision    recall  f1-score   support\n",
            "\n",
            "           0       0.64      1.00      0.78       209\n",
            "           1       0.00      0.00      0.00        54\n",
            "           2       0.00      0.00      0.00        65\n",
            "\n",
            "    accuracy                           0.64       328\n",
            "   macro avg       0.21      0.33      0.26       328\n",
            "weighted avg       0.41      0.64      0.50       328\n",
            "\n"
          ],
          "name": "stdout"
        },
        {
          "output_type": "stream",
          "text": [
            "/usr/local/lib/python3.6/dist-packages/sklearn/metrics/classification.py:1437: UndefinedMetricWarning: Precision and F-score are ill-defined and being set to 0.0 in labels with no predicted samples.\n",
            "  'precision', 'predicted', average, warn_for)\n"
          ],
          "name": "stderr"
        }
      ]
    },
    {
      "cell_type": "code",
      "metadata": {
        "id": "Mg8zrR1P2fd0",
        "colab_type": "code",
        "colab": {}
      },
      "source": [
        ""
      ],
      "execution_count": 0,
      "outputs": []
    },
    {
      "cell_type": "markdown",
      "metadata": {
        "id": "huk8UGLZ73vE",
        "colab_type": "text"
      },
      "source": [
        "# classify negatives by the problem"
      ]
    },
    {
      "cell_type": "code",
      "metadata": {
        "id": "WT-qFMiw8CVo",
        "colab_type": "code",
        "colab": {}
      },
      "source": [
        "negatives = df[df.airline_sentiment == 'negative']"
      ],
      "execution_count": 0,
      "outputs": []
    }
  ]
}